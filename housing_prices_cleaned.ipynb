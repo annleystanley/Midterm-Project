{
 "cells": [
  {
   "cell_type": "markdown",
   "metadata": {},
   "source": [
    "### Clean and Import Dataset: Avg House Price 2020"
   ]
  },
  {
   "cell_type": "code",
   "execution_count": 233,
   "metadata": {},
   "outputs": [],
   "source": [
    "import pandas as pd\n",
    "import numpy as np"
   ]
  },
  {
   "cell_type": "code",
   "execution_count": 234,
   "metadata": {},
   "outputs": [
    {
     "data": {
      "text/html": [
       "<div>\n",
       "<style scoped>\n",
       "    .dataframe tbody tr th:only-of-type {\n",
       "        vertical-align: middle;\n",
       "    }\n",
       "\n",
       "    .dataframe tbody tr th {\n",
       "        vertical-align: top;\n",
       "    }\n",
       "\n",
       "    .dataframe thead th {\n",
       "        text-align: right;\n",
       "    }\n",
       "</style>\n",
       "<table border=\"1\" class=\"dataframe\">\n",
       "  <thead>\n",
       "    <tr style=\"text-align: right;\">\n",
       "      <th></th>\n",
       "      <th>borough</th>\n",
       "      <th>neigborhood</th>\n",
       "      <th>studio</th>\n",
       "      <th>1_bedroom</th>\n",
       "      <th>2_bedroom</th>\n",
       "      <th>3_bedroom</th>\n",
       "    </tr>\n",
       "  </thead>\n",
       "  <tbody>\n",
       "    <tr>\n",
       "      <th>0</th>\n",
       "      <td>manhatan</td>\n",
       "      <td>Chelsea</td>\n",
       "      <td>$2,794</td>\n",
       "      <td>$4,062</td>\n",
       "      <td>$6,997</td>\n",
       "      <td>$11,031</td>\n",
       "    </tr>\n",
       "    <tr>\n",
       "      <th>1</th>\n",
       "      <td>manhatan</td>\n",
       "      <td>East Village</td>\n",
       "      <td>$2,608</td>\n",
       "      <td>$3,280</td>\n",
       "      <td>$4,044</td>\n",
       "      <td>$5,289</td>\n",
       "    </tr>\n",
       "    <tr>\n",
       "      <th>2</th>\n",
       "      <td>manhatan</td>\n",
       "      <td>Flatiron/Union Square</td>\n",
       "      <td>$3,632</td>\n",
       "      <td>$4,645</td>\n",
       "      <td>$8,267</td>\n",
       "      <td>$15,969</td>\n",
       "    </tr>\n",
       "    <tr>\n",
       "      <th>3</th>\n",
       "      <td>manhatan</td>\n",
       "      <td>Gramercy Park</td>\n",
       "      <td>$2,569</td>\n",
       "      <td>$3,656</td>\n",
       "      <td>$5,413</td>\n",
       "      <td>$7,226</td>\n",
       "    </tr>\n",
       "    <tr>\n",
       "      <th>4</th>\n",
       "      <td>manhatan</td>\n",
       "      <td>Greenwich Village</td>\n",
       "      <td>$2,828</td>\n",
       "      <td>$4,116</td>\n",
       "      <td>$8,000</td>\n",
       "      <td>$12,418</td>\n",
       "    </tr>\n",
       "  </tbody>\n",
       "</table>\n",
       "</div>"
      ],
      "text/plain": [
       "    borough            neigborhood  studio 1_bedroom 2_bedroom 3_bedroom\n",
       "0  manhatan                Chelsea  $2,794    $4,062    $6,997   $11,031\n",
       "1  manhatan           East Village  $2,608    $3,280    $4,044    $5,289\n",
       "2  manhatan  Flatiron/Union Square  $3,632    $4,645    $8,267   $15,969\n",
       "3  manhatan          Gramercy Park  $2,569    $3,656    $5,413    $7,226\n",
       "4  manhatan      Greenwich Village  $2,828    $4,116    $8,000   $12,418"
      ]
     },
     "execution_count": 234,
     "metadata": {},
     "output_type": "execute_result"
    }
   ],
   "source": [
    "df = pd.read_csv('nyc_housing_prices_jul_2020.csv')\n",
    "df.head()"
   ]
  },
  {
   "cell_type": "code",
   "execution_count": 235,
   "metadata": {},
   "outputs": [],
   "source": [
    "borough = df['borough'].tolist()\n",
    "borough = [word.replace('manhatan', 'Manhattan') for word in borough]\n",
    "borough = [word.replace('brooklyn', 'Brooklyn') for word in borough]"
   ]
  },
  {
   "cell_type": "code",
   "execution_count": 236,
   "metadata": {},
   "outputs": [],
   "source": [
    "studio = df['studio'].tolist()\n",
    "studio = [word.replace('-', '0') for word in studio]\n",
    "studio = [word.replace('$', '') for word in studio]\n",
    "studio = [word.replace(',', '') for word in studio]\n",
    "studio = [int(s) for s in studio]"
   ]
  },
  {
   "cell_type": "code",
   "execution_count": 237,
   "metadata": {},
   "outputs": [],
   "source": [
    "bed1 = df['1_bedroom'].tolist()\n",
    "bed1 = [word.replace('$', '') for word in bed1]\n",
    "bed1 = [word.replace(',', '') for word in bed1]\n",
    "bed1 = [int(s) for s in bed1]"
   ]
  },
  {
   "cell_type": "code",
   "execution_count": 238,
   "metadata": {},
   "outputs": [],
   "source": [
    "bed2 = df['2_bedroom'].tolist()\n",
    "bed2 = [word.replace('$', '') for word in bed2]\n",
    "bed2 = [word.replace(',', '') for word in bed2]\n",
    "bed2 = [int(s) for s in bed2]"
   ]
  },
  {
   "cell_type": "code",
   "execution_count": 239,
   "metadata": {},
   "outputs": [],
   "source": [
    "bed3 = df['3_bedroom'].tolist()\n",
    "bed3 = [word.replace('-', '0') for word in bed3]\n",
    "bed3 = [word.replace('$', '') for word in bed3]\n",
    "bed3 = [word.replace(',', '') for word in bed3]\n",
    "bed3 = [int(s) for s in bed3]"
   ]
  },
  {
   "cell_type": "code",
   "execution_count": 240,
   "metadata": {},
   "outputs": [
    {
     "data": {
      "text/html": [
       "<div>\n",
       "<style scoped>\n",
       "    .dataframe tbody tr th:only-of-type {\n",
       "        vertical-align: middle;\n",
       "    }\n",
       "\n",
       "    .dataframe tbody tr th {\n",
       "        vertical-align: top;\n",
       "    }\n",
       "\n",
       "    .dataframe thead th {\n",
       "        text-align: right;\n",
       "    }\n",
       "</style>\n",
       "<table border=\"1\" class=\"dataframe\">\n",
       "  <thead>\n",
       "    <tr style=\"text-align: right;\">\n",
       "      <th></th>\n",
       "      <th>borough</th>\n",
       "      <th>neighbourhood</th>\n",
       "      <th>studio</th>\n",
       "      <th>1_bed</th>\n",
       "      <th>2_bed</th>\n",
       "      <th>3_bed</th>\n",
       "    </tr>\n",
       "  </thead>\n",
       "  <tbody>\n",
       "    <tr>\n",
       "      <th>0</th>\n",
       "      <td>Manhattan</td>\n",
       "      <td>Chelsea</td>\n",
       "      <td>2794</td>\n",
       "      <td>4062</td>\n",
       "      <td>6997</td>\n",
       "      <td>11031</td>\n",
       "    </tr>\n",
       "    <tr>\n",
       "      <th>1</th>\n",
       "      <td>Manhattan</td>\n",
       "      <td>East Village</td>\n",
       "      <td>2608</td>\n",
       "      <td>3280</td>\n",
       "      <td>4044</td>\n",
       "      <td>5289</td>\n",
       "    </tr>\n",
       "    <tr>\n",
       "      <th>2</th>\n",
       "      <td>Manhattan</td>\n",
       "      <td>Flatiron/Union Square</td>\n",
       "      <td>3632</td>\n",
       "      <td>4645</td>\n",
       "      <td>8267</td>\n",
       "      <td>15969</td>\n",
       "    </tr>\n",
       "    <tr>\n",
       "      <th>3</th>\n",
       "      <td>Manhattan</td>\n",
       "      <td>Gramercy Park</td>\n",
       "      <td>2569</td>\n",
       "      <td>3656</td>\n",
       "      <td>5413</td>\n",
       "      <td>7226</td>\n",
       "    </tr>\n",
       "    <tr>\n",
       "      <th>4</th>\n",
       "      <td>Manhattan</td>\n",
       "      <td>Greenwich Village</td>\n",
       "      <td>2828</td>\n",
       "      <td>4116</td>\n",
       "      <td>8000</td>\n",
       "      <td>12418</td>\n",
       "    </tr>\n",
       "  </tbody>\n",
       "</table>\n",
       "</div>"
      ],
      "text/plain": [
       "     borough          neighbourhood  studio  1_bed  2_bed  3_bed\n",
       "0  Manhattan                Chelsea    2794   4062   6997  11031\n",
       "1  Manhattan           East Village    2608   3280   4044   5289\n",
       "2  Manhattan  Flatiron/Union Square    3632   4645   8267  15969\n",
       "3  Manhattan          Gramercy Park    2569   3656   5413   7226\n",
       "4  Manhattan      Greenwich Village    2828   4116   8000  12418"
      ]
     },
     "execution_count": 240,
     "metadata": {},
     "output_type": "execute_result"
    }
   ],
   "source": [
    "house_2020 = pd.DataFrame({'borough': borough, \n",
    "                            'neighbourhood': df['neigborhood'],\n",
    "                            'studio': studio,\n",
    "                            '1_bed': bed1,\n",
    "                            '2_bed': bed2,\n",
    "                            '3_bed': bed3})\n",
    "\n",
    "house_2020.head()"
   ]
  },
  {
   "cell_type": "code",
   "execution_count": 264,
   "metadata": {},
   "outputs": [],
   "source": [
    "# replace values that are '-' with NaN (null) as to not skew numeric data\n",
    "house_2020 = house_2020.replace(0, np.nan)"
   ]
  },
  {
   "cell_type": "code",
   "execution_count": 265,
   "metadata": {},
   "outputs": [
    {
     "name": "stdout",
     "output_type": "stream",
     "text": [
      "<class 'pandas.core.frame.DataFrame'>\n",
      "RangeIndex: 55 entries, 0 to 54\n",
      "Data columns (total 6 columns):\n",
      " #   Column         Non-Null Count  Dtype  \n",
      "---  ------         --------------  -----  \n",
      " 0   borough        55 non-null     object \n",
      " 1   neighbourhood  55 non-null     object \n",
      " 2   studio         54 non-null     float64\n",
      " 3   1_bed          55 non-null     int64  \n",
      " 4   2_bed          55 non-null     int64  \n",
      " 5   3_bed          54 non-null     float64\n",
      "dtypes: float64(2), int64(2), object(2)\n",
      "memory usage: 2.7+ KB\n"
     ]
    }
   ],
   "source": [
    "house_2020.info()"
   ]
  },
  {
   "cell_type": "code",
   "execution_count": 266,
   "metadata": {},
   "outputs": [
    {
     "data": {
      "text/plain": [
       "borough          0\n",
       "neighbourhood    0\n",
       "studio           1\n",
       "1_bed            0\n",
       "2_bed            0\n",
       "3_bed            1\n",
       "dtype: int64"
      ]
     },
     "execution_count": 266,
     "metadata": {},
     "output_type": "execute_result"
    }
   ],
   "source": [
    "house_2020.isnull().sum()"
   ]
  },
  {
   "cell_type": "code",
   "execution_count": 267,
   "metadata": {},
   "outputs": [
    {
     "data": {
      "text/html": [
       "<div>\n",
       "<style scoped>\n",
       "    .dataframe tbody tr th:only-of-type {\n",
       "        vertical-align: middle;\n",
       "    }\n",
       "\n",
       "    .dataframe tbody tr th {\n",
       "        vertical-align: top;\n",
       "    }\n",
       "\n",
       "    .dataframe thead th {\n",
       "        text-align: right;\n",
       "    }\n",
       "</style>\n",
       "<table border=\"1\" class=\"dataframe\">\n",
       "  <thead>\n",
       "    <tr style=\"text-align: right;\">\n",
       "      <th></th>\n",
       "      <th>studio</th>\n",
       "      <th>1_bed</th>\n",
       "      <th>2_bed</th>\n",
       "      <th>3_bed</th>\n",
       "    </tr>\n",
       "  </thead>\n",
       "  <tbody>\n",
       "    <tr>\n",
       "      <th>count</th>\n",
       "      <td>54.000000</td>\n",
       "      <td>55.000000</td>\n",
       "      <td>55.000000</td>\n",
       "      <td>54.000000</td>\n",
       "    </tr>\n",
       "    <tr>\n",
       "      <th>mean</th>\n",
       "      <td>2522.518519</td>\n",
       "      <td>3226.072727</td>\n",
       "      <td>4960.600000</td>\n",
       "      <td>7777.259259</td>\n",
       "    </tr>\n",
       "    <tr>\n",
       "      <th>std</th>\n",
       "      <td>630.860232</td>\n",
       "      <td>904.262803</td>\n",
       "      <td>2167.655156</td>\n",
       "      <td>4822.671104</td>\n",
       "    </tr>\n",
       "    <tr>\n",
       "      <th>min</th>\n",
       "      <td>1400.000000</td>\n",
       "      <td>1866.000000</td>\n",
       "      <td>2273.000000</td>\n",
       "      <td>2500.000000</td>\n",
       "    </tr>\n",
       "    <tr>\n",
       "      <th>25%</th>\n",
       "      <td>2128.750000</td>\n",
       "      <td>2535.500000</td>\n",
       "      <td>3345.000000</td>\n",
       "      <td>4115.750000</td>\n",
       "    </tr>\n",
       "    <tr>\n",
       "      <th>50%</th>\n",
       "      <td>2404.500000</td>\n",
       "      <td>3257.000000</td>\n",
       "      <td>4411.000000</td>\n",
       "      <td>6159.500000</td>\n",
       "    </tr>\n",
       "    <tr>\n",
       "      <th>75%</th>\n",
       "      <td>2711.500000</td>\n",
       "      <td>3668.000000</td>\n",
       "      <td>6075.500000</td>\n",
       "      <td>10651.750000</td>\n",
       "    </tr>\n",
       "    <tr>\n",
       "      <th>max</th>\n",
       "      <td>5121.000000</td>\n",
       "      <td>6117.000000</td>\n",
       "      <td>12173.000000</td>\n",
       "      <td>26970.000000</td>\n",
       "    </tr>\n",
       "  </tbody>\n",
       "</table>\n",
       "</div>"
      ],
      "text/plain": [
       "            studio        1_bed         2_bed         3_bed\n",
       "count    54.000000    55.000000     55.000000     54.000000\n",
       "mean   2522.518519  3226.072727   4960.600000   7777.259259\n",
       "std     630.860232   904.262803   2167.655156   4822.671104\n",
       "min    1400.000000  1866.000000   2273.000000   2500.000000\n",
       "25%    2128.750000  2535.500000   3345.000000   4115.750000\n",
       "50%    2404.500000  3257.000000   4411.000000   6159.500000\n",
       "75%    2711.500000  3668.000000   6075.500000  10651.750000\n",
       "max    5121.000000  6117.000000  12173.000000  26970.000000"
      ]
     },
     "execution_count": 267,
     "metadata": {},
     "output_type": "execute_result"
    }
   ],
   "source": [
    "house_2020.describe()"
   ]
  },
  {
   "cell_type": "code",
   "execution_count": 268,
   "metadata": {},
   "outputs": [
    {
     "data": {
      "text/html": [
       "<div>\n",
       "<style scoped>\n",
       "    .dataframe tbody tr th:only-of-type {\n",
       "        vertical-align: middle;\n",
       "    }\n",
       "\n",
       "    .dataframe tbody tr th {\n",
       "        vertical-align: top;\n",
       "    }\n",
       "\n",
       "    .dataframe thead th {\n",
       "        text-align: right;\n",
       "    }\n",
       "</style>\n",
       "<table border=\"1\" class=\"dataframe\">\n",
       "  <thead>\n",
       "    <tr style=\"text-align: right;\">\n",
       "      <th></th>\n",
       "      <th>borough</th>\n",
       "      <th>neighbourhood</th>\n",
       "      <th>studio</th>\n",
       "      <th>1_bed</th>\n",
       "      <th>2_bed</th>\n",
       "      <th>3_bed</th>\n",
       "    </tr>\n",
       "  </thead>\n",
       "  <tbody>\n",
       "  </tbody>\n",
       "</table>\n",
       "</div>"
      ],
      "text/plain": [
       "Empty DataFrame\n",
       "Columns: [borough, neighbourhood, studio, 1_bed, 2_bed, 3_bed]\n",
       "Index: []"
      ]
     },
     "execution_count": 268,
     "metadata": {},
     "output_type": "execute_result"
    }
   ],
   "source": [
    "house_2020[house_2020.duplicated()]"
   ]
  },
  {
   "cell_type": "markdown",
   "metadata": {},
   "source": [
    "### Clean and Import Dataset: Avg House Price 2021"
   ]
  },
  {
   "cell_type": "code",
   "execution_count": 245,
   "metadata": {},
   "outputs": [
    {
     "data": {
      "text/html": [
       "<div>\n",
       "<style scoped>\n",
       "    .dataframe tbody tr th:only-of-type {\n",
       "        vertical-align: middle;\n",
       "    }\n",
       "\n",
       "    .dataframe tbody tr th {\n",
       "        vertical-align: top;\n",
       "    }\n",
       "\n",
       "    .dataframe thead th {\n",
       "        text-align: right;\n",
       "    }\n",
       "</style>\n",
       "<table border=\"1\" class=\"dataframe\">\n",
       "  <thead>\n",
       "    <tr style=\"text-align: right;\">\n",
       "      <th></th>\n",
       "      <th>neighborhood</th>\n",
       "      <th>studio</th>\n",
       "      <th>Unnamed: 2</th>\n",
       "      <th>neighborhood.1</th>\n",
       "      <th>1_bedroom</th>\n",
       "      <th>Unnamed: 5</th>\n",
       "      <th>neighborhood.2</th>\n",
       "      <th>2_bedroom</th>\n",
       "      <th>Unnamed: 8</th>\n",
       "      <th>Unnamed: 9</th>\n",
       "      <th>Unnamed: 10</th>\n",
       "    </tr>\n",
       "  </thead>\n",
       "  <tbody>\n",
       "    <tr>\n",
       "      <th>0</th>\n",
       "      <td>Upper West Side</td>\n",
       "      <td>$1,975</td>\n",
       "      <td>NaN</td>\n",
       "      <td>Upper West Side</td>\n",
       "      <td>$2,750</td>\n",
       "      <td>NaN</td>\n",
       "      <td>Upper West Side</td>\n",
       "      <td>$4,350</td>\n",
       "      <td>NaN</td>\n",
       "      <td>NaN</td>\n",
       "      <td>NaN</td>\n",
       "    </tr>\n",
       "    <tr>\n",
       "      <th>1</th>\n",
       "      <td>Bedford-Stuyvesant</td>\n",
       "      <td>$1,650</td>\n",
       "      <td>NaN</td>\n",
       "      <td>Bedford-Stuyvesant</td>\n",
       "      <td>$1,975</td>\n",
       "      <td>NaN</td>\n",
       "      <td>Bedford-Stuyvesant</td>\n",
       "      <td>$2,200</td>\n",
       "      <td>NaN</td>\n",
       "      <td>NaN</td>\n",
       "      <td>NaN</td>\n",
       "    </tr>\n",
       "    <tr>\n",
       "      <th>2</th>\n",
       "      <td>Bushwick</td>\n",
       "      <td>$1,731</td>\n",
       "      <td>NaN</td>\n",
       "      <td>Bushwick</td>\n",
       "      <td>$2,150</td>\n",
       "      <td>NaN</td>\n",
       "      <td>Bushwick</td>\n",
       "      <td>$2,100</td>\n",
       "      <td>NaN</td>\n",
       "      <td>NaN</td>\n",
       "      <td>NaN</td>\n",
       "    </tr>\n",
       "    <tr>\n",
       "      <th>3</th>\n",
       "      <td>Upper East Side</td>\n",
       "      <td>$1,898</td>\n",
       "      <td>NaN</td>\n",
       "      <td>Upper East Side</td>\n",
       "      <td>$2,395</td>\n",
       "      <td>NaN</td>\n",
       "      <td>Upper East Side</td>\n",
       "      <td>$3,295</td>\n",
       "      <td>NaN</td>\n",
       "      <td>NaN</td>\n",
       "      <td>NaN</td>\n",
       "    </tr>\n",
       "    <tr>\n",
       "      <th>4</th>\n",
       "      <td>Williamsburg</td>\n",
       "      <td>$2,491</td>\n",
       "      <td>NaN</td>\n",
       "      <td>Williamsburg</td>\n",
       "      <td>$2,500</td>\n",
       "      <td>NaN</td>\n",
       "      <td>Williamsburg</td>\n",
       "      <td>$2,584</td>\n",
       "      <td>NaN</td>\n",
       "      <td>NaN</td>\n",
       "      <td>NaN</td>\n",
       "    </tr>\n",
       "  </tbody>\n",
       "</table>\n",
       "</div>"
      ],
      "text/plain": [
       "         neighborhood  studio  Unnamed: 2      neighborhood.1 1_bedroom  \\\n",
       "0     Upper West Side  $1,975         NaN     Upper West Side    $2,750   \n",
       "1  Bedford-Stuyvesant  $1,650         NaN  Bedford-Stuyvesant    $1,975   \n",
       "2            Bushwick  $1,731         NaN            Bushwick    $2,150   \n",
       "3     Upper East Side  $1,898         NaN     Upper East Side    $2,395   \n",
       "4        Williamsburg  $2,491         NaN        Williamsburg    $2,500   \n",
       "\n",
       "   Unnamed: 5      neighborhood.2 2_bedroom  Unnamed: 8  Unnamed: 9  \\\n",
       "0         NaN     Upper West Side    $4,350         NaN         NaN   \n",
       "1         NaN  Bedford-Stuyvesant    $2,200         NaN         NaN   \n",
       "2         NaN            Bushwick    $2,100         NaN         NaN   \n",
       "3         NaN     Upper East Side    $3,295         NaN         NaN   \n",
       "4         NaN        Williamsburg    $2,584         NaN         NaN   \n",
       "\n",
       "   Unnamed: 10  \n",
       "0          NaN  \n",
       "1          NaN  \n",
       "2          NaN  \n",
       "3          NaN  \n",
       "4          NaN  "
      ]
     },
     "execution_count": 245,
     "metadata": {},
     "output_type": "execute_result"
    }
   ],
   "source": [
    "house_2021 = pd.read_csv('nyc_housing_prices_feb_2021.csv')\n",
    "house_2021.head()"
   ]
  },
  {
   "cell_type": "code",
   "execution_count": 246,
   "metadata": {},
   "outputs": [],
   "source": [
    "house_2021 = house_2021.drop(columns=['neighborhood', 'neighborhood.1', 'Unnamed: 2','Unnamed: 5', 'Unnamed: 8', 'Unnamed: 9', 'Unnamed: 10'])\n",
    "house_2021 = house_2021[['neighborhood.2', 'studio', '1_bedroom', '2_bedroom']]"
   ]
  },
  {
   "cell_type": "code",
   "execution_count": 247,
   "metadata": {},
   "outputs": [
    {
     "data": {
      "text/html": [
       "<div>\n",
       "<style scoped>\n",
       "    .dataframe tbody tr th:only-of-type {\n",
       "        vertical-align: middle;\n",
       "    }\n",
       "\n",
       "    .dataframe tbody tr th {\n",
       "        vertical-align: top;\n",
       "    }\n",
       "\n",
       "    .dataframe thead th {\n",
       "        text-align: right;\n",
       "    }\n",
       "</style>\n",
       "<table border=\"1\" class=\"dataframe\">\n",
       "  <thead>\n",
       "    <tr style=\"text-align: right;\">\n",
       "      <th></th>\n",
       "      <th>neighborhood</th>\n",
       "      <th>studio</th>\n",
       "      <th>1_bed</th>\n",
       "      <th>2_bed</th>\n",
       "    </tr>\n",
       "  </thead>\n",
       "  <tbody>\n",
       "    <tr>\n",
       "      <th>0</th>\n",
       "      <td>Upper West Side</td>\n",
       "      <td>$1,975</td>\n",
       "      <td>$2,750</td>\n",
       "      <td>$4,350</td>\n",
       "    </tr>\n",
       "    <tr>\n",
       "      <th>1</th>\n",
       "      <td>Bedford-Stuyvesant</td>\n",
       "      <td>$1,650</td>\n",
       "      <td>$1,975</td>\n",
       "      <td>$2,200</td>\n",
       "    </tr>\n",
       "    <tr>\n",
       "      <th>2</th>\n",
       "      <td>Bushwick</td>\n",
       "      <td>$1,731</td>\n",
       "      <td>$2,150</td>\n",
       "      <td>$2,100</td>\n",
       "    </tr>\n",
       "    <tr>\n",
       "      <th>3</th>\n",
       "      <td>Upper East Side</td>\n",
       "      <td>$1,898</td>\n",
       "      <td>$2,395</td>\n",
       "      <td>$3,295</td>\n",
       "    </tr>\n",
       "    <tr>\n",
       "      <th>4</th>\n",
       "      <td>Williamsburg</td>\n",
       "      <td>$2,491</td>\n",
       "      <td>$2,500</td>\n",
       "      <td>$2,584</td>\n",
       "    </tr>\n",
       "  </tbody>\n",
       "</table>\n",
       "</div>"
      ],
      "text/plain": [
       "         neighborhood  studio   1_bed   2_bed\n",
       "0     Upper West Side  $1,975  $2,750  $4,350\n",
       "1  Bedford-Stuyvesant  $1,650  $1,975  $2,200\n",
       "2            Bushwick  $1,731  $2,150  $2,100\n",
       "3     Upper East Side  $1,898  $2,395  $3,295\n",
       "4        Williamsburg  $2,491  $2,500  $2,584"
      ]
     },
     "execution_count": 247,
     "metadata": {},
     "output_type": "execute_result"
    }
   ],
   "source": [
    "house_2021.columns = ['neighborhood', 'studio', '1_bed', '2_bed']\n",
    "house_2021.head()"
   ]
  },
  {
   "cell_type": "code",
   "execution_count": 248,
   "metadata": {},
   "outputs": [],
   "source": [
    "house_2021 = house_2021.fillna('-')"
   ]
  },
  {
   "cell_type": "code",
   "execution_count": 249,
   "metadata": {},
   "outputs": [],
   "source": [
    "studio = house_2021['studio'].tolist()\n",
    "studio = [word.replace('-', '0') for word in studio]\n",
    "studio = [word.replace('$', '') for word in studio]\n",
    "studio = [word.replace(',', '') for word in studio]\n",
    "studio = [int(s) for s in studio]"
   ]
  },
  {
   "cell_type": "code",
   "execution_count": 250,
   "metadata": {},
   "outputs": [],
   "source": [
    "bed1 = house_2021['1_bed'].tolist()\n",
    "bed1 = [word.replace('-', '0') for word in bed1]\n",
    "bed1 = [word.replace('$', '') for word in bed1]\n",
    "bed1 = [word.replace(',', '') for word in bed1]\n",
    "bed1 = [int(s) for s in bed1]"
   ]
  },
  {
   "cell_type": "code",
   "execution_count": 251,
   "metadata": {},
   "outputs": [],
   "source": [
    "bed2 = house_2021['2_bed'].tolist()\n",
    "bed2 = [word.replace('-', '0') for word in bed2]\n",
    "bed2 = [word.replace('$', '') for word in bed2]\n",
    "bed2 = [word.replace(',', '') for word in bed2]\n",
    "bed2 = [int(s) for s in bed2]"
   ]
  },
  {
   "cell_type": "code",
   "execution_count": 269,
   "metadata": {},
   "outputs": [
    {
     "data": {
      "text/html": [
       "<div>\n",
       "<style scoped>\n",
       "    .dataframe tbody tr th:only-of-type {\n",
       "        vertical-align: middle;\n",
       "    }\n",
       "\n",
       "    .dataframe tbody tr th {\n",
       "        vertical-align: top;\n",
       "    }\n",
       "\n",
       "    .dataframe thead th {\n",
       "        text-align: right;\n",
       "    }\n",
       "</style>\n",
       "<table border=\"1\" class=\"dataframe\">\n",
       "  <thead>\n",
       "    <tr style=\"text-align: right;\">\n",
       "      <th></th>\n",
       "      <th>neighbourhood</th>\n",
       "      <th>studio</th>\n",
       "      <th>1_bed</th>\n",
       "      <th>2_bed</th>\n",
       "    </tr>\n",
       "  </thead>\n",
       "  <tbody>\n",
       "    <tr>\n",
       "      <th>0</th>\n",
       "      <td>Upper West Side</td>\n",
       "      <td>1975</td>\n",
       "      <td>2750</td>\n",
       "      <td>4350</td>\n",
       "    </tr>\n",
       "    <tr>\n",
       "      <th>1</th>\n",
       "      <td>Bedford-Stuyvesant</td>\n",
       "      <td>1650</td>\n",
       "      <td>1975</td>\n",
       "      <td>2200</td>\n",
       "    </tr>\n",
       "    <tr>\n",
       "      <th>2</th>\n",
       "      <td>Bushwick</td>\n",
       "      <td>1731</td>\n",
       "      <td>2150</td>\n",
       "      <td>2100</td>\n",
       "    </tr>\n",
       "    <tr>\n",
       "      <th>3</th>\n",
       "      <td>Upper East Side</td>\n",
       "      <td>1898</td>\n",
       "      <td>2395</td>\n",
       "      <td>3295</td>\n",
       "    </tr>\n",
       "    <tr>\n",
       "      <th>4</th>\n",
       "      <td>Williamsburg</td>\n",
       "      <td>2491</td>\n",
       "      <td>2500</td>\n",
       "      <td>2584</td>\n",
       "    </tr>\n",
       "  </tbody>\n",
       "</table>\n",
       "</div>"
      ],
      "text/plain": [
       "        neighbourhood  studio  1_bed  2_bed\n",
       "0     Upper West Side    1975   2750   4350\n",
       "1  Bedford-Stuyvesant    1650   1975   2200\n",
       "2            Bushwick    1731   2150   2100\n",
       "3     Upper East Side    1898   2395   3295\n",
       "4        Williamsburg    2491   2500   2584"
      ]
     },
     "execution_count": 269,
     "metadata": {},
     "output_type": "execute_result"
    }
   ],
   "source": [
    "house_2021_n = pd.DataFrame({'neighbourhood': house_2021['neighborhood'],\n",
    "                                'studio': studio,\n",
    "                                '1_bed': bed1,\n",
    "                                '2_bed': bed2,\n",
    "                                })\n",
    "\n",
    "house_2021_n.head()"
   ]
  },
  {
   "cell_type": "code",
   "execution_count": 270,
   "metadata": {},
   "outputs": [],
   "source": [
    "# replace values that are '-' with NaN (null) as to not skew numeric data\n",
    "house_2021_clean = house_2021_n.replace(0, np.nan)"
   ]
  },
  {
   "cell_type": "code",
   "execution_count": 271,
   "metadata": {},
   "outputs": [
    {
     "name": "stdout",
     "output_type": "stream",
     "text": [
      "<class 'pandas.core.frame.DataFrame'>\n",
      "RangeIndex: 205 entries, 0 to 204\n",
      "Data columns (total 4 columns):\n",
      " #   Column         Non-Null Count  Dtype  \n",
      "---  ------         --------------  -----  \n",
      " 0   neighbourhood  205 non-null    object \n",
      " 1   studio         137 non-null    float64\n",
      " 2   1_bed          194 non-null    float64\n",
      " 3   2_bed          205 non-null    int64  \n",
      "dtypes: float64(2), int64(1), object(1)\n",
      "memory usage: 6.5+ KB\n"
     ]
    }
   ],
   "source": [
    "house_2021_clean.info()"
   ]
  },
  {
   "cell_type": "code",
   "execution_count": 272,
   "metadata": {},
   "outputs": [
    {
     "data": {
      "text/plain": [
       "neighbourhood     0\n",
       "studio           68\n",
       "1_bed            11\n",
       "2_bed             0\n",
       "dtype: int64"
      ]
     },
     "execution_count": 272,
     "metadata": {},
     "output_type": "execute_result"
    }
   ],
   "source": [
    "house_2021_clean.isnull().sum()"
   ]
  },
  {
   "cell_type": "code",
   "execution_count": 273,
   "metadata": {},
   "outputs": [
    {
     "data": {
      "text/html": [
       "<div>\n",
       "<style scoped>\n",
       "    .dataframe tbody tr th:only-of-type {\n",
       "        vertical-align: middle;\n",
       "    }\n",
       "\n",
       "    .dataframe tbody tr th {\n",
       "        vertical-align: top;\n",
       "    }\n",
       "\n",
       "    .dataframe thead th {\n",
       "        text-align: right;\n",
       "    }\n",
       "</style>\n",
       "<table border=\"1\" class=\"dataframe\">\n",
       "  <thead>\n",
       "    <tr style=\"text-align: right;\">\n",
       "      <th></th>\n",
       "      <th>neighbourhood</th>\n",
       "      <th>studio</th>\n",
       "      <th>1_bed</th>\n",
       "      <th>2_bed</th>\n",
       "    </tr>\n",
       "  </thead>\n",
       "  <tbody>\n",
       "  </tbody>\n",
       "</table>\n",
       "</div>"
      ],
      "text/plain": [
       "Empty DataFrame\n",
       "Columns: [neighbourhood, studio, 1_bed, 2_bed]\n",
       "Index: []"
      ]
     },
     "execution_count": 273,
     "metadata": {},
     "output_type": "execute_result"
    }
   ],
   "source": [
    "house_2021_clean[house_2021_clean.duplicated()]"
   ]
  },
  {
   "cell_type": "code",
   "execution_count": 274,
   "metadata": {},
   "outputs": [
    {
     "data": {
      "text/html": [
       "<div>\n",
       "<style scoped>\n",
       "    .dataframe tbody tr th:only-of-type {\n",
       "        vertical-align: middle;\n",
       "    }\n",
       "\n",
       "    .dataframe tbody tr th {\n",
       "        vertical-align: top;\n",
       "    }\n",
       "\n",
       "    .dataframe thead th {\n",
       "        text-align: right;\n",
       "    }\n",
       "</style>\n",
       "<table border=\"1\" class=\"dataframe\">\n",
       "  <thead>\n",
       "    <tr style=\"text-align: right;\">\n",
       "      <th></th>\n",
       "      <th>studio</th>\n",
       "      <th>1_bed</th>\n",
       "      <th>2_bed</th>\n",
       "    </tr>\n",
       "  </thead>\n",
       "  <tbody>\n",
       "    <tr>\n",
       "      <th>count</th>\n",
       "      <td>137.000000</td>\n",
       "      <td>194.000000</td>\n",
       "      <td>205.000000</td>\n",
       "    </tr>\n",
       "    <tr>\n",
       "      <th>mean</th>\n",
       "      <td>2019.386861</td>\n",
       "      <td>1999.505155</td>\n",
       "      <td>2522.102439</td>\n",
       "    </tr>\n",
       "    <tr>\n",
       "      <th>std</th>\n",
       "      <td>726.458070</td>\n",
       "      <td>656.723483</td>\n",
       "      <td>1104.520526</td>\n",
       "    </tr>\n",
       "    <tr>\n",
       "      <th>min</th>\n",
       "      <td>947.000000</td>\n",
       "      <td>1100.000000</td>\n",
       "      <td>1377.000000</td>\n",
       "    </tr>\n",
       "    <tr>\n",
       "      <th>25%</th>\n",
       "      <td>1575.000000</td>\n",
       "      <td>1600.000000</td>\n",
       "      <td>1950.000000</td>\n",
       "    </tr>\n",
       "    <tr>\n",
       "      <th>50%</th>\n",
       "      <td>1850.000000</td>\n",
       "      <td>1750.000000</td>\n",
       "      <td>2109.000000</td>\n",
       "    </tr>\n",
       "    <tr>\n",
       "      <th>75%</th>\n",
       "      <td>2300.000000</td>\n",
       "      <td>2287.500000</td>\n",
       "      <td>2645.000000</td>\n",
       "    </tr>\n",
       "    <tr>\n",
       "      <th>max</th>\n",
       "      <td>5900.000000</td>\n",
       "      <td>5483.000000</td>\n",
       "      <td>9295.000000</td>\n",
       "    </tr>\n",
       "  </tbody>\n",
       "</table>\n",
       "</div>"
      ],
      "text/plain": [
       "            studio        1_bed        2_bed\n",
       "count   137.000000   194.000000   205.000000\n",
       "mean   2019.386861  1999.505155  2522.102439\n",
       "std     726.458070   656.723483  1104.520526\n",
       "min     947.000000  1100.000000  1377.000000\n",
       "25%    1575.000000  1600.000000  1950.000000\n",
       "50%    1850.000000  1750.000000  2109.000000\n",
       "75%    2300.000000  2287.500000  2645.000000\n",
       "max    5900.000000  5483.000000  9295.000000"
      ]
     },
     "execution_count": 274,
     "metadata": {},
     "output_type": "execute_result"
    }
   ],
   "source": [
    "house_2021_clean.describe()"
   ]
  },
  {
   "cell_type": "markdown",
   "metadata": {},
   "source": [
    "### Clean and Import Dataset: Avg House Price 2021 Zip Codes"
   ]
  },
  {
   "cell_type": "code",
   "execution_count": 275,
   "metadata": {},
   "outputs": [
    {
     "data": {
      "text/html": [
       "<div>\n",
       "<style scoped>\n",
       "    .dataframe tbody tr th:only-of-type {\n",
       "        vertical-align: middle;\n",
       "    }\n",
       "\n",
       "    .dataframe tbody tr th {\n",
       "        vertical-align: top;\n",
       "    }\n",
       "\n",
       "    .dataframe thead th {\n",
       "        text-align: right;\n",
       "    }\n",
       "</style>\n",
       "<table border=\"1\" class=\"dataframe\">\n",
       "  <thead>\n",
       "    <tr style=\"text-align: right;\">\n",
       "      <th></th>\n",
       "      <th>borough</th>\n",
       "      <th>neighborhood</th>\n",
       "      <th>zip_codes</th>\n",
       "    </tr>\n",
       "  </thead>\n",
       "  <tbody>\n",
       "    <tr>\n",
       "      <th>0</th>\n",
       "      <td>Bronx</td>\n",
       "      <td>Central Bronx</td>\n",
       "      <td>10453, 10457, 10460</td>\n",
       "    </tr>\n",
       "    <tr>\n",
       "      <th>1</th>\n",
       "      <td>Bronx</td>\n",
       "      <td>Bronx Park and Fordham</td>\n",
       "      <td>10458, 10467, 10468</td>\n",
       "    </tr>\n",
       "    <tr>\n",
       "      <th>2</th>\n",
       "      <td>Bronx</td>\n",
       "      <td>High Bridge and Morrisania</td>\n",
       "      <td>10451, 10452, 10456</td>\n",
       "    </tr>\n",
       "    <tr>\n",
       "      <th>3</th>\n",
       "      <td>Bronx</td>\n",
       "      <td>Hunts Point and Mott Haven</td>\n",
       "      <td>10454, 10455, 10459, 10474</td>\n",
       "    </tr>\n",
       "    <tr>\n",
       "      <th>4</th>\n",
       "      <td>Bronx</td>\n",
       "      <td>Kingsbridge and Riverdale</td>\n",
       "      <td>10463, 10471</td>\n",
       "    </tr>\n",
       "  </tbody>\n",
       "</table>\n",
       "</div>"
      ],
      "text/plain": [
       "  borough                neighborhood                   zip_codes\n",
       "0   Bronx               Central Bronx         10453, 10457, 10460\n",
       "1   Bronx      Bronx Park and Fordham         10458, 10467, 10468\n",
       "2   Bronx  High Bridge and Morrisania         10451, 10452, 10456\n",
       "3   Bronx  Hunts Point and Mott Haven  10454, 10455, 10459, 10474\n",
       "4   Bronx   Kingsbridge and Riverdale                10463, 10471"
      ]
     },
     "execution_count": 275,
     "metadata": {},
     "output_type": "execute_result"
    }
   ],
   "source": [
    "house_2021_zip = pd.read_csv('nyc_housing_prices_feb_2021_zip.csv')\n",
    "house_2021_zip.head()"
   ]
  },
  {
   "cell_type": "markdown",
   "metadata": {},
   "source": [
    "Looks good, may potentially split zip codes column to independent columns"
   ]
  }
 ],
 "metadata": {
  "kernelspec": {
   "display_name": "Python 3.9.13 ('project_env')",
   "language": "python",
   "name": "python3"
  },
  "language_info": {
   "codemirror_mode": {
    "name": "ipython",
    "version": 3
   },
   "file_extension": ".py",
   "mimetype": "text/x-python",
   "name": "python",
   "nbconvert_exporter": "python",
   "pygments_lexer": "ipython3",
   "version": "3.9.13"
  },
  "orig_nbformat": 4,
  "vscode": {
   "interpreter": {
    "hash": "cab4d223de3b4302c2a639a020fd916bf60f907757187d366ed338efdc50eea1"
   }
  }
 },
 "nbformat": 4,
 "nbformat_minor": 2
}
