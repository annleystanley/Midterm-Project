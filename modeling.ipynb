{
 "cells": [
  {
   "cell_type": "markdown",
   "metadata": {},
   "source": [
    "# Clustering\n",
    "In this file, instructions how to approach the challenge can be found.\n",
    "\n",
    "We can use different types of clustering algorithms:\n",
    "\n",
    "- KMeans\n",
    "- Hierarchical\n",
    "- DBScan"
   ]
  },
  {
   "cell_type": "markdown",
   "metadata": {},
   "source": [
    "## Segmentation of NYC neighborhoods\n",
    "\n",
    "The goal of this project is to segment the neighborhoods of New York City into separate clusters and examine the information about them. For clustering, We can use any available information **except** demographic and economic indicators. We don't want to segment them based on those and we want to keep them for the **profiling of clusters** to see if there are any important economic differences between the created clusters."
   ]
  },
  {
   "cell_type": "markdown",
   "metadata": {},
   "source": [
    "### Feature Engineering\n",
    "\n",
    "Feature engineering plays a crucial role in this problem. We have limited amount of attributes so we need to create some features that will be important for segmentation.\n",
    "\n",
    "- Google Places, Yelp and Foursquare APIs: number of venues, density of venues per square mile, number of restaurants, top restarurant category...\n",
    "- Uber: number of rides per day in the neighborhood\n",
    "- Meetups: number of events\n",
    "- etc...\n",
    "\n",
    "[Feature Engineering Article](https://machinelearningmastery.com/discover-feature-engineering-how-to-engineer-features-and-how-to-get-good-at-it/)\n",
    "\n",
    "[Another Feature Engineering Article](https://towardsdatascience.com/understanding-feature-engineering-part-1-continuous-numeric-data-da4e47099a7b)"
   ]
  },
  {
   "cell_type": "code",
   "execution_count": 3,
   "metadata": {},
   "outputs": [],
   "source": [
    "# Import modules\n",
    "import pandas as pd\n",
    "import numpy as np"
   ]
  },
  {
   "cell_type": "code",
   "execution_count": 14,
   "metadata": {},
   "outputs": [],
   "source": [
    "poi = pd.read_csv('full_poi.csv')\n",
    "uber = pd.read_csv('clean_data/uber_rides.csv')\n",
    "rats = pd.read_csv('clean_data/rat_sightings_sample_cleaned.csv')"
   ]
  },
  {
   "cell_type": "code",
   "execution_count": 17,
   "metadata": {},
   "outputs": [
    {
     "data": {
      "text/html": [
       "<div>\n",
       "<style scoped>\n",
       "    .dataframe tbody tr th:only-of-type {\n",
       "        vertical-align: middle;\n",
       "    }\n",
       "\n",
       "    .dataframe tbody tr th {\n",
       "        vertical-align: top;\n",
       "    }\n",
       "\n",
       "    .dataframe thead th {\n",
       "        text-align: right;\n",
       "    }\n",
       "</style>\n",
       "<table border=\"1\" class=\"dataframe\">\n",
       "  <thead>\n",
       "    <tr style=\"text-align: right;\">\n",
       "      <th></th>\n",
       "      <th>Name</th>\n",
       "      <th>Rating</th>\n",
       "      <th>Price</th>\n",
       "      <th>Latitude</th>\n",
       "      <th>Longitude</th>\n",
       "      <th>Borough</th>\n",
       "      <th>Zipcode</th>\n",
       "      <th>Category</th>\n",
       "    </tr>\n",
       "  </thead>\n",
       "  <tbody>\n",
       "    <tr>\n",
       "      <th>0</th>\n",
       "      <td>Ripe Kitchen &amp; Bar</td>\n",
       "      <td>1.918605</td>\n",
       "      <td>2.50</td>\n",
       "      <td>40.898209</td>\n",
       "      <td>-73.838855</td>\n",
       "      <td>Mount Vernon</td>\n",
       "      <td>NaN</td>\n",
       "      <td>restaurant</td>\n",
       "    </tr>\n",
       "    <tr>\n",
       "      <th>1</th>\n",
       "      <td>New China Garden</td>\n",
       "      <td>1.686047</td>\n",
       "      <td>1.25</td>\n",
       "      <td>40.897919</td>\n",
       "      <td>-73.853364</td>\n",
       "      <td>Bronx</td>\n",
       "      <td>10466.0</td>\n",
       "      <td>restaurant</td>\n",
       "    </tr>\n",
       "    <tr>\n",
       "      <th>2</th>\n",
       "      <td>Dunkin'</td>\n",
       "      <td>1.627907</td>\n",
       "      <td>1.25</td>\n",
       "      <td>40.890459</td>\n",
       "      <td>-73.849089</td>\n",
       "      <td>Bronx</td>\n",
       "      <td>10466.0</td>\n",
       "      <td>restaurant</td>\n",
       "    </tr>\n",
       "    <tr>\n",
       "      <th>3</th>\n",
       "      <td>Subway</td>\n",
       "      <td>1.511628</td>\n",
       "      <td>1.25</td>\n",
       "      <td>40.890468</td>\n",
       "      <td>-73.849152</td>\n",
       "      <td>Bronx</td>\n",
       "      <td>10466.0</td>\n",
       "      <td>restaurant</td>\n",
       "    </tr>\n",
       "    <tr>\n",
       "      <th>4</th>\n",
       "      <td>Popeyes Louisiana Kitchen</td>\n",
       "      <td>1.627907</td>\n",
       "      <td>1.25</td>\n",
       "      <td>40.889492</td>\n",
       "      <td>-73.843383</td>\n",
       "      <td>Bronx</td>\n",
       "      <td>10466.0</td>\n",
       "      <td>restaurant</td>\n",
       "    </tr>\n",
       "    <tr>\n",
       "      <th>...</th>\n",
       "      <td>...</td>\n",
       "      <td>...</td>\n",
       "      <td>...</td>\n",
       "      <td>...</td>\n",
       "      <td>...</td>\n",
       "      <td>...</td>\n",
       "      <td>...</td>\n",
       "      <td>...</td>\n",
       "    </tr>\n",
       "    <tr>\n",
       "      <th>27217</th>\n",
       "      <td>My Way Deli</td>\n",
       "      <td>NaN</td>\n",
       "      <td>NaN</td>\n",
       "      <td>40.617311</td>\n",
       "      <td>-74.081740</td>\n",
       "      <td>Staten Island</td>\n",
       "      <td>10304.0</td>\n",
       "      <td>restaurant</td>\n",
       "    </tr>\n",
       "    <tr>\n",
       "      <th>27218</th>\n",
       "      <td>Campo Bello</td>\n",
       "      <td>NaN</td>\n",
       "      <td>NaN</td>\n",
       "      <td>40.617311</td>\n",
       "      <td>-74.081740</td>\n",
       "      <td>Staten Island</td>\n",
       "      <td>10304.0</td>\n",
       "      <td>restaurant</td>\n",
       "    </tr>\n",
       "    <tr>\n",
       "      <th>27219</th>\n",
       "      <td>Al Baraka Restaurant</td>\n",
       "      <td>2.325581</td>\n",
       "      <td>NaN</td>\n",
       "      <td>40.617311</td>\n",
       "      <td>-74.081740</td>\n",
       "      <td>Staten Island</td>\n",
       "      <td>10304.0</td>\n",
       "      <td>restaurant</td>\n",
       "    </tr>\n",
       "    <tr>\n",
       "      <th>27220</th>\n",
       "      <td>Chicken R Us</td>\n",
       "      <td>2.325581</td>\n",
       "      <td>NaN</td>\n",
       "      <td>40.617311</td>\n",
       "      <td>-74.081740</td>\n",
       "      <td>Staten Island</td>\n",
       "      <td>10304.0</td>\n",
       "      <td>restaurant</td>\n",
       "    </tr>\n",
       "    <tr>\n",
       "      <th>27221</th>\n",
       "      <td>Wing Express</td>\n",
       "      <td>2.325581</td>\n",
       "      <td>NaN</td>\n",
       "      <td>40.617311</td>\n",
       "      <td>-74.081740</td>\n",
       "      <td>Staten Island</td>\n",
       "      <td>10304.0</td>\n",
       "      <td>restaurant</td>\n",
       "    </tr>\n",
       "  </tbody>\n",
       "</table>\n",
       "<p>27222 rows × 8 columns</p>\n",
       "</div>"
      ],
      "text/plain": [
       "                            Name    Rating  Price   Latitude  Longitude  \\\n",
       "0             Ripe Kitchen & Bar  1.918605   2.50  40.898209 -73.838855   \n",
       "1               New China Garden  1.686047   1.25  40.897919 -73.853364   \n",
       "2                        Dunkin'  1.627907   1.25  40.890459 -73.849089   \n",
       "3                         Subway  1.511628   1.25  40.890468 -73.849152   \n",
       "4      Popeyes Louisiana Kitchen  1.627907   1.25  40.889492 -73.843383   \n",
       "...                          ...       ...    ...        ...        ...   \n",
       "27217                My Way Deli       NaN    NaN  40.617311 -74.081740   \n",
       "27218                Campo Bello       NaN    NaN  40.617311 -74.081740   \n",
       "27219       Al Baraka Restaurant  2.325581    NaN  40.617311 -74.081740   \n",
       "27220               Chicken R Us  2.325581    NaN  40.617311 -74.081740   \n",
       "27221               Wing Express  2.325581    NaN  40.617311 -74.081740   \n",
       "\n",
       "             Borough  Zipcode    Category  \n",
       "0       Mount Vernon      NaN  restaurant  \n",
       "1              Bronx  10466.0  restaurant  \n",
       "2              Bronx  10466.0  restaurant  \n",
       "3              Bronx  10466.0  restaurant  \n",
       "4              Bronx  10466.0  restaurant  \n",
       "...              ...      ...         ...  \n",
       "27217  Staten Island  10304.0  restaurant  \n",
       "27218  Staten Island  10304.0  restaurant  \n",
       "27219  Staten Island  10304.0  restaurant  \n",
       "27220  Staten Island  10304.0  restaurant  \n",
       "27221  Staten Island  10304.0  restaurant  \n",
       "\n",
       "[27222 rows x 8 columns]"
      ]
     },
     "execution_count": 17,
     "metadata": {},
     "output_type": "execute_result"
    }
   ],
   "source": [
    "poi"
   ]
  },
  {
   "cell_type": "markdown",
   "metadata": {},
   "source": [
    "### Feature Selection / Dimensionality Reduction\n",
    "We need to apply different selection techniques to find out which one will be the best for our problems.\n",
    "\n",
    "Original Features vs. PCA components?\n",
    "\n",
    "Don't forget to scale the features for KMeans.\n",
    "\n",
    "Articles\n",
    "\n",
    "[Feature Selection](https://machinelearningmastery.com/an-introduction-to-feature-selection/)\n",
    "\n",
    "[Feature Selection 2](https://machinelearningmastery.com/feature-selection-with-real-and-categorical-data/)\n",
    "\n",
    "[Feature Selection w/ Scikit-learn 1](https://machinelearningmastery.com/feature-selection-in-python-with-scikit-learn/)\n",
    "\n",
    "[Feature Selection w/ Scikit-learn 2](https://scikit-learn.org/stable/modules/feature_selection.html)\n",
    "\n",
    "[Scaling/Normilization](https://towardsai.net/p/data-science/how-when-and-why-should-you-normalize-standardize-rescale-your-data-3f083def38ff)\n",
    "\n",
    "[PCA](https://drscotthawley.github.io/blog/2019/12/21/PCA-From-Scratch.html)\n",
    "\n",
    "[Regression](https://datatofish.com/statsmodels-linear-regression/)"
   ]
  },
  {
   "cell_type": "markdown",
   "metadata": {},
   "source": [
    "#### Feature Selection"
   ]
  },
  {
   "cell_type": "code",
   "execution_count": 4,
   "metadata": {},
   "outputs": [],
   "source": [
    "import statsmodels.api as sm\n",
    "from sklearn.linear_model import LinearRegression\n",
    "import matplotlib.pyplot as plt\n",
    "%matplotlib inline"
   ]
  },
  {
   "cell_type": "code",
   "execution_count": null,
   "metadata": {},
   "outputs": [],
   "source": [
    "# Chi-squared test\n",
    "# ANOVA\n",
    "# For all 3 types of features? (pois, uber, location (i assume means housing/nyc json data), rats)\n",
    "# classification, categorical (ordinal, nominal data types)"
   ]
  },
  {
   "cell_type": "markdown",
   "metadata": {},
   "source": [
    "#### PCA"
   ]
  },
  {
   "cell_type": "code",
   "execution_count": null,
   "metadata": {},
   "outputs": [],
   "source": []
  },
  {
   "cell_type": "markdown",
   "metadata": {},
   "source": [
    "### Modeling\n",
    "\n",
    "Use different attributes and clustering techniques and compare the created clusters:\n",
    "\n",
    "- clustering only on restaurant features\n",
    "- clustering only on Uber features\n",
    "- clustering only on location\n",
    "- combination of all\n",
    "\n",
    "**Questions:**\n",
    "1. Which clustering is the best?\n",
    "2. How are neighborhoods split when we select only 2 clusters?\n",
    "3. Are there any differences in housing and rental costs in different clusters?"
   ]
  },
  {
   "cell_type": "code",
   "execution_count": null,
   "metadata": {},
   "outputs": [],
   "source": []
  },
  {
   "cell_type": "code",
   "execution_count": null,
   "metadata": {},
   "outputs": [],
   "source": []
  },
  {
   "cell_type": "code",
   "execution_count": null,
   "metadata": {},
   "outputs": [],
   "source": []
  },
  {
   "cell_type": "markdown",
   "metadata": {},
   "source": [
    "### Evaluation\n",
    "\n",
    "1. Check the segmentation evaluation metrics:\n",
    "    - inertia\n",
    "    - silhoutte score\n",
    "2. How did you come up with the correct number of clusters?\n",
    "3. Is there any relationship between the clusters and economic indicators? If yes, what does it mean?\n",
    "\n",
    "You are required to share the file containing all NYC neighborhoods together with cluster_id with LighthouseLabs."
   ]
  },
  {
   "cell_type": "markdown",
   "metadata": {},
   "source": [
    "[Silohutte Score Plot Article](https://dzone.com/articles/kmeans-silhouette-score-explained-with-python-exam)\n",
    "\n",
    "[Inertia Article](https://www.codecademy.com/learn/machine-learning/modules/dspath-clustering/cheatsheet)"
   ]
  },
  {
   "cell_type": "code",
   "execution_count": null,
   "metadata": {},
   "outputs": [],
   "source": []
  },
  {
   "cell_type": "code",
   "execution_count": null,
   "metadata": {},
   "outputs": [],
   "source": []
  },
  {
   "cell_type": "code",
   "execution_count": null,
   "metadata": {},
   "outputs": [],
   "source": []
  }
 ],
 "metadata": {
  "kernelspec": {
   "display_name": "Python 3.9.13 ('project_env')",
   "language": "python",
   "name": "python3"
  },
  "language_info": {
   "codemirror_mode": {
    "name": "ipython",
    "version": 3
   },
   "file_extension": ".py",
   "mimetype": "text/x-python",
   "name": "python",
   "nbconvert_exporter": "python",
   "pygments_lexer": "ipython3",
   "version": "3.9.13"
  },
  "vscode": {
   "interpreter": {
    "hash": "cab4d223de3b4302c2a639a020fd916bf60f907757187d366ed338efdc50eea1"
   }
  }
 },
 "nbformat": 4,
 "nbformat_minor": 4
}
