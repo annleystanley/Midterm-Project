{
 "cells": [
  {
   "cell_type": "code",
   "execution_count": 295,
   "id": "84d17eea",
   "metadata": {},
   "outputs": [],
   "source": [
    "# Import modules\n",
    "import pandas as pd\n",
    "import os\n",
    "import requests\n",
    "import json\n",
    "from pandas import json_normalize"
   ]
  },
  {
   "cell_type": "code",
   "execution_count": 101,
   "id": "5138c11e",
   "metadata": {},
   "outputs": [],
   "source": [
    "# google places api info\n",
    "gp_secret = os.environ[\"gp_api\"]"
   ]
  },
  {
   "cell_type": "code",
   "execution_count": 102,
   "id": "20676843",
   "metadata": {},
   "outputs": [],
   "source": [
    "gp_resto = pd.read_csv('google_places_poi.csv')\n",
    "gp_school = pd.read_csv('google_places_school.csv')\n",
    "gp_park = pd.read_csv('google_places_park.csv')\n",
    "gp_transit = pd.read_csv('google_places_transit.csv')\n",
    "gp_grocery = pd.read_csv('google_places_supermarket.csv')\n"
   ]
  },
  {
   "cell_type": "code",
   "execution_count": 103,
   "id": "3ee1ad86",
   "metadata": {},
   "outputs": [],
   "source": [
    "# creating one large dataframe\n",
    "gp_pois =  pd.concat([gp_resto,gp_school,gp_park,gp_transit,gp_grocery])"
   ]
  },
  {
   "cell_type": "code",
   "execution_count": 104,
   "id": "2ec17bb9",
   "metadata": {
    "scrolled": true
   },
   "outputs": [
    {
     "name": "stdout",
     "output_type": "stream",
     "text": [
      "<class 'pandas.core.frame.DataFrame'>\n",
      "Int64Index: 26272 entries, 0 to 2448\n",
      "Data columns (total 25 columns):\n",
      " #   Column                           Non-Null Count  Dtype  \n",
      "---  ------                           --------------  -----  \n",
      " 0   business_status                  26108 non-null  object \n",
      " 1   icon                             26272 non-null  object \n",
      " 2   icon_background_color            26272 non-null  object \n",
      " 3   icon_mask_base_uri               26272 non-null  object \n",
      " 4   name                             26272 non-null  object \n",
      " 5   photos                           17188 non-null  object \n",
      " 6   place_id                         26272 non-null  object \n",
      " 7   price_level                      5248 non-null   float64\n",
      " 8   rating                           19053 non-null  float64\n",
      " 9   reference                        26272 non-null  object \n",
      " 10  scope                            26272 non-null  object \n",
      " 11  types                            26272 non-null  object \n",
      " 12  user_ratings_total               19053 non-null  float64\n",
      " 13  vicinity                         26270 non-null  object \n",
      " 14  geometry.location.lat            26272 non-null  float64\n",
      " 15  geometry.location.lng            26272 non-null  float64\n",
      " 16  geometry.viewport.northeast.lat  26272 non-null  float64\n",
      " 17  geometry.viewport.northeast.lng  26272 non-null  float64\n",
      " 18  geometry.viewport.southwest.lat  26272 non-null  float64\n",
      " 19  geometry.viewport.southwest.lng  26272 non-null  float64\n",
      " 20  opening_hours.open_now           13841 non-null  object \n",
      " 21  plus_code.compound_code          26058 non-null  object \n",
      " 22  plus_code.global_code            26058 non-null  object \n",
      " 23  permanently_closed               1202 non-null   object \n",
      " 24  req_cat                          26272 non-null  object \n",
      "dtypes: float64(9), object(16)\n",
      "memory usage: 5.2+ MB\n"
     ]
    }
   ],
   "source": [
    "gp_pois.info()"
   ]
  },
  {
   "cell_type": "code",
   "execution_count": null,
   "id": "94073a52",
   "metadata": {},
   "outputs": [],
   "source": []
  },
  {
   "cell_type": "markdown",
   "id": "0f5f320a",
   "metadata": {},
   "source": [
    "## We need to run an additional API query on every location in order to get proper address info"
   ]
  },
  {
   "cell_type": "code",
   "execution_count": 28,
   "id": "cb10adb6",
   "metadata": {},
   "outputs": [],
   "source": [
    "\n",
    "def gp_locations (gp_id):\n",
    "    \n",
    "    # construct url\n",
    "    url= 'https://maps.googleapis.com/maps/api/place/details/json?place_id=' + gp_id + '&key=' + gp_secret\n",
    "    \n",
    "    # create dictionary for headers\n",
    "    headers = {}\n",
    "    #payload = {}\n",
    "        \n",
    "    # perform get request\n",
    "    response = requests.get(url, headers=headers)\n",
    "\n",
    "    # process request into usable JSON file\n",
    "    gp_response = json.loads(response.text)\n",
    "    gp_data.append(gp_response)\n",
    "    \n",
    "    return\n"
   ]
  },
  {
   "cell_type": "code",
   "execution_count": 20,
   "id": "5cda51b3",
   "metadata": {},
   "outputs": [
    {
     "data": {
      "text/plain": [
       "'ChIJ9aOdYiyNwokRS49czrNTQo4'"
      ]
     },
     "execution_count": 20,
     "metadata": {},
     "output_type": "execute_result"
    }
   ],
   "source": [
    "gp_pois.iloc[0,6]"
   ]
  },
  {
   "cell_type": "code",
   "execution_count": 29,
   "id": "3c0e076f",
   "metadata": {},
   "outputs": [],
   "source": [
    "gp_data=[]\n",
    "def gp_api_loop():\n",
    "\n",
    "    num_rows = gp_pois.shape[0]\n",
    "    row_count = 0\n",
    "\n",
    "\n",
    "    while row_count < num_rows:\n",
    "        gp_locations((gp_pois.iloc[row_count,6]))\n",
    "        row_count +=1"
   ]
  },
  {
   "cell_type": "code",
   "execution_count": 30,
   "id": "7fff649a",
   "metadata": {},
   "outputs": [],
   "source": [
    "gp_api_loop()"
   ]
  },
  {
   "cell_type": "code",
   "execution_count": 31,
   "id": "09b5a97f",
   "metadata": {},
   "outputs": [],
   "source": [
    "# saving results as json files for convenience\n",
    "with open('gp_raw.json', 'w') as f:\n",
    "    json.dump(gp_data, f)"
   ]
  },
  {
   "cell_type": "code",
   "execution_count": 296,
   "id": "e63ce31e",
   "metadata": {},
   "outputs": [],
   "source": [
    "with open('gp_raw.json') as f:\n",
    "    gp_data = json.load(f)"
   ]
  },
  {
   "cell_type": "code",
   "execution_count": 297,
   "id": "29081960",
   "metadata": {},
   "outputs": [],
   "source": [
    "# normalizing the json file\n",
    "gp_raw_df = pd.json_normalize(gp_data)"
   ]
  },
  {
   "cell_type": "code",
   "execution_count": 298,
   "id": "b1958732",
   "metadata": {
    "scrolled": true
   },
   "outputs": [
    {
     "data": {
      "text/html": [
       "<div>\n",
       "<style scoped>\n",
       "    .dataframe tbody tr th:only-of-type {\n",
       "        vertical-align: middle;\n",
       "    }\n",
       "\n",
       "    .dataframe tbody tr th {\n",
       "        vertical-align: top;\n",
       "    }\n",
       "\n",
       "    .dataframe thead th {\n",
       "        text-align: right;\n",
       "    }\n",
       "</style>\n",
       "<table border=\"1\" class=\"dataframe\">\n",
       "  <thead>\n",
       "    <tr style=\"text-align: right;\">\n",
       "      <th></th>\n",
       "      <th>html_attributions</th>\n",
       "      <th>status</th>\n",
       "      <th>result.address_components</th>\n",
       "      <th>result.adr_address</th>\n",
       "      <th>result.business_status</th>\n",
       "      <th>result.current_opening_hours.open_now</th>\n",
       "      <th>result.current_opening_hours.periods</th>\n",
       "      <th>result.current_opening_hours.weekday_text</th>\n",
       "      <th>result.delivery</th>\n",
       "      <th>result.dine_in</th>\n",
       "      <th>...</th>\n",
       "      <th>result.utc_offset</th>\n",
       "      <th>result.vicinity</th>\n",
       "      <th>result.website</th>\n",
       "      <th>result.wheelchair_accessible_entrance</th>\n",
       "      <th>result.serves_breakfast</th>\n",
       "      <th>result.serves_lunch</th>\n",
       "      <th>result.serves_vegetarian_food</th>\n",
       "      <th>result.curbside_pickup</th>\n",
       "      <th>result.permanently_closed</th>\n",
       "      <th>result.current_opening_hours.special_days</th>\n",
       "    </tr>\n",
       "  </thead>\n",
       "  <tbody>\n",
       "    <tr>\n",
       "      <th>0</th>\n",
       "      <td>[]</td>\n",
       "      <td>OK</td>\n",
       "      <td>[{'long_name': '151', 'short_name': '151', 'ty...</td>\n",
       "      <td>&lt;span class=\"street-address\"&gt;151 W Sandford Bl...</td>\n",
       "      <td>OPERATIONAL</td>\n",
       "      <td>False</td>\n",
       "      <td>[{'close': {'date': '2022-11-29', 'day': 2, 't...</td>\n",
       "      <td>[Monday: Closed, Tuesday: 4:00 – 11:00 PM, Wed...</td>\n",
       "      <td>False</td>\n",
       "      <td>True</td>\n",
       "      <td>...</td>\n",
       "      <td>-300</td>\n",
       "      <td>151 West Sandford Boulevard, Mount Vernon</td>\n",
       "      <td>http://www.riperestaurant.com/</td>\n",
       "      <td>False</td>\n",
       "      <td>NaN</td>\n",
       "      <td>NaN</td>\n",
       "      <td>NaN</td>\n",
       "      <td>NaN</td>\n",
       "      <td>NaN</td>\n",
       "      <td>NaN</td>\n",
       "    </tr>\n",
       "    <tr>\n",
       "      <th>1</th>\n",
       "      <td>[]</td>\n",
       "      <td>OK</td>\n",
       "      <td>[{'long_name': '724', 'short_name': '724', 'ty...</td>\n",
       "      <td>&lt;span class=\"street-address\"&gt;724 Nereid Ave&lt;/s...</td>\n",
       "      <td>OPERATIONAL</td>\n",
       "      <td>False</td>\n",
       "      <td>[{'close': {'date': '2022-12-04', 'day': 0, 't...</td>\n",
       "      <td>[Monday: 11:00 AM – 10:30 PM, Tuesday: 11:00 A...</td>\n",
       "      <td>True</td>\n",
       "      <td>NaN</td>\n",
       "      <td>...</td>\n",
       "      <td>-300</td>\n",
       "      <td>724 Nereid Avenue, The Bronx</td>\n",
       "      <td>NaN</td>\n",
       "      <td>NaN</td>\n",
       "      <td>False</td>\n",
       "      <td>True</td>\n",
       "      <td>True</td>\n",
       "      <td>NaN</td>\n",
       "      <td>NaN</td>\n",
       "      <td>NaN</td>\n",
       "    </tr>\n",
       "    <tr>\n",
       "      <th>2</th>\n",
       "      <td>[]</td>\n",
       "      <td>OK</td>\n",
       "      <td>[{'long_name': '980', 'short_name': '980', 'ty...</td>\n",
       "      <td>&lt;span class=\"street-address\"&gt;980 E 233rd St&lt;/s...</td>\n",
       "      <td>OPERATIONAL</td>\n",
       "      <td>False</td>\n",
       "      <td>[{'close': {'date': '2022-12-04', 'day': 0, 't...</td>\n",
       "      <td>[Monday: 6:00 AM – 9:00 PM, Tuesday: 6:00 AM –...</td>\n",
       "      <td>True</td>\n",
       "      <td>True</td>\n",
       "      <td>...</td>\n",
       "      <td>-300</td>\n",
       "      <td>980 East 233rd Street, The Bronx</td>\n",
       "      <td>https://locations.dunkindonuts.com/en/ny/bronx...</td>\n",
       "      <td>True</td>\n",
       "      <td>True</td>\n",
       "      <td>True</td>\n",
       "      <td>NaN</td>\n",
       "      <td>False</td>\n",
       "      <td>NaN</td>\n",
       "      <td>NaN</td>\n",
       "    </tr>\n",
       "    <tr>\n",
       "      <th>3</th>\n",
       "      <td>[]</td>\n",
       "      <td>OK</td>\n",
       "      <td>[{'long_name': '980', 'short_name': '980', 'ty...</td>\n",
       "      <td>&lt;span class=\"street-address\"&gt;980 E 233rd St&lt;/s...</td>\n",
       "      <td>OPERATIONAL</td>\n",
       "      <td>False</td>\n",
       "      <td>[{'close': {'date': '2022-12-04', 'day': 0, 't...</td>\n",
       "      <td>[Monday: 10:00 AM – 10:00 PM, Tuesday: 10:00 A...</td>\n",
       "      <td>True</td>\n",
       "      <td>True</td>\n",
       "      <td>...</td>\n",
       "      <td>-300</td>\n",
       "      <td>980 East 233rd Street, The Bronx</td>\n",
       "      <td>https://restaurants.subway.com/united-states/n...</td>\n",
       "      <td>True</td>\n",
       "      <td>True</td>\n",
       "      <td>True</td>\n",
       "      <td>True</td>\n",
       "      <td>NaN</td>\n",
       "      <td>NaN</td>\n",
       "      <td>NaN</td>\n",
       "    </tr>\n",
       "    <tr>\n",
       "      <th>4</th>\n",
       "      <td>[]</td>\n",
       "      <td>OK</td>\n",
       "      <td>[{'long_name': '1201', 'short_name': '1201', '...</td>\n",
       "      <td>&lt;span class=\"street-address\"&gt;1201 E 233rd St&lt;/...</td>\n",
       "      <td>OPERATIONAL</td>\n",
       "      <td>False</td>\n",
       "      <td>[{'close': {'date': '2022-12-04', 'day': 0, 't...</td>\n",
       "      <td>[Monday: 10:00 AM – 12:00 AM, Tuesday: 10:00 A...</td>\n",
       "      <td>True</td>\n",
       "      <td>True</td>\n",
       "      <td>...</td>\n",
       "      <td>-300</td>\n",
       "      <td>1201 East 233rd Street, The Bronx</td>\n",
       "      <td>https://www.popeyes.com/store-locator/store/re...</td>\n",
       "      <td>True</td>\n",
       "      <td>NaN</td>\n",
       "      <td>True</td>\n",
       "      <td>NaN</td>\n",
       "      <td>NaN</td>\n",
       "      <td>NaN</td>\n",
       "      <td>NaN</td>\n",
       "    </tr>\n",
       "  </tbody>\n",
       "</table>\n",
       "<p>5 rows × 56 columns</p>\n",
       "</div>"
      ],
      "text/plain": [
       "  html_attributions status                          result.address_components  \\\n",
       "0                []     OK  [{'long_name': '151', 'short_name': '151', 'ty...   \n",
       "1                []     OK  [{'long_name': '724', 'short_name': '724', 'ty...   \n",
       "2                []     OK  [{'long_name': '980', 'short_name': '980', 'ty...   \n",
       "3                []     OK  [{'long_name': '980', 'short_name': '980', 'ty...   \n",
       "4                []     OK  [{'long_name': '1201', 'short_name': '1201', '...   \n",
       "\n",
       "                                  result.adr_address result.business_status  \\\n",
       "0  <span class=\"street-address\">151 W Sandford Bl...            OPERATIONAL   \n",
       "1  <span class=\"street-address\">724 Nereid Ave</s...            OPERATIONAL   \n",
       "2  <span class=\"street-address\">980 E 233rd St</s...            OPERATIONAL   \n",
       "3  <span class=\"street-address\">980 E 233rd St</s...            OPERATIONAL   \n",
       "4  <span class=\"street-address\">1201 E 233rd St</...            OPERATIONAL   \n",
       "\n",
       "  result.current_opening_hours.open_now  \\\n",
       "0                                 False   \n",
       "1                                 False   \n",
       "2                                 False   \n",
       "3                                 False   \n",
       "4                                 False   \n",
       "\n",
       "                result.current_opening_hours.periods  \\\n",
       "0  [{'close': {'date': '2022-11-29', 'day': 2, 't...   \n",
       "1  [{'close': {'date': '2022-12-04', 'day': 0, 't...   \n",
       "2  [{'close': {'date': '2022-12-04', 'day': 0, 't...   \n",
       "3  [{'close': {'date': '2022-12-04', 'day': 0, 't...   \n",
       "4  [{'close': {'date': '2022-12-04', 'day': 0, 't...   \n",
       "\n",
       "           result.current_opening_hours.weekday_text result.delivery  \\\n",
       "0  [Monday: Closed, Tuesday: 4:00 – 11:00 PM, Wed...           False   \n",
       "1  [Monday: 11:00 AM – 10:30 PM, Tuesday: 11:00 A...            True   \n",
       "2  [Monday: 6:00 AM – 9:00 PM, Tuesday: 6:00 AM –...            True   \n",
       "3  [Monday: 10:00 AM – 10:00 PM, Tuesday: 10:00 A...            True   \n",
       "4  [Monday: 10:00 AM – 12:00 AM, Tuesday: 10:00 A...            True   \n",
       "\n",
       "  result.dine_in  ... result.utc_offset  \\\n",
       "0           True  ...              -300   \n",
       "1            NaN  ...              -300   \n",
       "2           True  ...              -300   \n",
       "3           True  ...              -300   \n",
       "4           True  ...              -300   \n",
       "\n",
       "                             result.vicinity  \\\n",
       "0  151 West Sandford Boulevard, Mount Vernon   \n",
       "1               724 Nereid Avenue, The Bronx   \n",
       "2           980 East 233rd Street, The Bronx   \n",
       "3           980 East 233rd Street, The Bronx   \n",
       "4          1201 East 233rd Street, The Bronx   \n",
       "\n",
       "                                      result.website  \\\n",
       "0                     http://www.riperestaurant.com/   \n",
       "1                                                NaN   \n",
       "2  https://locations.dunkindonuts.com/en/ny/bronx...   \n",
       "3  https://restaurants.subway.com/united-states/n...   \n",
       "4  https://www.popeyes.com/store-locator/store/re...   \n",
       "\n",
       "  result.wheelchair_accessible_entrance  result.serves_breakfast  \\\n",
       "0                                 False                      NaN   \n",
       "1                                   NaN                    False   \n",
       "2                                  True                     True   \n",
       "3                                  True                     True   \n",
       "4                                  True                      NaN   \n",
       "\n",
       "   result.serves_lunch  result.serves_vegetarian_food  result.curbside_pickup  \\\n",
       "0                  NaN                            NaN                     NaN   \n",
       "1                 True                           True                     NaN   \n",
       "2                 True                            NaN                   False   \n",
       "3                 True                           True                     NaN   \n",
       "4                 True                            NaN                     NaN   \n",
       "\n",
       "   result.permanently_closed  result.current_opening_hours.special_days  \n",
       "0                        NaN                                        NaN  \n",
       "1                        NaN                                        NaN  \n",
       "2                        NaN                                        NaN  \n",
       "3                        NaN                                        NaN  \n",
       "4                        NaN                                        NaN  \n",
       "\n",
       "[5 rows x 56 columns]"
      ]
     },
     "execution_count": 298,
     "metadata": {},
     "output_type": "execute_result"
    }
   ],
   "source": [
    "# investigating results\n",
    "gp_raw_df.head()"
   ]
  },
  {
   "cell_type": "code",
   "execution_count": 302,
   "id": "e1ffe6c7",
   "metadata": {
    "scrolled": true
   },
   "outputs": [
    {
     "name": "stdout",
     "output_type": "stream",
     "text": [
      "<class 'pandas.core.frame.DataFrame'>\n",
      "RangeIndex: 26272 entries, 0 to 26271\n",
      "Data columns (total 56 columns):\n",
      " #   Column                                     Non-Null Count  Dtype  \n",
      "---  ------                                     --------------  -----  \n",
      " 0   html_attributions                          26272 non-null  object \n",
      " 1   status                                     26272 non-null  object \n",
      " 2   result.address_components                  26272 non-null  object \n",
      " 3   result.adr_address                         26272 non-null  object \n",
      " 4   result.business_status                     26108 non-null  object \n",
      " 5   result.current_opening_hours.open_now      13839 non-null  object \n",
      " 6   result.current_opening_hours.periods       13839 non-null  object \n",
      " 7   result.current_opening_hours.weekday_text  13839 non-null  object \n",
      " 8   result.delivery                            6985 non-null   object \n",
      " 9   result.dine_in                             5140 non-null   object \n",
      " 10  result.editorial_summary.language          6317 non-null   object \n",
      " 11  result.editorial_summary.overview          6317 non-null   object \n",
      " 12  result.formatted_address                   26272 non-null  object \n",
      " 13  result.formatted_phone_number              16485 non-null  object \n",
      " 14  result.geometry.location.lat               26272 non-null  float64\n",
      " 15  result.geometry.location.lng               26272 non-null  float64\n",
      " 16  result.geometry.viewport.northeast.lat     26272 non-null  float64\n",
      " 17  result.geometry.viewport.northeast.lng     26272 non-null  float64\n",
      " 18  result.geometry.viewport.southwest.lat     26272 non-null  float64\n",
      " 19  result.geometry.viewport.southwest.lng     26272 non-null  float64\n",
      " 20  result.icon                                26272 non-null  object \n",
      " 21  result.icon_background_color               26272 non-null  object \n",
      " 22  result.icon_mask_base_uri                  26272 non-null  object \n",
      " 23  result.international_phone_number          16485 non-null  object \n",
      " 24  result.name                                26272 non-null  object \n",
      " 25  result.opening_hours.open_now              13839 non-null  object \n",
      " 26  result.opening_hours.periods               13839 non-null  object \n",
      " 27  result.opening_hours.weekday_text          13839 non-null  object \n",
      " 28  result.photos                              17189 non-null  object \n",
      " 29  result.place_id                            26272 non-null  object \n",
      " 30  result.plus_code.compound_code             26058 non-null  object \n",
      " 31  result.plus_code.global_code               26058 non-null  object \n",
      " 32  result.price_level                         5248 non-null   float64\n",
      " 33  result.rating                              19055 non-null  float64\n",
      " 34  result.reference                           26272 non-null  object \n",
      " 35  result.reservable                          3891 non-null   object \n",
      " 36  result.reviews                             19055 non-null  object \n",
      " 37  result.secondary_opening_hours             1740 non-null   object \n",
      " 38  result.serves_beer                         4173 non-null   object \n",
      " 39  result.serves_brunch                       2264 non-null   object \n",
      " 40  result.serves_dinner                       4687 non-null   object \n",
      " 41  result.serves_wine                         4059 non-null   object \n",
      " 42  result.takeout                             5704 non-null   object \n",
      " 43  result.types                               26272 non-null  object \n",
      " 44  result.url                                 26272 non-null  object \n",
      " 45  result.user_ratings_total                  19055 non-null  float64\n",
      " 46  result.utc_offset                          26272 non-null  int64  \n",
      " 47  result.vicinity                            26272 non-null  object \n",
      " 48  result.website                             14859 non-null  object \n",
      " 49  result.wheelchair_accessible_entrance      14387 non-null  object \n",
      " 50  result.serves_breakfast                    2902 non-null   object \n",
      " 51  result.serves_lunch                        4879 non-null   object \n",
      " 52  result.serves_vegetarian_food              2785 non-null   object \n",
      " 53  result.curbside_pickup                     3136 non-null   object \n",
      " 54  result.permanently_closed                  1203 non-null   object \n",
      " 55  result.current_opening_hours.special_days  61 non-null     object \n",
      "dtypes: float64(9), int64(1), object(46)\n",
      "memory usage: 11.2+ MB\n"
     ]
    }
   ],
   "source": [
    "gp_raw_df.info()"
   ]
  },
  {
   "cell_type": "code",
   "execution_count": 303,
   "id": "08b7d185",
   "metadata": {},
   "outputs": [],
   "source": [
    "# making dataframe of only address data\n",
    "addresses = gp_raw_df['result.formatted_address'].str.split(',', expand=True)"
   ]
  },
  {
   "cell_type": "code",
   "execution_count": 304,
   "id": "c222943c",
   "metadata": {},
   "outputs": [
    {
     "data": {
      "text/html": [
       "<div>\n",
       "<style scoped>\n",
       "    .dataframe tbody tr th:only-of-type {\n",
       "        vertical-align: middle;\n",
       "    }\n",
       "\n",
       "    .dataframe tbody tr th {\n",
       "        vertical-align: top;\n",
       "    }\n",
       "\n",
       "    .dataframe thead th {\n",
       "        text-align: right;\n",
       "    }\n",
       "</style>\n",
       "<table border=\"1\" class=\"dataframe\">\n",
       "  <thead>\n",
       "    <tr style=\"text-align: right;\">\n",
       "      <th></th>\n",
       "      <th>0</th>\n",
       "      <th>1</th>\n",
       "      <th>2</th>\n",
       "      <th>3</th>\n",
       "      <th>4</th>\n",
       "      <th>5</th>\n",
       "      <th>6</th>\n",
       "      <th>7</th>\n",
       "      <th>8</th>\n",
       "    </tr>\n",
       "  </thead>\n",
       "  <tbody>\n",
       "    <tr>\n",
       "      <th>0</th>\n",
       "      <td>151 W Sandford Blvd</td>\n",
       "      <td>Mt Vernon</td>\n",
       "      <td>NY 10550</td>\n",
       "      <td>USA</td>\n",
       "      <td>None</td>\n",
       "      <td>None</td>\n",
       "      <td>None</td>\n",
       "      <td>None</td>\n",
       "      <td>None</td>\n",
       "    </tr>\n",
       "    <tr>\n",
       "      <th>1</th>\n",
       "      <td>724 Nereid Ave</td>\n",
       "      <td>The Bronx</td>\n",
       "      <td>NY 10466</td>\n",
       "      <td>USA</td>\n",
       "      <td>None</td>\n",
       "      <td>None</td>\n",
       "      <td>None</td>\n",
       "      <td>None</td>\n",
       "      <td>None</td>\n",
       "    </tr>\n",
       "    <tr>\n",
       "      <th>2</th>\n",
       "      <td>980 E 233rd St</td>\n",
       "      <td>The Bronx</td>\n",
       "      <td>NY 10466</td>\n",
       "      <td>USA</td>\n",
       "      <td>None</td>\n",
       "      <td>None</td>\n",
       "      <td>None</td>\n",
       "      <td>None</td>\n",
       "      <td>None</td>\n",
       "    </tr>\n",
       "    <tr>\n",
       "      <th>3</th>\n",
       "      <td>980 E 233rd St</td>\n",
       "      <td>The Bronx</td>\n",
       "      <td>NY 10466</td>\n",
       "      <td>USA</td>\n",
       "      <td>None</td>\n",
       "      <td>None</td>\n",
       "      <td>None</td>\n",
       "      <td>None</td>\n",
       "      <td>None</td>\n",
       "    </tr>\n",
       "    <tr>\n",
       "      <th>4</th>\n",
       "      <td>1201 E 233rd St</td>\n",
       "      <td>The Bronx</td>\n",
       "      <td>NY 10466</td>\n",
       "      <td>USA</td>\n",
       "      <td>None</td>\n",
       "      <td>None</td>\n",
       "      <td>None</td>\n",
       "      <td>None</td>\n",
       "      <td>None</td>\n",
       "    </tr>\n",
       "  </tbody>\n",
       "</table>\n",
       "</div>"
      ],
      "text/plain": [
       "                     0           1          2     3     4     5     6     7  \\\n",
       "0  151 W Sandford Blvd   Mt Vernon   NY 10550   USA  None  None  None  None   \n",
       "1       724 Nereid Ave   The Bronx   NY 10466   USA  None  None  None  None   \n",
       "2       980 E 233rd St   The Bronx   NY 10466   USA  None  None  None  None   \n",
       "3       980 E 233rd St   The Bronx   NY 10466   USA  None  None  None  None   \n",
       "4      1201 E 233rd St   The Bronx   NY 10466   USA  None  None  None  None   \n",
       "\n",
       "      8  \n",
       "0  None  \n",
       "1  None  \n",
       "2  None  \n",
       "3  None  \n",
       "4  None  "
      ]
     },
     "execution_count": 304,
     "metadata": {},
     "output_type": "execute_result"
    }
   ],
   "source": [
    "addresses.head()"
   ]
  },
  {
   "cell_type": "code",
   "execution_count": 305,
   "id": "b634f3c4",
   "metadata": {},
   "outputs": [
    {
     "name": "stdout",
     "output_type": "stream",
     "text": [
      "<class 'pandas.core.frame.DataFrame'>\n",
      "RangeIndex: 26272 entries, 0 to 26271\n",
      "Data columns (total 9 columns):\n",
      " #   Column  Non-Null Count  Dtype \n",
      "---  ------  --------------  ----- \n",
      " 0   0       26272 non-null  object\n",
      " 1   1       26272 non-null  object\n",
      " 2   2       26272 non-null  object\n",
      " 3   3       19855 non-null  object\n",
      " 4   4       1959 non-null   object\n",
      " 5   5       113 non-null    object\n",
      " 6   6       27 non-null     object\n",
      " 7   7       9 non-null      object\n",
      " 8   8       3 non-null      object\n",
      "dtypes: object(9)\n",
      "memory usage: 1.8+ MB\n"
     ]
    }
   ],
   "source": [
    "addresses.info()"
   ]
  },
  {
   "cell_type": "code",
   "execution_count": 306,
   "id": "50fdbb4e",
   "metadata": {},
   "outputs": [],
   "source": [
    "# dropping unecessary columns\n",
    "addresses.drop(columns=[3,4,5,6,7,8], inplace=True)"
   ]
  },
  {
   "cell_type": "code",
   "execution_count": 307,
   "id": "8b41d6ae",
   "metadata": {},
   "outputs": [
    {
     "data": {
      "text/html": [
       "<div>\n",
       "<style scoped>\n",
       "    .dataframe tbody tr th:only-of-type {\n",
       "        vertical-align: middle;\n",
       "    }\n",
       "\n",
       "    .dataframe tbody tr th {\n",
       "        vertical-align: top;\n",
       "    }\n",
       "\n",
       "    .dataframe thead th {\n",
       "        text-align: right;\n",
       "    }\n",
       "</style>\n",
       "<table border=\"1\" class=\"dataframe\">\n",
       "  <thead>\n",
       "    <tr style=\"text-align: right;\">\n",
       "      <th></th>\n",
       "      <th>0</th>\n",
       "      <th>1</th>\n",
       "      <th>2</th>\n",
       "    </tr>\n",
       "  </thead>\n",
       "  <tbody>\n",
       "    <tr>\n",
       "      <th>0</th>\n",
       "      <td>151 W Sandford Blvd</td>\n",
       "      <td>Mt Vernon</td>\n",
       "      <td>NY 10550</td>\n",
       "    </tr>\n",
       "    <tr>\n",
       "      <th>1</th>\n",
       "      <td>724 Nereid Ave</td>\n",
       "      <td>The Bronx</td>\n",
       "      <td>NY 10466</td>\n",
       "    </tr>\n",
       "    <tr>\n",
       "      <th>2</th>\n",
       "      <td>980 E 233rd St</td>\n",
       "      <td>The Bronx</td>\n",
       "      <td>NY 10466</td>\n",
       "    </tr>\n",
       "    <tr>\n",
       "      <th>3</th>\n",
       "      <td>980 E 233rd St</td>\n",
       "      <td>The Bronx</td>\n",
       "      <td>NY 10466</td>\n",
       "    </tr>\n",
       "    <tr>\n",
       "      <th>4</th>\n",
       "      <td>1201 E 233rd St</td>\n",
       "      <td>The Bronx</td>\n",
       "      <td>NY 10466</td>\n",
       "    </tr>\n",
       "  </tbody>\n",
       "</table>\n",
       "</div>"
      ],
      "text/plain": [
       "                     0           1          2\n",
       "0  151 W Sandford Blvd   Mt Vernon   NY 10550\n",
       "1       724 Nereid Ave   The Bronx   NY 10466\n",
       "2       980 E 233rd St   The Bronx   NY 10466\n",
       "3       980 E 233rd St   The Bronx   NY 10466\n",
       "4      1201 E 233rd St   The Bronx   NY 10466"
      ]
     },
     "execution_count": 307,
     "metadata": {},
     "output_type": "execute_result"
    }
   ],
   "source": [
    "addresses.head()"
   ]
  },
  {
   "cell_type": "code",
   "execution_count": 308,
   "id": "97e9b54f",
   "metadata": {},
   "outputs": [],
   "source": [
    "# splitting state & zip column into two & inserting zip back into frame\n",
    "addresses[2].str.strip()\n",
    "state_zip = addresses[2].str.split(' ', expand=True)\n",
    "addresses[2]= state_zip[2]"
   ]
  },
  {
   "cell_type": "code",
   "execution_count": 309,
   "id": "bf148632",
   "metadata": {},
   "outputs": [],
   "source": [
    "# renaming columns\n",
    "addresses.rename(columns={ 0:'Street Address', 1:'Borough', 2:'Zipcode'},inplace=True)"
   ]
  },
  {
   "cell_type": "code",
   "execution_count": 310,
   "id": "1f1f9973",
   "metadata": {},
   "outputs": [
    {
     "name": "stdout",
     "output_type": "stream",
     "text": [
      "<class 'pandas.core.frame.DataFrame'>\n",
      "RangeIndex: 26272 entries, 0 to 26271\n",
      "Data columns (total 3 columns):\n",
      " #   Column          Non-Null Count  Dtype \n",
      "---  ------          --------------  ----- \n",
      " 0   Street Address  26272 non-null  object\n",
      " 1   Borough         26272 non-null  object\n",
      " 2   Zipcode         19127 non-null  object\n",
      "dtypes: object(3)\n",
      "memory usage: 615.9+ KB\n"
     ]
    }
   ],
   "source": [
    "# not dropping any nulls at this moment in order to maintain dataframe shape\n",
    "addresses.info()"
   ]
  },
  {
   "cell_type": "code",
   "execution_count": 314,
   "id": "4a2c6ef5",
   "metadata": {},
   "outputs": [
    {
     "data": {
      "text/plain": [
       "26272"
      ]
     },
     "execution_count": 314,
     "metadata": {},
     "output_type": "execute_result"
    }
   ],
   "source": [
    "addresses.shape[0]"
   ]
  },
  {
   "cell_type": "code",
   "execution_count": 327,
   "id": "1c299135",
   "metadata": {
    "scrolled": true
   },
   "outputs": [
    {
     "data": {
      "text/plain": [
       "26272"
      ]
     },
     "execution_count": 327,
     "metadata": {},
     "output_type": "execute_result"
    }
   ],
   "source": [
    "gp_pois.shape[0]"
   ]
  },
  {
   "cell_type": "code",
   "execution_count": 312,
   "id": "99168c1f",
   "metadata": {},
   "outputs": [
    {
     "name": "stdout",
     "output_type": "stream",
     "text": [
      "16842\n"
     ]
    }
   ],
   "source": [
    "# checking number of unique values pre-merge\n",
    "print(len(gp_pois['place_id'].unique()))"
   ]
  },
  {
   "cell_type": "code",
   "execution_count": 330,
   "id": "7542bc6f",
   "metadata": {},
   "outputs": [
    {
     "name": "stdout",
     "output_type": "stream",
     "text": [
      "16842\n"
     ]
    }
   ],
   "source": [
    "print(len(addresses['place_id'].unique()))\n"
   ]
  },
  {
   "cell_type": "code",
   "execution_count": 329,
   "id": "768b059a",
   "metadata": {},
   "outputs": [],
   "source": [
    "addresses['place_id'] = gp_pois['place_id']"
   ]
  },
  {
   "cell_type": "code",
   "execution_count": 379,
   "id": "6f194643",
   "metadata": {},
   "outputs": [],
   "source": [
    "gp_pois_merged = pd.merge(gp_pois, addresses, on='place_id', how='outer')"
   ]
  },
  {
   "cell_type": "code",
   "execution_count": 381,
   "id": "9f98a4ff",
   "metadata": {
    "scrolled": true
   },
   "outputs": [
    {
     "name": "stdout",
     "output_type": "stream",
     "text": [
      "<class 'pandas.core.frame.DataFrame'>\n",
      "Int64Index: 57738 entries, 0 to 57737\n",
      "Data columns (total 35 columns):\n",
      " #   Column                           Non-Null Count  Dtype  \n",
      "---  ------                           --------------  -----  \n",
      " 0   level_0_x                        57738 non-null  int64  \n",
      " 1   index_x                          57738 non-null  int64  \n",
      " 2   business_status                  57178 non-null  object \n",
      " 3   icon                             57738 non-null  object \n",
      " 4   icon_background_color            57738 non-null  object \n",
      " 5   icon_mask_base_uri               57738 non-null  object \n",
      " 6   name                             57738 non-null  object \n",
      " 7   photos                           42128 non-null  object \n",
      " 8   place_id                         57738 non-null  object \n",
      " 9   price_level                      9670 non-null   float64\n",
      " 10  rating                           45643 non-null  float64\n",
      " 11  reference                        57738 non-null  object \n",
      " 12  scope                            57738 non-null  object \n",
      " 13  types                            57738 non-null  object \n",
      " 14  user_ratings_total               45643 non-null  float64\n",
      " 15  vicinity                         57736 non-null  object \n",
      " 16  geometry.location.lat            57738 non-null  float64\n",
      " 17  geometry.location.lng            57738 non-null  float64\n",
      " 18  geometry.viewport.northeast.lat  57738 non-null  float64\n",
      " 19  geometry.viewport.northeast.lng  57738 non-null  float64\n",
      " 20  geometry.viewport.southwest.lat  57738 non-null  float64\n",
      " 21  geometry.viewport.southwest.lng  57738 non-null  float64\n",
      " 22  opening_hours.open_now           33553 non-null  object \n",
      " 23  plus_code.compound_code          57052 non-null  object \n",
      " 24  plus_code.global_code            57052 non-null  object \n",
      " 25  permanently_closed               2200 non-null   object \n",
      " 26  req_cat                          57738 non-null  object \n",
      " 27  Street Address_x                 57738 non-null  object \n",
      " 28  Borough_x                        57738 non-null  object \n",
      " 29  Zipcode_x                        57738 non-null  object \n",
      " 30  level_0_y                        57738 non-null  int64  \n",
      " 31  index_y                          57738 non-null  int64  \n",
      " 32  Street Address_y                 57738 non-null  object \n",
      " 33  Borough_y                        57738 non-null  object \n",
      " 34  Zipcode_y                        46917 non-null  object \n",
      "dtypes: float64(9), int64(4), object(22)\n",
      "memory usage: 15.9+ MB\n"
     ]
    }
   ],
   "source": [
    "gp_pois_merged.info()"
   ]
  },
  {
   "cell_type": "code",
   "execution_count": 268,
   "id": "3266003a",
   "metadata": {
    "scrolled": true
   },
   "outputs": [
    {
     "data": {
      "text/html": [
       "<div>\n",
       "<style scoped>\n",
       "    .dataframe tbody tr th:only-of-type {\n",
       "        vertical-align: middle;\n",
       "    }\n",
       "\n",
       "    .dataframe tbody tr th {\n",
       "        vertical-align: top;\n",
       "    }\n",
       "\n",
       "    .dataframe thead th {\n",
       "        text-align: right;\n",
       "    }\n",
       "</style>\n",
       "<table border=\"1\" class=\"dataframe\">\n",
       "  <thead>\n",
       "    <tr style=\"text-align: right;\">\n",
       "      <th></th>\n",
       "      <th>business_status</th>\n",
       "      <th>icon</th>\n",
       "      <th>icon_background_color</th>\n",
       "      <th>icon_mask_base_uri</th>\n",
       "      <th>name</th>\n",
       "      <th>photos</th>\n",
       "      <th>place_id</th>\n",
       "      <th>price_level</th>\n",
       "      <th>rating</th>\n",
       "      <th>reference</th>\n",
       "      <th>...</th>\n",
       "      <th>plus_code.compound_code</th>\n",
       "      <th>plus_code.global_code</th>\n",
       "      <th>permanently_closed</th>\n",
       "      <th>req_cat</th>\n",
       "      <th>Street Address_x</th>\n",
       "      <th>Borough_x</th>\n",
       "      <th>Zipcode_x</th>\n",
       "      <th>Street Address_y</th>\n",
       "      <th>Borough_y</th>\n",
       "      <th>Zipcode_y</th>\n",
       "    </tr>\n",
       "  </thead>\n",
       "  <tbody>\n",
       "    <tr>\n",
       "      <th>0</th>\n",
       "      <td>OPERATIONAL</td>\n",
       "      <td>https://maps.gstatic.com/mapfiles/place_api/ic...</td>\n",
       "      <td>#FF9E67</td>\n",
       "      <td>https://maps.gstatic.com/mapfiles/place_api/ic...</td>\n",
       "      <td>Ripe Kitchen &amp; Bar</td>\n",
       "      <td>[{'height': 2471, 'html_attributions': ['&lt;a hr...</td>\n",
       "      <td>ChIJ9aOdYiyNwokRS49czrNTQo4</td>\n",
       "      <td>2.0</td>\n",
       "      <td>4.3</td>\n",
       "      <td>ChIJ9aOdYiyNwokRS49czrNTQo4</td>\n",
       "      <td>...</td>\n",
       "      <td>V5X6+7F Mount Vernon, NY, USA</td>\n",
       "      <td>87G8V5X6+7F</td>\n",
       "      <td>NaN</td>\n",
       "      <td>restaurant</td>\n",
       "      <td></td>\n",
       "      <td></td>\n",
       "      <td></td>\n",
       "      <td>151 W Sandford Blvd</td>\n",
       "      <td>Mt Vernon</td>\n",
       "      <td>10550</td>\n",
       "    </tr>\n",
       "    <tr>\n",
       "      <th>1</th>\n",
       "      <td>OPERATIONAL</td>\n",
       "      <td>https://maps.gstatic.com/mapfiles/place_api/ic...</td>\n",
       "      <td>#FF9E67</td>\n",
       "      <td>https://maps.gstatic.com/mapfiles/place_api/ic...</td>\n",
       "      <td>Ripe Kitchen &amp; Bar</td>\n",
       "      <td>[{'height': 2471, 'html_attributions': ['&lt;a hr...</td>\n",
       "      <td>ChIJ9aOdYiyNwokRS49czrNTQo4</td>\n",
       "      <td>2.0</td>\n",
       "      <td>4.3</td>\n",
       "      <td>ChIJ9aOdYiyNwokRS49czrNTQo4</td>\n",
       "      <td>...</td>\n",
       "      <td>V5X6+7F Mount Vernon, NY, USA</td>\n",
       "      <td>87G8V5X6+7F</td>\n",
       "      <td>NaN</td>\n",
       "      <td>restaurant</td>\n",
       "      <td></td>\n",
       "      <td></td>\n",
       "      <td></td>\n",
       "      <td>151 W Sandford Blvd</td>\n",
       "      <td>Mt Vernon</td>\n",
       "      <td>10550</td>\n",
       "    </tr>\n",
       "    <tr>\n",
       "      <th>2</th>\n",
       "      <td>OPERATIONAL</td>\n",
       "      <td>https://maps.gstatic.com/mapfiles/place_api/ic...</td>\n",
       "      <td>#FF9E67</td>\n",
       "      <td>https://maps.gstatic.com/mapfiles/place_api/ic...</td>\n",
       "      <td>Ripe Kitchen &amp; Bar</td>\n",
       "      <td>[{'height': 2471, 'html_attributions': ['&lt;a hr...</td>\n",
       "      <td>ChIJ9aOdYiyNwokRS49czrNTQo4</td>\n",
       "      <td>2.0</td>\n",
       "      <td>4.3</td>\n",
       "      <td>ChIJ9aOdYiyNwokRS49czrNTQo4</td>\n",
       "      <td>...</td>\n",
       "      <td>V5X6+7F Mount Vernon, NY, USA</td>\n",
       "      <td>87G8V5X6+7F</td>\n",
       "      <td>NaN</td>\n",
       "      <td>restaurant</td>\n",
       "      <td></td>\n",
       "      <td></td>\n",
       "      <td></td>\n",
       "      <td>151 W Sandford Blvd</td>\n",
       "      <td>Mt Vernon</td>\n",
       "      <td>10550</td>\n",
       "    </tr>\n",
       "    <tr>\n",
       "      <th>3</th>\n",
       "      <td>OPERATIONAL</td>\n",
       "      <td>https://maps.gstatic.com/mapfiles/place_api/ic...</td>\n",
       "      <td>#FF9E67</td>\n",
       "      <td>https://maps.gstatic.com/mapfiles/place_api/ic...</td>\n",
       "      <td>Ripe Kitchen &amp; Bar</td>\n",
       "      <td>[{'height': 2471, 'html_attributions': ['&lt;a hr...</td>\n",
       "      <td>ChIJ9aOdYiyNwokRS49czrNTQo4</td>\n",
       "      <td>2.0</td>\n",
       "      <td>4.3</td>\n",
       "      <td>ChIJ9aOdYiyNwokRS49czrNTQo4</td>\n",
       "      <td>...</td>\n",
       "      <td>V5X6+7F Mount Vernon, NY, USA</td>\n",
       "      <td>87G8V5X6+7F</td>\n",
       "      <td>NaN</td>\n",
       "      <td>school</td>\n",
       "      <td></td>\n",
       "      <td></td>\n",
       "      <td></td>\n",
       "      <td>151 W Sandford Blvd</td>\n",
       "      <td>Mt Vernon</td>\n",
       "      <td>10550</td>\n",
       "    </tr>\n",
       "    <tr>\n",
       "      <th>4</th>\n",
       "      <td>OPERATIONAL</td>\n",
       "      <td>https://maps.gstatic.com/mapfiles/place_api/ic...</td>\n",
       "      <td>#FF9E67</td>\n",
       "      <td>https://maps.gstatic.com/mapfiles/place_api/ic...</td>\n",
       "      <td>Ripe Kitchen &amp; Bar</td>\n",
       "      <td>[{'height': 2471, 'html_attributions': ['&lt;a hr...</td>\n",
       "      <td>ChIJ9aOdYiyNwokRS49czrNTQo4</td>\n",
       "      <td>2.0</td>\n",
       "      <td>4.3</td>\n",
       "      <td>ChIJ9aOdYiyNwokRS49czrNTQo4</td>\n",
       "      <td>...</td>\n",
       "      <td>V5X6+7F Mount Vernon, NY, USA</td>\n",
       "      <td>87G8V5X6+7F</td>\n",
       "      <td>NaN</td>\n",
       "      <td>school</td>\n",
       "      <td></td>\n",
       "      <td></td>\n",
       "      <td></td>\n",
       "      <td>151 W Sandford Blvd</td>\n",
       "      <td>Mt Vernon</td>\n",
       "      <td>10550</td>\n",
       "    </tr>\n",
       "  </tbody>\n",
       "</table>\n",
       "<p>5 rows × 31 columns</p>\n",
       "</div>"
      ],
      "text/plain": [
       "  business_status                                               icon  \\\n",
       "0     OPERATIONAL  https://maps.gstatic.com/mapfiles/place_api/ic...   \n",
       "1     OPERATIONAL  https://maps.gstatic.com/mapfiles/place_api/ic...   \n",
       "2     OPERATIONAL  https://maps.gstatic.com/mapfiles/place_api/ic...   \n",
       "3     OPERATIONAL  https://maps.gstatic.com/mapfiles/place_api/ic...   \n",
       "4     OPERATIONAL  https://maps.gstatic.com/mapfiles/place_api/ic...   \n",
       "\n",
       "  icon_background_color                                 icon_mask_base_uri  \\\n",
       "0               #FF9E67  https://maps.gstatic.com/mapfiles/place_api/ic...   \n",
       "1               #FF9E67  https://maps.gstatic.com/mapfiles/place_api/ic...   \n",
       "2               #FF9E67  https://maps.gstatic.com/mapfiles/place_api/ic...   \n",
       "3               #FF9E67  https://maps.gstatic.com/mapfiles/place_api/ic...   \n",
       "4               #FF9E67  https://maps.gstatic.com/mapfiles/place_api/ic...   \n",
       "\n",
       "                 name                                             photos  \\\n",
       "0  Ripe Kitchen & Bar  [{'height': 2471, 'html_attributions': ['<a hr...   \n",
       "1  Ripe Kitchen & Bar  [{'height': 2471, 'html_attributions': ['<a hr...   \n",
       "2  Ripe Kitchen & Bar  [{'height': 2471, 'html_attributions': ['<a hr...   \n",
       "3  Ripe Kitchen & Bar  [{'height': 2471, 'html_attributions': ['<a hr...   \n",
       "4  Ripe Kitchen & Bar  [{'height': 2471, 'html_attributions': ['<a hr...   \n",
       "\n",
       "                      place_id  price_level  rating  \\\n",
       "0  ChIJ9aOdYiyNwokRS49czrNTQo4          2.0     4.3   \n",
       "1  ChIJ9aOdYiyNwokRS49czrNTQo4          2.0     4.3   \n",
       "2  ChIJ9aOdYiyNwokRS49czrNTQo4          2.0     4.3   \n",
       "3  ChIJ9aOdYiyNwokRS49czrNTQo4          2.0     4.3   \n",
       "4  ChIJ9aOdYiyNwokRS49czrNTQo4          2.0     4.3   \n",
       "\n",
       "                     reference  ...        plus_code.compound_code  \\\n",
       "0  ChIJ9aOdYiyNwokRS49czrNTQo4  ...  V5X6+7F Mount Vernon, NY, USA   \n",
       "1  ChIJ9aOdYiyNwokRS49czrNTQo4  ...  V5X6+7F Mount Vernon, NY, USA   \n",
       "2  ChIJ9aOdYiyNwokRS49czrNTQo4  ...  V5X6+7F Mount Vernon, NY, USA   \n",
       "3  ChIJ9aOdYiyNwokRS49czrNTQo4  ...  V5X6+7F Mount Vernon, NY, USA   \n",
       "4  ChIJ9aOdYiyNwokRS49czrNTQo4  ...  V5X6+7F Mount Vernon, NY, USA   \n",
       "\n",
       "  plus_code.global_code  permanently_closed     req_cat  Street Address_x  \\\n",
       "0           87G8V5X6+7F                 NaN  restaurant                     \n",
       "1           87G8V5X6+7F                 NaN  restaurant                     \n",
       "2           87G8V5X6+7F                 NaN  restaurant                     \n",
       "3           87G8V5X6+7F                 NaN      school                     \n",
       "4           87G8V5X6+7F                 NaN      school                     \n",
       "\n",
       "   Borough_x  Zipcode_x     Street Address_y   Borough_y  Zipcode_y  \n",
       "0                        151 W Sandford Blvd   Mt Vernon      10550  \n",
       "1                        151 W Sandford Blvd   Mt Vernon      10550  \n",
       "2                        151 W Sandford Blvd   Mt Vernon      10550  \n",
       "3                        151 W Sandford Blvd   Mt Vernon      10550  \n",
       "4                        151 W Sandford Blvd   Mt Vernon      10550  \n",
       "\n",
       "[5 rows x 31 columns]"
      ]
     },
     "execution_count": 268,
     "metadata": {},
     "output_type": "execute_result"
    }
   ],
   "source": [
    "gp_pois_merged.head()"
   ]
  },
  {
   "cell_type": "code",
   "execution_count": 383,
   "id": "4f65dcef",
   "metadata": {},
   "outputs": [],
   "source": [
    "# dropping duplicates caused by merge\n",
    "gp_pois_merged.drop_duplicates(subset=['place_id','name','req_cat'],keep='first', inplace=True)"
   ]
  },
  {
   "cell_type": "code",
   "execution_count": 384,
   "id": "329d5a7f",
   "metadata": {},
   "outputs": [
    {
     "data": {
      "text/plain": [
       "19164"
      ]
     },
     "execution_count": 384,
     "metadata": {},
     "output_type": "execute_result"
    }
   ],
   "source": [
    "gp_pois_merged.shape[0]"
   ]
  },
  {
   "cell_type": "code",
   "execution_count": 385,
   "id": "60756483",
   "metadata": {},
   "outputs": [
    {
     "name": "stdout",
     "output_type": "stream",
     "text": [
      "16842\n"
     ]
    }
   ],
   "source": [
    "# making sure number of rows is correct\n",
    "print(len(gp_pois_merged['place_id'].unique()))"
   ]
  },
  {
   "cell_type": "code",
   "execution_count": 386,
   "id": "f06768e2",
   "metadata": {
    "scrolled": true
   },
   "outputs": [
    {
     "data": {
      "text/plain": [
       "array(['restaurant', 'school', 'park', 'supermarket', 'transit_station'],\n",
       "      dtype=object)"
      ]
     },
     "execution_count": 386,
     "metadata": {},
     "output_type": "execute_result"
    }
   ],
   "source": [
    "# making sure all categories are still present\n",
    "gp_pois_merged['req_cat'].unique()"
   ]
  },
  {
   "cell_type": "code",
   "execution_count": 391,
   "id": "6ff33d9d",
   "metadata": {
    "scrolled": true
   },
   "outputs": [
    {
     "name": "stdout",
     "output_type": "stream",
     "text": [
      "<class 'pandas.core.frame.DataFrame'>\n",
      "Int64Index: 19164 entries, 0 to 57737\n",
      "Data columns (total 35 columns):\n",
      " #   Column                           Non-Null Count  Dtype  \n",
      "---  ------                           --------------  -----  \n",
      " 0   level_0_x                        19164 non-null  int64  \n",
      " 1   index_x                          19164 non-null  int64  \n",
      " 2   business_status                  19048 non-null  object \n",
      " 3   icon                             19164 non-null  object \n",
      " 4   icon_background_color            19164 non-null  object \n",
      " 5   icon_mask_base_uri               19164 non-null  object \n",
      " 6   name                             19164 non-null  object \n",
      " 7   photos                           11841 non-null  object \n",
      " 8   place_id                         19164 non-null  object \n",
      " 9   price_level                      3622 non-null   float64\n",
      " 10  rating                           13163 non-null  float64\n",
      " 11  reference                        19164 non-null  object \n",
      " 12  scope                            19164 non-null  object \n",
      " 13  types                            19164 non-null  object \n",
      " 14  user_ratings_total               13163 non-null  float64\n",
      " 15  vicinity                         19162 non-null  object \n",
      " 16  geometry.location.lat            19164 non-null  float64\n",
      " 17  geometry.location.lng            19164 non-null  float64\n",
      " 18  geometry.viewport.northeast.lat  19164 non-null  float64\n",
      " 19  geometry.viewport.northeast.lng  19164 non-null  float64\n",
      " 20  geometry.viewport.southwest.lat  19164 non-null  float64\n",
      " 21  geometry.viewport.southwest.lng  19164 non-null  float64\n",
      " 22  opening_hours.open_now           9279 non-null   object \n",
      " 23  plus_code.compound_code          19009 non-null  object \n",
      " 24  plus_code.global_code            19009 non-null  object \n",
      " 25  permanently_closed               869 non-null    object \n",
      " 26  req_cat                          19164 non-null  object \n",
      " 27  Street Address_x                 19164 non-null  object \n",
      " 28  Borough_x                        19164 non-null  object \n",
      " 29  Zipcode_x                        19164 non-null  object \n",
      " 30  level_0_y                        19164 non-null  int64  \n",
      " 31  index_y                          19164 non-null  int64  \n",
      " 32  Street Address_y                 19164 non-null  object \n",
      " 33  Borough_y                        19164 non-null  object \n",
      " 34  Zipcode_y                        12872 non-null  object \n",
      "dtypes: float64(9), int64(4), object(22)\n",
      "memory usage: 5.3+ MB\n"
     ]
    }
   ],
   "source": [
    "gp_pois_merged.info()"
   ]
  },
  {
   "cell_type": "code",
   "execution_count": 389,
   "id": "7051db45",
   "metadata": {},
   "outputs": [],
   "source": [
    "# exporting as csv for final cleaning\n",
    "gp_pois_merged.to_csv('gp_pois_merged.csv', index=False)"
   ]
  }
 ],
 "metadata": {
  "kernelspec": {
   "display_name": "Python 3 (ipykernel)",
   "language": "python",
   "name": "python3"
  },
  "language_info": {
   "codemirror_mode": {
    "name": "ipython",
    "version": 3
   },
   "file_extension": ".py",
   "mimetype": "text/x-python",
   "name": "python",
   "nbconvert_exporter": "python",
   "pygments_lexer": "ipython3",
   "version": "3.9.13"
  }
 },
 "nbformat": 4,
 "nbformat_minor": 5
}
