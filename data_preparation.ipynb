{
 "cells": [
  {
   "cell_type": "markdown",
   "metadata": {},
   "source": [
    "# Data Preparation"
   ]
  },
  {
   "cell_type": "markdown",
   "metadata": {},
   "source": [
    "### Task\n",
    "Parse the json **nyc_geo.json** into the dataframe with the following columns:\n",
    "- Borough\n",
    "- Neighborhood\n",
    "- Latitude\n",
    "- Longitude"
   ]
  },
  {
   "cell_type": "markdown",
   "metadata": {},
   "source": [
    "### Import Modules"
   ]
  },
  {
   "cell_type": "code",
   "execution_count": 17,
   "metadata": {},
   "outputs": [],
   "source": [
    "# import modules\n",
    "import pandas as pd\n",
    "from pandas import json_normalize\n",
    "import json\n",
    "import os\n",
    "import requests"
   ]
  },
  {
   "cell_type": "markdown",
   "metadata": {},
   "source": [
    "### Import Dataset"
   ]
  },
  {
   "cell_type": "code",
   "execution_count": 18,
   "metadata": {},
   "outputs": [
    {
     "data": {
      "text/html": [
       "<div>\n",
       "<style scoped>\n",
       "    .dataframe tbody tr th:only-of-type {\n",
       "        vertical-align: middle;\n",
       "    }\n",
       "\n",
       "    .dataframe tbody tr th {\n",
       "        vertical-align: top;\n",
       "    }\n",
       "\n",
       "    .dataframe thead th {\n",
       "        text-align: right;\n",
       "    }\n",
       "</style>\n",
       "<table border=\"1\" class=\"dataframe\">\n",
       "  <thead>\n",
       "    <tr style=\"text-align: right;\">\n",
       "      <th></th>\n",
       "      <th>type</th>\n",
       "      <th>totalFeatures</th>\n",
       "      <th>features</th>\n",
       "      <th>bbox</th>\n",
       "      <th>crs.type</th>\n",
       "      <th>crs.properties.name</th>\n",
       "    </tr>\n",
       "  </thead>\n",
       "  <tbody>\n",
       "    <tr>\n",
       "      <th>0</th>\n",
       "      <td>FeatureCollection</td>\n",
       "      <td>306</td>\n",
       "      <td>[{'type': 'Feature', 'id': 'nyu_2451_34572.1',...</td>\n",
       "      <td>[-74.2492599487305, 40.5033187866211, -73.7061...</td>\n",
       "      <td>name</td>\n",
       "      <td>urn:ogc:def:crs:EPSG::4326</td>\n",
       "    </tr>\n",
       "  </tbody>\n",
       "</table>\n",
       "</div>"
      ],
      "text/plain": [
       "                type  totalFeatures  \\\n",
       "0  FeatureCollection            306   \n",
       "\n",
       "                                            features  \\\n",
       "0  [{'type': 'Feature', 'id': 'nyu_2451_34572.1',...   \n",
       "\n",
       "                                                bbox crs.type  \\\n",
       "0  [-74.2492599487305, 40.5033187866211, -73.7061...     name   \n",
       "\n",
       "          crs.properties.name  \n",
       "0  urn:ogc:def:crs:EPSG::4326  "
      ]
     },
     "execution_count": 18,
     "metadata": {},
     "output_type": "execute_result"
    }
   ],
   "source": [
    "# json to dataframe\n",
    "with open('nyc_geo.json') as f:\n",
    "    nyc_json = json.load(f)\n",
    "\n",
    "pd.json_normalize(nyc_json)"
   ]
  },
  {
   "cell_type": "code",
   "execution_count": 19,
   "metadata": {},
   "outputs": [
    {
     "data": {
      "text/plain": [
       "{'type': 'Feature',\n",
       " 'id': 'nyu_2451_34572.1',\n",
       " 'geometry': {'type': 'Point',\n",
       "  'coordinates': [-73.84720052054902, 40.89470517661]},\n",
       " 'geometry_name': 'geom',\n",
       " 'properties': {'name': 'Wakefield',\n",
       "  'stacked': 1,\n",
       "  'annoline1': 'Wakefield',\n",
       "  'annoline2': None,\n",
       "  'annoline3': None,\n",
       "  'annoangle': 0.0,\n",
       "  'borough': 'Bronx',\n",
       "  'bbox': [-73.84720052054902,\n",
       "   40.89470517661,\n",
       "   -73.84720052054902,\n",
       "   40.89470517661]}}"
      ]
     },
     "execution_count": 19,
     "metadata": {},
     "output_type": "execute_result"
    }
   ],
   "source": [
    "# familiarize self with json, we can see here that the important info is stored within the features column\n",
    "nyc_json['features'][0]"
   ]
  },
  {
   "cell_type": "code",
   "execution_count": 20,
   "metadata": {},
   "outputs": [
    {
     "name": "stdout",
     "output_type": "stream",
     "text": [
      "<class 'pandas.core.frame.DataFrame'>\n",
      "RangeIndex: 306 entries, 0 to 305\n",
      "Data columns (total 13 columns):\n",
      " #   Column                Non-Null Count  Dtype  \n",
      "---  ------                --------------  -----  \n",
      " 0   type                  306 non-null    object \n",
      " 1   id                    306 non-null    object \n",
      " 2   geometry_name         306 non-null    object \n",
      " 3   geometry.type         306 non-null    object \n",
      " 4   geometry.coordinates  306 non-null    object \n",
      " 5   properties.name       306 non-null    object \n",
      " 6   properties.stacked    306 non-null    int64  \n",
      " 7   properties.annoline1  306 non-null    object \n",
      " 8   properties.annoline2  163 non-null    object \n",
      " 9   properties.annoline3  9 non-null      object \n",
      " 10  properties.annoangle  306 non-null    float64\n",
      " 11  properties.borough    306 non-null    object \n",
      " 12  properties.bbox       306 non-null    object \n",
      "dtypes: float64(1), int64(1), object(11)\n",
      "memory usage: 31.2+ KB\n",
      "None\n"
     ]
    },
    {
     "data": {
      "text/html": [
       "<div>\n",
       "<style scoped>\n",
       "    .dataframe tbody tr th:only-of-type {\n",
       "        vertical-align: middle;\n",
       "    }\n",
       "\n",
       "    .dataframe tbody tr th {\n",
       "        vertical-align: top;\n",
       "    }\n",
       "\n",
       "    .dataframe thead th {\n",
       "        text-align: right;\n",
       "    }\n",
       "</style>\n",
       "<table border=\"1\" class=\"dataframe\">\n",
       "  <thead>\n",
       "    <tr style=\"text-align: right;\">\n",
       "      <th></th>\n",
       "      <th>type</th>\n",
       "      <th>id</th>\n",
       "      <th>geometry_name</th>\n",
       "      <th>geometry.type</th>\n",
       "      <th>geometry.coordinates</th>\n",
       "      <th>properties.name</th>\n",
       "      <th>properties.stacked</th>\n",
       "      <th>properties.annoline1</th>\n",
       "      <th>properties.annoline2</th>\n",
       "      <th>properties.annoline3</th>\n",
       "      <th>properties.annoangle</th>\n",
       "      <th>properties.borough</th>\n",
       "      <th>properties.bbox</th>\n",
       "    </tr>\n",
       "  </thead>\n",
       "  <tbody>\n",
       "    <tr>\n",
       "      <th>0</th>\n",
       "      <td>Feature</td>\n",
       "      <td>nyu_2451_34572.1</td>\n",
       "      <td>geom</td>\n",
       "      <td>Point</td>\n",
       "      <td>[-73.84720052054902, 40.89470517661]</td>\n",
       "      <td>Wakefield</td>\n",
       "      <td>1</td>\n",
       "      <td>Wakefield</td>\n",
       "      <td>None</td>\n",
       "      <td>None</td>\n",
       "      <td>0.0</td>\n",
       "      <td>Bronx</td>\n",
       "      <td>[-73.84720052054902, 40.89470517661, -73.84720...</td>\n",
       "    </tr>\n",
       "    <tr>\n",
       "      <th>1</th>\n",
       "      <td>Feature</td>\n",
       "      <td>nyu_2451_34572.2</td>\n",
       "      <td>geom</td>\n",
       "      <td>Point</td>\n",
       "      <td>[-73.82993910812398, 40.87429419303012]</td>\n",
       "      <td>Co-op City</td>\n",
       "      <td>2</td>\n",
       "      <td>Co-op</td>\n",
       "      <td>City</td>\n",
       "      <td>None</td>\n",
       "      <td>0.0</td>\n",
       "      <td>Bronx</td>\n",
       "      <td>[-73.82993910812398, 40.87429419303012, -73.82...</td>\n",
       "    </tr>\n",
       "    <tr>\n",
       "      <th>2</th>\n",
       "      <td>Feature</td>\n",
       "      <td>nyu_2451_34572.3</td>\n",
       "      <td>geom</td>\n",
       "      <td>Point</td>\n",
       "      <td>[-73.82780644716412, 40.887555677350775]</td>\n",
       "      <td>Eastchester</td>\n",
       "      <td>1</td>\n",
       "      <td>Eastchester</td>\n",
       "      <td>None</td>\n",
       "      <td>None</td>\n",
       "      <td>0.0</td>\n",
       "      <td>Bronx</td>\n",
       "      <td>[-73.82780644716412, 40.887555677350775, -73.8...</td>\n",
       "    </tr>\n",
       "    <tr>\n",
       "      <th>3</th>\n",
       "      <td>Feature</td>\n",
       "      <td>nyu_2451_34572.4</td>\n",
       "      <td>geom</td>\n",
       "      <td>Point</td>\n",
       "      <td>[-73.90564259591682, 40.89543742690383]</td>\n",
       "      <td>Fieldston</td>\n",
       "      <td>1</td>\n",
       "      <td>Fieldston</td>\n",
       "      <td>None</td>\n",
       "      <td>None</td>\n",
       "      <td>0.0</td>\n",
       "      <td>Bronx</td>\n",
       "      <td>[-73.90564259591682, 40.89543742690383, -73.90...</td>\n",
       "    </tr>\n",
       "    <tr>\n",
       "      <th>4</th>\n",
       "      <td>Feature</td>\n",
       "      <td>nyu_2451_34572.5</td>\n",
       "      <td>geom</td>\n",
       "      <td>Point</td>\n",
       "      <td>[-73.9125854610857, 40.890834493891305]</td>\n",
       "      <td>Riverdale</td>\n",
       "      <td>1</td>\n",
       "      <td>Riverdale</td>\n",
       "      <td>None</td>\n",
       "      <td>None</td>\n",
       "      <td>0.0</td>\n",
       "      <td>Bronx</td>\n",
       "      <td>[-73.9125854610857, 40.890834493891305, -73.91...</td>\n",
       "    </tr>\n",
       "  </tbody>\n",
       "</table>\n",
       "</div>"
      ],
      "text/plain": [
       "      type                id geometry_name geometry.type  \\\n",
       "0  Feature  nyu_2451_34572.1          geom         Point   \n",
       "1  Feature  nyu_2451_34572.2          geom         Point   \n",
       "2  Feature  nyu_2451_34572.3          geom         Point   \n",
       "3  Feature  nyu_2451_34572.4          geom         Point   \n",
       "4  Feature  nyu_2451_34572.5          geom         Point   \n",
       "\n",
       "                       geometry.coordinates properties.name  \\\n",
       "0      [-73.84720052054902, 40.89470517661]       Wakefield   \n",
       "1   [-73.82993910812398, 40.87429419303012]      Co-op City   \n",
       "2  [-73.82780644716412, 40.887555677350775]     Eastchester   \n",
       "3   [-73.90564259591682, 40.89543742690383]       Fieldston   \n",
       "4   [-73.9125854610857, 40.890834493891305]       Riverdale   \n",
       "\n",
       "   properties.stacked properties.annoline1 properties.annoline2  \\\n",
       "0                   1            Wakefield                 None   \n",
       "1                   2                Co-op                 City   \n",
       "2                   1          Eastchester                 None   \n",
       "3                   1            Fieldston                 None   \n",
       "4                   1            Riverdale                 None   \n",
       "\n",
       "  properties.annoline3  properties.annoangle properties.borough  \\\n",
       "0                 None                   0.0              Bronx   \n",
       "1                 None                   0.0              Bronx   \n",
       "2                 None                   0.0              Bronx   \n",
       "3                 None                   0.0              Bronx   \n",
       "4                 None                   0.0              Bronx   \n",
       "\n",
       "                                     properties.bbox  \n",
       "0  [-73.84720052054902, 40.89470517661, -73.84720...  \n",
       "1  [-73.82993910812398, 40.87429419303012, -73.82...  \n",
       "2  [-73.82780644716412, 40.887555677350775, -73.8...  \n",
       "3  [-73.90564259591682, 40.89543742690383, -73.90...  \n",
       "4  [-73.9125854610857, 40.890834493891305, -73.91...  "
      ]
     },
     "execution_count": 20,
     "metadata": {},
     "output_type": "execute_result"
    }
   ],
   "source": [
    "# drill down into feature columns, save as new dataframe\n",
    "nyc = pd.json_normalize(nyc_json, record_path= 'features')\n",
    "\n",
    "# examine nyc dataframe\n",
    "print(nyc.info())\n",
    "nyc.head()"
   ]
  },
  {
   "cell_type": "markdown",
   "metadata": {},
   "source": [
    "### Data Cleaning"
   ]
  },
  {
   "cell_type": "code",
   "execution_count": 21,
   "metadata": {},
   "outputs": [],
   "source": [
    "# geometry.coordinates is a list within one column, so let's split it so that all values are shown in the main dataframe\n",
    "coords = pd.DataFrame(nyc['geometry.coordinates'].tolist(), columns=['long','lat'])\n",
    "\n",
    "# properties.bbox is the same as geometry.coordinates, except that properties.bbox lists the same coordiantes twice, so we'll filter that out immediately\n",
    "# we will also filter out geometry.coordinates as it has now been split\n",
    "nyc_drop = nyc.drop(columns=['geometry.coordinates', 'properties.bbox'])"
   ]
  },
  {
   "cell_type": "code",
   "execution_count": 22,
   "metadata": {},
   "outputs": [
    {
     "name": "stdout",
     "output_type": "stream",
     "text": [
      "Column Name: type\n",
      "# of Unique Values: 1\n",
      "Unique Values: ['Feature']\n",
      "==============================================================\n",
      "Column Name: id\n",
      "# of Unique Values: 306\n",
      "Unique Values: ['nyu_2451_34572.1' 'nyu_2451_34572.2' 'nyu_2451_34572.3'\n",
      " 'nyu_2451_34572.4' 'nyu_2451_34572.5' 'nyu_2451_34572.6'\n",
      " 'nyu_2451_34572.7' 'nyu_2451_34572.8' 'nyu_2451_34572.9'\n",
      " 'nyu_2451_34572.10' 'nyu_2451_34572.11' 'nyu_2451_34572.12'\n",
      " 'nyu_2451_34572.13' 'nyu_2451_34572.14' 'nyu_2451_34572.15'\n",
      " 'nyu_2451_34572.16' 'nyu_2451_34572.17' 'nyu_2451_34572.18'\n",
      " 'nyu_2451_34572.19' 'nyu_2451_34572.20' 'nyu_2451_34572.21'\n",
      " 'nyu_2451_34572.22' 'nyu_2451_34572.23' 'nyu_2451_34572.24'\n",
      " 'nyu_2451_34572.25' 'nyu_2451_34572.26' 'nyu_2451_34572.27'\n",
      " 'nyu_2451_34572.28' 'nyu_2451_34572.29' 'nyu_2451_34572.30'\n",
      " 'nyu_2451_34572.31' 'nyu_2451_34572.32' 'nyu_2451_34572.33'\n",
      " 'nyu_2451_34572.34' 'nyu_2451_34572.35' 'nyu_2451_34572.36'\n",
      " 'nyu_2451_34572.37' 'nyu_2451_34572.38' 'nyu_2451_34572.39'\n",
      " 'nyu_2451_34572.40' 'nyu_2451_34572.41' 'nyu_2451_34572.42'\n",
      " 'nyu_2451_34572.43' 'nyu_2451_34572.44' 'nyu_2451_34572.45'\n",
      " 'nyu_2451_34572.46' 'nyu_2451_34572.47' 'nyu_2451_34572.48'\n",
      " 'nyu_2451_34572.49' 'nyu_2451_34572.50' 'nyu_2451_34572.51'\n",
      " 'nyu_2451_34572.52' 'nyu_2451_34572.53' 'nyu_2451_34572.54'\n",
      " 'nyu_2451_34572.55' 'nyu_2451_34572.56' 'nyu_2451_34572.57'\n",
      " 'nyu_2451_34572.58' 'nyu_2451_34572.59' 'nyu_2451_34572.60'\n",
      " 'nyu_2451_34572.61' 'nyu_2451_34572.62' 'nyu_2451_34572.63'\n",
      " 'nyu_2451_34572.64' 'nyu_2451_34572.65' 'nyu_2451_34572.66'\n",
      " 'nyu_2451_34572.67' 'nyu_2451_34572.68' 'nyu_2451_34572.69'\n",
      " 'nyu_2451_34572.70' 'nyu_2451_34572.71' 'nyu_2451_34572.72'\n",
      " 'nyu_2451_34572.73' 'nyu_2451_34572.74' 'nyu_2451_34572.75'\n",
      " 'nyu_2451_34572.76' 'nyu_2451_34572.77' 'nyu_2451_34572.78'\n",
      " 'nyu_2451_34572.79' 'nyu_2451_34572.80' 'nyu_2451_34572.81'\n",
      " 'nyu_2451_34572.82' 'nyu_2451_34572.83' 'nyu_2451_34572.84'\n",
      " 'nyu_2451_34572.85' 'nyu_2451_34572.86' 'nyu_2451_34572.87'\n",
      " 'nyu_2451_34572.88' 'nyu_2451_34572.89' 'nyu_2451_34572.90'\n",
      " 'nyu_2451_34572.91' 'nyu_2451_34572.92' 'nyu_2451_34572.93'\n",
      " 'nyu_2451_34572.94' 'nyu_2451_34572.95' 'nyu_2451_34572.96'\n",
      " 'nyu_2451_34572.97' 'nyu_2451_34572.98' 'nyu_2451_34572.99'\n",
      " 'nyu_2451_34572.100' 'nyu_2451_34572.101' 'nyu_2451_34572.102'\n",
      " 'nyu_2451_34572.103' 'nyu_2451_34572.104' 'nyu_2451_34572.105'\n",
      " 'nyu_2451_34572.106' 'nyu_2451_34572.107' 'nyu_2451_34572.108'\n",
      " 'nyu_2451_34572.109' 'nyu_2451_34572.110' 'nyu_2451_34572.111'\n",
      " 'nyu_2451_34572.112' 'nyu_2451_34572.113' 'nyu_2451_34572.114'\n",
      " 'nyu_2451_34572.115' 'nyu_2451_34572.116' 'nyu_2451_34572.117'\n",
      " 'nyu_2451_34572.118' 'nyu_2451_34572.119' 'nyu_2451_34572.120'\n",
      " 'nyu_2451_34572.121' 'nyu_2451_34572.122' 'nyu_2451_34572.123'\n",
      " 'nyu_2451_34572.124' 'nyu_2451_34572.125' 'nyu_2451_34572.126'\n",
      " 'nyu_2451_34572.127' 'nyu_2451_34572.128' 'nyu_2451_34572.129'\n",
      " 'nyu_2451_34572.130' 'nyu_2451_34572.131' 'nyu_2451_34572.132'\n",
      " 'nyu_2451_34572.133' 'nyu_2451_34572.134' 'nyu_2451_34572.135'\n",
      " 'nyu_2451_34572.136' 'nyu_2451_34572.137' 'nyu_2451_34572.138'\n",
      " 'nyu_2451_34572.139' 'nyu_2451_34572.140' 'nyu_2451_34572.141'\n",
      " 'nyu_2451_34572.142' 'nyu_2451_34572.143' 'nyu_2451_34572.144'\n",
      " 'nyu_2451_34572.145' 'nyu_2451_34572.146' 'nyu_2451_34572.147'\n",
      " 'nyu_2451_34572.148' 'nyu_2451_34572.149' 'nyu_2451_34572.150'\n",
      " 'nyu_2451_34572.151' 'nyu_2451_34572.152' 'nyu_2451_34572.153'\n",
      " 'nyu_2451_34572.154' 'nyu_2451_34572.155' 'nyu_2451_34572.156'\n",
      " 'nyu_2451_34572.157' 'nyu_2451_34572.158' 'nyu_2451_34572.159'\n",
      " 'nyu_2451_34572.160' 'nyu_2451_34572.161' 'nyu_2451_34572.162'\n",
      " 'nyu_2451_34572.163' 'nyu_2451_34572.164' 'nyu_2451_34572.165'\n",
      " 'nyu_2451_34572.166' 'nyu_2451_34572.167' 'nyu_2451_34572.168'\n",
      " 'nyu_2451_34572.169' 'nyu_2451_34572.170' 'nyu_2451_34572.171'\n",
      " 'nyu_2451_34572.172' 'nyu_2451_34572.173' 'nyu_2451_34572.174'\n",
      " 'nyu_2451_34572.175' 'nyu_2451_34572.176' 'nyu_2451_34572.177'\n",
      " 'nyu_2451_34572.178' 'nyu_2451_34572.179' 'nyu_2451_34572.180'\n",
      " 'nyu_2451_34572.181' 'nyu_2451_34572.182' 'nyu_2451_34572.183'\n",
      " 'nyu_2451_34572.184' 'nyu_2451_34572.185' 'nyu_2451_34572.186'\n",
      " 'nyu_2451_34572.187' 'nyu_2451_34572.188' 'nyu_2451_34572.189'\n",
      " 'nyu_2451_34572.190' 'nyu_2451_34572.191' 'nyu_2451_34572.192'\n",
      " 'nyu_2451_34572.193' 'nyu_2451_34572.194' 'nyu_2451_34572.195'\n",
      " 'nyu_2451_34572.196' 'nyu_2451_34572.197' 'nyu_2451_34572.198'\n",
      " 'nyu_2451_34572.199' 'nyu_2451_34572.200' 'nyu_2451_34572.201'\n",
      " 'nyu_2451_34572.202' 'nyu_2451_34572.203' 'nyu_2451_34572.204'\n",
      " 'nyu_2451_34572.205' 'nyu_2451_34572.206' 'nyu_2451_34572.207'\n",
      " 'nyu_2451_34572.208' 'nyu_2451_34572.209' 'nyu_2451_34572.210'\n",
      " 'nyu_2451_34572.211' 'nyu_2451_34572.212' 'nyu_2451_34572.213'\n",
      " 'nyu_2451_34572.214' 'nyu_2451_34572.215' 'nyu_2451_34572.216'\n",
      " 'nyu_2451_34572.217' 'nyu_2451_34572.218' 'nyu_2451_34572.219'\n",
      " 'nyu_2451_34572.220' 'nyu_2451_34572.221' 'nyu_2451_34572.222'\n",
      " 'nyu_2451_34572.223' 'nyu_2451_34572.224' 'nyu_2451_34572.225'\n",
      " 'nyu_2451_34572.226' 'nyu_2451_34572.227' 'nyu_2451_34572.228'\n",
      " 'nyu_2451_34572.229' 'nyu_2451_34572.230' 'nyu_2451_34572.231'\n",
      " 'nyu_2451_34572.232' 'nyu_2451_34572.233' 'nyu_2451_34572.234'\n",
      " 'nyu_2451_34572.235' 'nyu_2451_34572.236' 'nyu_2451_34572.237'\n",
      " 'nyu_2451_34572.238' 'nyu_2451_34572.239' 'nyu_2451_34572.240'\n",
      " 'nyu_2451_34572.241' 'nyu_2451_34572.242' 'nyu_2451_34572.243'\n",
      " 'nyu_2451_34572.244' 'nyu_2451_34572.245' 'nyu_2451_34572.246'\n",
      " 'nyu_2451_34572.247' 'nyu_2451_34572.248' 'nyu_2451_34572.249'\n",
      " 'nyu_2451_34572.250' 'nyu_2451_34572.251' 'nyu_2451_34572.252'\n",
      " 'nyu_2451_34572.253' 'nyu_2451_34572.254' 'nyu_2451_34572.255'\n",
      " 'nyu_2451_34572.256' 'nyu_2451_34572.257' 'nyu_2451_34572.258'\n",
      " 'nyu_2451_34572.259' 'nyu_2451_34572.260' 'nyu_2451_34572.261'\n",
      " 'nyu_2451_34572.262' 'nyu_2451_34572.263' 'nyu_2451_34572.264'\n",
      " 'nyu_2451_34572.265' 'nyu_2451_34572.266' 'nyu_2451_34572.267'\n",
      " 'nyu_2451_34572.268' 'nyu_2451_34572.269' 'nyu_2451_34572.270'\n",
      " 'nyu_2451_34572.271' 'nyu_2451_34572.272' 'nyu_2451_34572.273'\n",
      " 'nyu_2451_34572.274' 'nyu_2451_34572.275' 'nyu_2451_34572.276'\n",
      " 'nyu_2451_34572.277' 'nyu_2451_34572.278' 'nyu_2451_34572.279'\n",
      " 'nyu_2451_34572.280' 'nyu_2451_34572.281' 'nyu_2451_34572.282'\n",
      " 'nyu_2451_34572.283' 'nyu_2451_34572.284' 'nyu_2451_34572.285'\n",
      " 'nyu_2451_34572.286' 'nyu_2451_34572.287' 'nyu_2451_34572.288'\n",
      " 'nyu_2451_34572.289' 'nyu_2451_34572.290' 'nyu_2451_34572.291'\n",
      " 'nyu_2451_34572.292' 'nyu_2451_34572.293' 'nyu_2451_34572.294'\n",
      " 'nyu_2451_34572.295' 'nyu_2451_34572.296' 'nyu_2451_34572.297'\n",
      " 'nyu_2451_34572.298' 'nyu_2451_34572.299' 'nyu_2451_34572.300'\n",
      " 'nyu_2451_34572.301' 'nyu_2451_34572.302' 'nyu_2451_34572.303'\n",
      " 'nyu_2451_34572.304' 'nyu_2451_34572.305' 'nyu_2451_34572.306']\n",
      "==============================================================\n",
      "Column Name: geometry_name\n",
      "# of Unique Values: 1\n",
      "Unique Values: ['geom']\n",
      "==============================================================\n",
      "Column Name: geometry.type\n",
      "# of Unique Values: 1\n",
      "Unique Values: ['Point']\n",
      "==============================================================\n",
      "Column Name: properties.name\n",
      "# of Unique Values: 302\n",
      "Unique Values: ['Wakefield' 'Co-op City' 'Eastchester' 'Fieldston' 'Riverdale'\n",
      " 'Kingsbridge' 'Marble Hill' 'Woodlawn' 'Norwood' 'Williamsbridge'\n",
      " 'Baychester' 'Pelham Parkway' 'City Island' 'Bedford Park'\n",
      " 'University Heights' 'Morris Heights' 'Fordham' 'East Tremont'\n",
      " 'West Farms' 'High  Bridge' 'Melrose' 'Mott Haven' 'Port Morris'\n",
      " 'Longwood' 'Hunts Point' 'Morrisania' 'Soundview' 'Clason Point'\n",
      " 'Throgs Neck' 'Country Club' 'Parkchester' 'Westchester Square'\n",
      " 'Van Nest' 'Morris Park' 'Belmont' 'Spuyten Duyvil' 'North Riverdale'\n",
      " 'Pelham Bay' 'Schuylerville' 'Edgewater Park' 'Castle Hill' 'Olinville'\n",
      " 'Pelham Gardens' 'Concourse' 'Unionport' 'Edenwald' 'Bay Ridge'\n",
      " 'Bensonhurst' 'Sunset Park' 'Greenpoint' 'Gravesend' 'Brighton Beach'\n",
      " 'Sheepshead Bay' 'Manhattan Terrace' 'Flatbush' 'Crown Heights'\n",
      " 'East Flatbush' 'Kensington' 'Windsor Terrace' 'Prospect Heights'\n",
      " 'Brownsville' 'Williamsburg' 'Bushwick' 'Bedford Stuyvesant'\n",
      " 'Brooklyn Heights' 'Cobble Hill' 'Carroll Gardens' 'Red Hook' 'Gowanus'\n",
      " 'Fort Greene' 'Park Slope' 'Cypress Hills' 'East New York'\n",
      " 'Starrett City' 'Canarsie' 'Flatlands' 'Mill Island' 'Manhattan Beach'\n",
      " 'Coney Island' 'Bath Beach' 'Borough Park' 'Dyker Heights'\n",
      " 'Gerritsen Beach' 'Marine Park' 'Clinton Hill' 'Sea Gate' 'Downtown'\n",
      " 'Boerum Hill' 'Prospect Lefferts Gardens' 'Ocean Hill' 'City Line'\n",
      " 'Bergen Beach' 'Midwood' 'Prospect Park South' 'Georgetown'\n",
      " 'East Williamsburg' 'North Side' 'South Side' 'Ocean Parkway'\n",
      " 'Fort Hamilton' 'Chinatown' 'Washington Heights' 'Inwood'\n",
      " 'Hamilton Heights' 'Manhattanville' 'Central Harlem' 'East Harlem'\n",
      " 'Upper East Side' 'Yorkville' 'Lenox Hill' 'Roosevelt Island'\n",
      " 'Upper West Side' 'Lincoln Square' 'Clinton' 'Midtown' 'Murray Hill'\n",
      " 'Chelsea' 'Greenwich Village' 'East Village' 'Lower East Side' 'Tribeca'\n",
      " 'Little Italy' 'Soho' 'West Village' 'Manhattan Valley'\n",
      " 'Morningside Heights' 'Gramercy' 'Battery Park City' 'Financial District'\n",
      " 'Astoria' 'Woodside' 'Jackson Heights' 'Elmhurst' 'Howard Beach' 'Corona'\n",
      " 'Forest Hills' 'Kew Gardens' 'Richmond Hill' 'Flushing'\n",
      " 'Long Island City' 'Sunnyside' 'East Elmhurst' 'Maspeth' 'Ridgewood'\n",
      " 'Glendale' 'Rego Park' 'Woodhaven' 'Ozone Park' 'South Ozone Park'\n",
      " 'College Point' 'Whitestone' 'Bayside' 'Auburndale' 'Little Neck'\n",
      " 'Douglaston' 'Glen Oaks' 'Bellerose' 'Kew Gardens Hills' 'Fresh Meadows'\n",
      " 'Briarwood' 'Jamaica Center' 'Oakland Gardens' 'Queens Village' 'Hollis'\n",
      " 'South Jamaica' 'St. Albans' 'Rochdale' 'Springfield Gardens'\n",
      " 'Cambria Heights' 'Rosedale' 'Far Rockaway' 'Broad Channel'\n",
      " 'Breezy Point' 'Steinway' 'Beechhurst' 'Bay Terrace' 'Edgemere' 'Arverne'\n",
      " 'Rockaway Beach' 'Neponsit' 'Floral Park' 'Holliswood' 'Jamaica Estates'\n",
      " 'Queensboro Hill' 'Hillcrest' 'Ravenswood' 'Lindenwood' 'Laurelton'\n",
      " 'Lefrak City' 'Belle Harbor' 'Rockaway Park' 'Somerville' 'Brookville'\n",
      " 'Bellaire' 'North Corona' 'Forest Hills Gardens' 'St. George'\n",
      " 'New Brighton' 'Stapleton' 'Rosebank' 'West Brighton' 'Grymes Hill'\n",
      " 'Todt Hill' 'South Beach' 'Port Richmond' \"Mariner's Harbor\" 'Port Ivory'\n",
      " 'Castleton Corners' 'New Springville' 'Travis' 'New Dorp' 'Oakwood'\n",
      " 'Great Kills' 'Eltingville' 'Annadale' 'Woodrow' 'Tottenville'\n",
      " 'Tompkinsville' 'Silver Lake' 'Ditmas Park' 'Wingate' 'Rugby' 'Park Hill'\n",
      " 'Westerleigh' 'Graniteville' 'Arlington' 'Arrochar' 'Grasmere' 'Old Town'\n",
      " 'Dongan Hills' 'Midland Beach' 'Grant City' 'New Dorp Beach' 'Huguenot'\n",
      " 'Pleasant Plains' 'Butler Manor' 'Charleston' 'Rossville' 'Arden Heights'\n",
      " 'Greenridge' 'Heartland Village' 'Bloomfield' 'Bulls Head'\n",
      " 'Carnegie Hill' 'Noho' 'Civic Center' 'Midtown South' 'Richmond Town'\n",
      " 'Shore Acres' 'Clifton' 'Concord' 'Emerson Hill' 'Randall Manor'\n",
      " 'Howland Hook' 'Elm Park' 'Remsen Village' 'New Lots' 'Paerdegat Basin'\n",
      " 'Mill Basin' 'Jamaica Hills' 'Utopia' 'Pomonok' 'Astoria Heights'\n",
      " 'Claremont Village' 'Concourse Village' 'Mount Eden' 'Mount Hope'\n",
      " 'Sutton Place' 'Hunters Point' 'Turtle Bay' 'Tudor City'\n",
      " 'Stuyvesant Town' 'Flatiron' 'Sunnyside Gardens' 'Blissville'\n",
      " 'Fulton Ferry' 'Vinegar Hill' 'Weeksville' 'Broadway Junction' 'Dumbo'\n",
      " 'Manor Heights' 'Willowbrook' 'Sandy Ground' 'Egbertville' 'Roxbury'\n",
      " 'Homecrest' 'Middle Village' \"Prince's Bay\" 'Lighthouse Hill'\n",
      " 'Richmond Valley' 'Malba' 'Highland Park' 'Madison' 'Bronxdale'\n",
      " 'Allerton' 'Kingsbridge Heights' 'Erasmus' 'Hudson Yards' 'Hammels'\n",
      " 'Bayswater' 'Queensbridge' 'Fox Hills']\n",
      "==============================================================\n",
      "Column Name: properties.stacked\n",
      "# of Unique Values: 3\n",
      "Unique Values: [1 2 3]\n",
      "==============================================================\n",
      "Column Name: properties.annoline1\n",
      "# of Unique Values: 263\n",
      "Unique Values: ['Wakefield' 'Co-op' 'Eastchester' 'Fieldston' 'Riverdale' 'Kingsbridge'\n",
      " 'Marble' 'Woodlawn' 'Norwood' 'Williamsbridge' 'Baychester'\n",
      " 'Pelham Parkway' 'City' 'Bedford' 'University' 'Morris' 'Fordham' 'East'\n",
      " 'West' 'Highbridge' 'Melrose' 'Mott Haven' 'Port' 'Longwood' 'Hunts'\n",
      " 'Morrisania' 'Soundview' 'Clason' 'Throgs Neck' 'Country' 'Parkchester'\n",
      " 'Westchester' 'Van' 'Morris Park' 'Belmont' 'Spuyten' 'North' 'Pelham'\n",
      " 'Schuylerville' 'Edgewater' 'Castle' 'Olinville' 'Concourse' 'Unionport'\n",
      " 'Edenwald' 'Bay Ridge' 'Bensonhurst' 'Sunset' 'Greenpoint' 'Gravesend'\n",
      " 'Brighton' 'Sheepshead' 'Manhattan' 'Flatbush' 'Crown' 'East Flatbush'\n",
      " 'Kensington' 'Windsor' 'Prospect' 'Brownsville' 'Williamsburg' 'Bushwick'\n",
      " 'Bedford Stuyvesant' 'Brooklyn' 'Cobble' 'Carroll' 'Red' 'Gowanus' 'Fort'\n",
      " 'Park' 'Cypress' 'East New York' 'Starrett' 'Canarsie' 'Flatlands' 'Mill'\n",
      " 'Coney Island' 'Bath' 'Borough' 'Dyker' 'Gerritsen' 'Marine Park'\n",
      " 'Clinton' 'Sea' 'Downtown' 'Boerum' 'Ocean' 'Bergen' 'Midwood'\n",
      " 'Georgetown' 'North Side' 'South Side' 'Chinatown' 'Washington' 'Inwood'\n",
      " 'Hamilton' 'Manhattanville' 'Central' 'Upper' 'Yorkville' 'Lenox'\n",
      " 'Roosevelt Island' 'Lincoln' 'Midtown' 'Murray' 'Chelsea' 'Greenwich'\n",
      " 'Lower' 'Tribeca' 'Little' 'Soho' 'Morningside' 'Gramercy' 'Battery'\n",
      " 'Financial' 'Astoria' 'Woodside' 'Jackson' 'Elmhurst' 'Howard' 'Corona'\n",
      " 'Forest' 'Kew' 'Richmond' 'Flushing' 'Long' 'Sunnyside' 'Maspeth'\n",
      " 'Ridgewood' 'Glendale' 'Rego Park' 'Woodhaven' 'Ozone Park' 'South'\n",
      " 'College' 'Whitestone' 'Bayside' 'Auburndale' 'Douglaston' 'Glen'\n",
      " 'Bellerose' 'Fresh' 'Briarwood' 'Jamaica' 'Oakland' 'Queens' 'Hollis'\n",
      " 'South Jamaica' 'St. Albans' 'Rochdale' 'Springfield' 'Cambria'\n",
      " 'Rosedale' 'Far Rockaway' 'Broad' 'Breezy' 'Steinway' 'Beechhurst' 'Bay'\n",
      " 'Edgemere' 'Arverne' 'Rockaway' 'Neponsit' 'Floral Park' 'Holliswood'\n",
      " 'Queensboro' 'Hillcrest' 'Ravenswood' 'Lindenwood' 'Laurelton' 'Lefrak'\n",
      " 'Belle Harbor' 'Rockaway Park' 'Somerville' 'Brookville' 'Bellaire' 'St.'\n",
      " 'New' 'Stapleton' 'Rosebank' 'Grymes' 'Todt' \"Mariner's\" 'Castleton'\n",
      " 'Travis' 'Oakwood' 'Great' 'Eltingville' 'Annadale' 'Woodrow'\n",
      " 'Tottenville' 'Tompkinsville' 'Silver' 'Ditmas' 'Wingate' 'Rugby'\n",
      " 'Westerleigh' 'Graniteville' 'Arlington' 'Arrochar' 'Grasmere' 'Old'\n",
      " 'Dongan' 'Midland' 'Grant' 'Huguenot' 'Pleasant' 'Butler' 'Charleston'\n",
      " 'Rossville' 'Arden' 'Greenridge' 'Heartland' 'Bloomfield' 'Bulls'\n",
      " 'Carnegie' 'Noho' 'Civic' 'Shore' 'Clifton' 'Concord' 'Emerson' 'Randall'\n",
      " 'Howland' 'Elm' 'Remsen' 'Paerdegat' 'Utopia' 'Pomonok' 'Claremont'\n",
      " 'Mount' 'Sutton' 'Hunters' 'Turtle' 'Tudor' 'Stuyvesant' 'Flatiron'\n",
      " 'Blissville' 'Fulton' 'Vinegar' 'Weeksville' 'Broadway' 'Dumbo' 'Manor'\n",
      " 'Willowbrook' 'Sandy' 'Egbertville' 'Roxbury' 'Homecrest' 'Middle'\n",
      " \"Prince's\" 'Lighthouse' 'Malba' 'Highland' 'Madison' 'Bronxdale'\n",
      " 'Allerton' 'Erasmus' 'Hudson' 'Hammels' 'Bayswater' 'Queensbridge' 'Fox']\n",
      "==============================================================\n",
      "Column Name: properties.annoline2\n",
      "# of Unique Values: 71\n",
      "Unique Values: [None 'City' 'Hill' 'Island' 'Park' 'Heights' 'Tremont' 'Farms' 'Morris'\n",
      " 'Point' 'Club' 'Square' 'Nest' 'Duyvil' 'Riverdale' 'Bay' 'Gardens'\n",
      " 'Beach' 'Terrace' 'Hook' 'Greene' 'Slope' 'Hills' 'Gate' 'Lefferts'\n",
      " 'Line' 'Park South' 'Williamsburg' 'Parkway' 'Hamilton' 'Harlem' 'East'\n",
      " 'West' 'Village' 'Italy' 'Valley' 'District' 'Elmhurst' 'Ozone Park'\n",
      " 'Neck' 'Oaks' 'Meadows' 'Center' 'Channel' 'Estates' 'Corona' 'George'\n",
      " 'Brighton' 'Richmond' 'Harbor' 'Ivory' 'Corners' 'Springville' 'Dorp'\n",
      " 'Kills' 'Lake' 'Town' 'Plains' 'Manor' 'Head' 'South' 'Acres' 'Lots'\n",
      " 'Basin' 'Eden' 'Hope' 'Place' 'Ferry' 'Junction' 'Ground' 'Yards']\n",
      "==============================================================\n",
      "Column Name: properties.annoline3\n",
      "# of Unique Values: 6\n",
      "Unique Values: [None 'Gardens' 'Side' 'City' 'Hills' 'Beach']\n",
      "==============================================================\n",
      "Column Name: properties.annoangle\n",
      "# of Unique Values: 2\n",
      "Unique Values: [ 0. 56.]\n",
      "==============================================================\n",
      "Column Name: properties.borough\n",
      "# of Unique Values: 5\n",
      "Unique Values: ['Bronx' 'Manhattan' 'Brooklyn' 'Queens' 'Staten Island']\n",
      "==============================================================\n"
     ]
    }
   ],
   "source": [
    "# check for unique values\n",
    "\n",
    "def unique_values(df):\n",
    "    columns = df.columns\n",
    "    for col in columns:\n",
    "        print('Column Name:', col)\n",
    "        print('# of Unique Values:', (len(df[col].unique())))\n",
    "        print('Unique Values:', df[col].unique())\n",
    "        print('==============================================================')\n",
    "    \n",
    "unique_values(nyc_drop)"
   ]
  },
  {
   "cell_type": "code",
   "execution_count": 23,
   "metadata": {},
   "outputs": [],
   "source": [
    "# drop columns that are not of use based on unique values and assignment criteria\n",
    "nyc_drop2 = nyc_drop.drop(columns=['id', 'type', 'geometry_name', 'geometry.type', 'properties.stacked', 'properties.annoline1', 'properties.annoline2', 'properties.annoline3', 'properties.annoangle'])"
   ]
  },
  {
   "cell_type": "code",
   "execution_count": 24,
   "metadata": {},
   "outputs": [
    {
     "data": {
      "text/html": [
       "<div>\n",
       "<style scoped>\n",
       "    .dataframe tbody tr th:only-of-type {\n",
       "        vertical-align: middle;\n",
       "    }\n",
       "\n",
       "    .dataframe tbody tr th {\n",
       "        vertical-align: top;\n",
       "    }\n",
       "\n",
       "    .dataframe thead th {\n",
       "        text-align: right;\n",
       "    }\n",
       "</style>\n",
       "<table border=\"1\" class=\"dataframe\">\n",
       "  <thead>\n",
       "    <tr style=\"text-align: right;\">\n",
       "      <th></th>\n",
       "      <th>properties.name</th>\n",
       "      <th>properties.borough</th>\n",
       "    </tr>\n",
       "  </thead>\n",
       "  <tbody>\n",
       "    <tr>\n",
       "      <th>0</th>\n",
       "      <td>Wakefield</td>\n",
       "      <td>Bronx</td>\n",
       "    </tr>\n",
       "    <tr>\n",
       "      <th>1</th>\n",
       "      <td>Co-op City</td>\n",
       "      <td>Bronx</td>\n",
       "    </tr>\n",
       "    <tr>\n",
       "      <th>2</th>\n",
       "      <td>Eastchester</td>\n",
       "      <td>Bronx</td>\n",
       "    </tr>\n",
       "    <tr>\n",
       "      <th>3</th>\n",
       "      <td>Fieldston</td>\n",
       "      <td>Bronx</td>\n",
       "    </tr>\n",
       "    <tr>\n",
       "      <th>4</th>\n",
       "      <td>Riverdale</td>\n",
       "      <td>Bronx</td>\n",
       "    </tr>\n",
       "    <tr>\n",
       "      <th>...</th>\n",
       "      <td>...</td>\n",
       "      <td>...</td>\n",
       "    </tr>\n",
       "    <tr>\n",
       "      <th>301</th>\n",
       "      <td>Hudson Yards</td>\n",
       "      <td>Manhattan</td>\n",
       "    </tr>\n",
       "    <tr>\n",
       "      <th>302</th>\n",
       "      <td>Hammels</td>\n",
       "      <td>Queens</td>\n",
       "    </tr>\n",
       "    <tr>\n",
       "      <th>303</th>\n",
       "      <td>Bayswater</td>\n",
       "      <td>Queens</td>\n",
       "    </tr>\n",
       "    <tr>\n",
       "      <th>304</th>\n",
       "      <td>Queensbridge</td>\n",
       "      <td>Queens</td>\n",
       "    </tr>\n",
       "    <tr>\n",
       "      <th>305</th>\n",
       "      <td>Fox Hills</td>\n",
       "      <td>Staten Island</td>\n",
       "    </tr>\n",
       "  </tbody>\n",
       "</table>\n",
       "<p>306 rows × 2 columns</p>\n",
       "</div>"
      ],
      "text/plain": [
       "    properties.name properties.borough\n",
       "0         Wakefield              Bronx\n",
       "1        Co-op City              Bronx\n",
       "2       Eastchester              Bronx\n",
       "3         Fieldston              Bronx\n",
       "4         Riverdale              Bronx\n",
       "..              ...                ...\n",
       "301    Hudson Yards          Manhattan\n",
       "302         Hammels             Queens\n",
       "303       Bayswater             Queens\n",
       "304    Queensbridge             Queens\n",
       "305       Fox Hills      Staten Island\n",
       "\n",
       "[306 rows x 2 columns]"
      ]
     },
     "execution_count": 24,
     "metadata": {},
     "output_type": "execute_result"
    }
   ],
   "source": [
    "# drop columns that are not of use based on unique values and assignment criteria\n",
    "nyc_drop.drop(columns=['id', 'type', 'geometry_name', 'geometry.type', 'properties.stacked', 'properties.annoline1', 'properties.annoline2', 'properties.annoline3', 'properties.annoangle'])"
   ]
  },
  {
   "cell_type": "code",
   "execution_count": 25,
   "metadata": {},
   "outputs": [
    {
     "data": {
      "text/html": [
       "<div>\n",
       "<style scoped>\n",
       "    .dataframe tbody tr th:only-of-type {\n",
       "        vertical-align: middle;\n",
       "    }\n",
       "\n",
       "    .dataframe tbody tr th {\n",
       "        vertical-align: top;\n",
       "    }\n",
       "\n",
       "    .dataframe thead th {\n",
       "        text-align: right;\n",
       "    }\n",
       "</style>\n",
       "<table border=\"1\" class=\"dataframe\">\n",
       "  <thead>\n",
       "    <tr style=\"text-align: right;\">\n",
       "      <th></th>\n",
       "      <th>properties.name</th>\n",
       "      <th>properties.borough</th>\n",
       "      <th>long</th>\n",
       "      <th>lat</th>\n",
       "    </tr>\n",
       "  </thead>\n",
       "  <tbody>\n",
       "    <tr>\n",
       "      <th>0</th>\n",
       "      <td>Wakefield</td>\n",
       "      <td>Bronx</td>\n",
       "      <td>-73.847201</td>\n",
       "      <td>40.894705</td>\n",
       "    </tr>\n",
       "    <tr>\n",
       "      <th>1</th>\n",
       "      <td>Co-op City</td>\n",
       "      <td>Bronx</td>\n",
       "      <td>-73.829939</td>\n",
       "      <td>40.874294</td>\n",
       "    </tr>\n",
       "    <tr>\n",
       "      <th>2</th>\n",
       "      <td>Eastchester</td>\n",
       "      <td>Bronx</td>\n",
       "      <td>-73.827806</td>\n",
       "      <td>40.887556</td>\n",
       "    </tr>\n",
       "    <tr>\n",
       "      <th>3</th>\n",
       "      <td>Fieldston</td>\n",
       "      <td>Bronx</td>\n",
       "      <td>-73.905643</td>\n",
       "      <td>40.895437</td>\n",
       "    </tr>\n",
       "    <tr>\n",
       "      <th>4</th>\n",
       "      <td>Riverdale</td>\n",
       "      <td>Bronx</td>\n",
       "      <td>-73.912585</td>\n",
       "      <td>40.890834</td>\n",
       "    </tr>\n",
       "    <tr>\n",
       "      <th>...</th>\n",
       "      <td>...</td>\n",
       "      <td>...</td>\n",
       "      <td>...</td>\n",
       "      <td>...</td>\n",
       "    </tr>\n",
       "    <tr>\n",
       "      <th>301</th>\n",
       "      <td>Hudson Yards</td>\n",
       "      <td>Manhattan</td>\n",
       "      <td>-74.000111</td>\n",
       "      <td>40.756658</td>\n",
       "    </tr>\n",
       "    <tr>\n",
       "      <th>302</th>\n",
       "      <td>Hammels</td>\n",
       "      <td>Queens</td>\n",
       "      <td>-73.805530</td>\n",
       "      <td>40.587338</td>\n",
       "    </tr>\n",
       "    <tr>\n",
       "      <th>303</th>\n",
       "      <td>Bayswater</td>\n",
       "      <td>Queens</td>\n",
       "      <td>-73.765968</td>\n",
       "      <td>40.611322</td>\n",
       "    </tr>\n",
       "    <tr>\n",
       "      <th>304</th>\n",
       "      <td>Queensbridge</td>\n",
       "      <td>Queens</td>\n",
       "      <td>-73.945631</td>\n",
       "      <td>40.756091</td>\n",
       "    </tr>\n",
       "    <tr>\n",
       "      <th>305</th>\n",
       "      <td>Fox Hills</td>\n",
       "      <td>Staten Island</td>\n",
       "      <td>-74.081740</td>\n",
       "      <td>40.617311</td>\n",
       "    </tr>\n",
       "  </tbody>\n",
       "</table>\n",
       "<p>306 rows × 4 columns</p>\n",
       "</div>"
      ],
      "text/plain": [
       "    properties.name properties.borough       long        lat\n",
       "0         Wakefield              Bronx -73.847201  40.894705\n",
       "1        Co-op City              Bronx -73.829939  40.874294\n",
       "2       Eastchester              Bronx -73.827806  40.887556\n",
       "3         Fieldston              Bronx -73.905643  40.895437\n",
       "4         Riverdale              Bronx -73.912585  40.890834\n",
       "..              ...                ...        ...        ...\n",
       "301    Hudson Yards          Manhattan -74.000111  40.756658\n",
       "302         Hammels             Queens -73.805530  40.587338\n",
       "303       Bayswater             Queens -73.765968  40.611322\n",
       "304    Queensbridge             Queens -73.945631  40.756091\n",
       "305       Fox Hills      Staten Island -74.081740  40.617311\n",
       "\n",
       "[306 rows x 4 columns]"
      ]
     },
     "execution_count": 25,
     "metadata": {},
     "output_type": "execute_result"
    }
   ],
   "source": [
    "# create a complete dataframe with the coordinates column and the newest dataframe\n",
    "nyc_complete = nyc_drop2.join(coords)\n",
    "nyc_complete"
   ]
  },
  {
   "cell_type": "code",
   "execution_count": 26,
   "metadata": {},
   "outputs": [
    {
     "data": {
      "text/plain": [
       "properties.name       0\n",
       "properties.borough    0\n",
       "long                  0\n",
       "lat                   0\n",
       "dtype: int64"
      ]
     },
     "execution_count": 26,
     "metadata": {},
     "output_type": "execute_result"
    }
   ],
   "source": [
    "# check for null values\n",
    "nyc_complete.isnull().sum()\n",
    "\n",
    "# no null values"
   ]
  },
  {
   "cell_type": "code",
   "execution_count": 27,
   "metadata": {},
   "outputs": [
    {
     "data": {
      "text/html": [
       "<div>\n",
       "<style scoped>\n",
       "    .dataframe tbody tr th:only-of-type {\n",
       "        vertical-align: middle;\n",
       "    }\n",
       "\n",
       "    .dataframe tbody tr th {\n",
       "        vertical-align: top;\n",
       "    }\n",
       "\n",
       "    .dataframe thead th {\n",
       "        text-align: right;\n",
       "    }\n",
       "</style>\n",
       "<table border=\"1\" class=\"dataframe\">\n",
       "  <thead>\n",
       "    <tr style=\"text-align: right;\">\n",
       "      <th></th>\n",
       "      <th>properties.name</th>\n",
       "      <th>properties.borough</th>\n",
       "      <th>long</th>\n",
       "      <th>lat</th>\n",
       "    </tr>\n",
       "  </thead>\n",
       "  <tbody>\n",
       "  </tbody>\n",
       "</table>\n",
       "</div>"
      ],
      "text/plain": [
       "Empty DataFrame\n",
       "Columns: [properties.name, properties.borough, long, lat]\n",
       "Index: []"
      ]
     },
     "execution_count": 27,
     "metadata": {},
     "output_type": "execute_result"
    }
   ],
   "source": [
    "# check for duplicate rows\n",
    "nyc_complete[nyc_complete.duplicated()]\n",
    "\n",
    "# no duplicate rows"
   ]
  },
  {
   "cell_type": "code",
   "execution_count": 28,
   "metadata": {},
   "outputs": [],
   "source": [
    "# reorder columns, and rename columns\n",
    "nyc_clean = nyc_complete[['properties.borough','properties.name','lat','long']]\n",
    "nyc_clean.columns = ['Borough', 'Neighbourhood','Latitude', 'Longitude']\n"
   ]
  },
  {
   "cell_type": "code",
   "execution_count": 29,
   "metadata": {},
   "outputs": [
    {
     "data": {
      "text/html": [
       "<div>\n",
       "<style scoped>\n",
       "    .dataframe tbody tr th:only-of-type {\n",
       "        vertical-align: middle;\n",
       "    }\n",
       "\n",
       "    .dataframe tbody tr th {\n",
       "        vertical-align: top;\n",
       "    }\n",
       "\n",
       "    .dataframe thead th {\n",
       "        text-align: right;\n",
       "    }\n",
       "</style>\n",
       "<table border=\"1\" class=\"dataframe\">\n",
       "  <thead>\n",
       "    <tr style=\"text-align: right;\">\n",
       "      <th></th>\n",
       "      <th>Borough</th>\n",
       "      <th>Neighbourhood</th>\n",
       "      <th>Latitude</th>\n",
       "      <th>Longitude</th>\n",
       "    </tr>\n",
       "  </thead>\n",
       "  <tbody>\n",
       "    <tr>\n",
       "      <th>0</th>\n",
       "      <td>Bronx</td>\n",
       "      <td>Wakefield</td>\n",
       "      <td>40.894705</td>\n",
       "      <td>-73.847201</td>\n",
       "    </tr>\n",
       "    <tr>\n",
       "      <th>1</th>\n",
       "      <td>Bronx</td>\n",
       "      <td>Co-op City</td>\n",
       "      <td>40.874294</td>\n",
       "      <td>-73.829939</td>\n",
       "    </tr>\n",
       "    <tr>\n",
       "      <th>2</th>\n",
       "      <td>Bronx</td>\n",
       "      <td>Eastchester</td>\n",
       "      <td>40.887556</td>\n",
       "      <td>-73.827806</td>\n",
       "    </tr>\n",
       "    <tr>\n",
       "      <th>3</th>\n",
       "      <td>Bronx</td>\n",
       "      <td>Fieldston</td>\n",
       "      <td>40.895437</td>\n",
       "      <td>-73.905643</td>\n",
       "    </tr>\n",
       "    <tr>\n",
       "      <th>4</th>\n",
       "      <td>Bronx</td>\n",
       "      <td>Riverdale</td>\n",
       "      <td>40.890834</td>\n",
       "      <td>-73.912585</td>\n",
       "    </tr>\n",
       "  </tbody>\n",
       "</table>\n",
       "</div>"
      ],
      "text/plain": [
       "  Borough Neighbourhood   Latitude  Longitude\n",
       "0   Bronx     Wakefield  40.894705 -73.847201\n",
       "1   Bronx    Co-op City  40.874294 -73.829939\n",
       "2   Bronx   Eastchester  40.887556 -73.827806\n",
       "3   Bronx     Fieldston  40.895437 -73.905643\n",
       "4   Bronx     Riverdale  40.890834 -73.912585"
      ]
     },
     "execution_count": 29,
     "metadata": {},
     "output_type": "execute_result"
    }
   ],
   "source": [
    "# preview cleaned dataset! \n",
    "nyc_clean.head()"
   ]
  },
  {
   "cell_type": "code",
   "execution_count": 30,
   "metadata": {},
   "outputs": [],
   "source": [
    "nyc_clean.to_csv('clean_data/nyc_geo_cleaned.csv', index=False)"
   ]
  },
  {
   "cell_type": "markdown",
   "metadata": {},
   "source": [
    "### Task\n",
    "Use different data sources and APIs to collect information about the neigborhoods that can be used for segmentation."
   ]
  },
  {
   "cell_type": "markdown",
   "metadata": {},
   "source": [
    "* api_helper_functions\n",
    "* api_pulls (fsq, yelp)\n",
    "* google_places_parsing\n",
    "* google_places_data_cleaning\n",
    "* rat_data_cleaning\n",
    "* uber_data_cleaning"
   ]
  },
  {
   "cell_type": "code",
   "execution_count": null,
   "metadata": {},
   "outputs": [],
   "source": []
  },
  {
   "cell_type": "code",
   "execution_count": null,
   "metadata": {},
   "outputs": [],
   "source": []
  },
  {
   "cell_type": "markdown",
   "metadata": {},
   "source": [
    "### Task\n",
    "\n",
    "Visualize the neigborhoods with graphs."
   ]
  },
  {
   "cell_type": "code",
   "execution_count": 31,
   "metadata": {},
   "outputs": [],
   "source": [
    "import pandas as pd\n",
    "import geopandas as gpd\n",
    "import matplotlib.pyplot as plt\n",
    "import plotly.express as px\n",
    "%matplotlib inline"
   ]
  },
  {
   "cell_type": "code",
   "execution_count": 32,
   "metadata": {},
   "outputs": [
    {
     "data": {
      "text/html": [
       "<div>\n",
       "<style scoped>\n",
       "    .dataframe tbody tr th:only-of-type {\n",
       "        vertical-align: middle;\n",
       "    }\n",
       "\n",
       "    .dataframe tbody tr th {\n",
       "        vertical-align: top;\n",
       "    }\n",
       "\n",
       "    .dataframe thead th {\n",
       "        text-align: right;\n",
       "    }\n",
       "</style>\n",
       "<table border=\"1\" class=\"dataframe\">\n",
       "  <thead>\n",
       "    <tr style=\"text-align: right;\">\n",
       "      <th></th>\n",
       "      <th>Unnamed: 0</th>\n",
       "      <th>Distance (m)</th>\n",
       "      <th>Name</th>\n",
       "      <th>Neighbourhood</th>\n",
       "      <th>Zipcode</th>\n",
       "      <th>Reviews</th>\n",
       "      <th>Rating</th>\n",
       "      <th>Price</th>\n",
       "      <th>Latitude</th>\n",
       "      <th>Longitude</th>\n",
       "      <th>Borough</th>\n",
       "      <th>Category</th>\n",
       "    </tr>\n",
       "  </thead>\n",
       "  <tbody>\n",
       "    <tr>\n",
       "      <th>0</th>\n",
       "      <td>0</td>\n",
       "      <td>127.0</td>\n",
       "      <td>Lollipops Gelato</td>\n",
       "      <td>Northeast Bronx</td>\n",
       "      <td>10466.0</td>\n",
       "      <td>NaN</td>\n",
       "      <td>4.215686</td>\n",
       "      <td>1.0</td>\n",
       "      <td>40.894705</td>\n",
       "      <td>-73.847201</td>\n",
       "      <td>Bronx</td>\n",
       "      <td>restaurant</td>\n",
       "    </tr>\n",
       "    <tr>\n",
       "      <th>1</th>\n",
       "      <td>2</td>\n",
       "      <td>821.0</td>\n",
       "      <td>Ali's Roti Shop</td>\n",
       "      <td>Northeast Bronx</td>\n",
       "      <td>10466.0</td>\n",
       "      <td>545.0</td>\n",
       "      <td>4.000000</td>\n",
       "      <td>1.0</td>\n",
       "      <td>40.894000</td>\n",
       "      <td>-73.856840</td>\n",
       "      <td>Bronx</td>\n",
       "      <td>restaurant</td>\n",
       "    </tr>\n",
       "    <tr>\n",
       "      <th>2</th>\n",
       "      <td>4</td>\n",
       "      <td>983.0</td>\n",
       "      <td>Jimbo's Hamburger Palace</td>\n",
       "      <td>Northeast Bronx</td>\n",
       "      <td>10466.0</td>\n",
       "      <td>24.0</td>\n",
       "      <td>3.000000</td>\n",
       "      <td>1.0</td>\n",
       "      <td>40.891804</td>\n",
       "      <td>-73.858604</td>\n",
       "      <td>Bronx</td>\n",
       "      <td>restaurant</td>\n",
       "    </tr>\n",
       "    <tr>\n",
       "      <th>3</th>\n",
       "      <td>6</td>\n",
       "      <td>454.0</td>\n",
       "      <td>Cooler Runnings Jamaican Restaurant</td>\n",
       "      <td>Northeast Bronx</td>\n",
       "      <td>10466.0</td>\n",
       "      <td>50.0</td>\n",
       "      <td>3.000000</td>\n",
       "      <td>1.0</td>\n",
       "      <td>40.898157</td>\n",
       "      <td>-73.850290</td>\n",
       "      <td>Bronx</td>\n",
       "      <td>restaurant</td>\n",
       "    </tr>\n",
       "    <tr>\n",
       "      <th>4</th>\n",
       "      <td>7</td>\n",
       "      <td>902.0</td>\n",
       "      <td>McDonald's</td>\n",
       "      <td>Northeast Bronx</td>\n",
       "      <td>10470.0</td>\n",
       "      <td>NaN</td>\n",
       "      <td>2.725490</td>\n",
       "      <td>1.0</td>\n",
       "      <td>40.894705</td>\n",
       "      <td>-73.847201</td>\n",
       "      <td>Bronx</td>\n",
       "      <td>restaurant</td>\n",
       "    </tr>\n",
       "  </tbody>\n",
       "</table>\n",
       "</div>"
      ],
      "text/plain": [
       "   Unnamed: 0  Distance (m)                                 Name  \\\n",
       "0           0         127.0                     Lollipops Gelato   \n",
       "1           2         821.0                      Ali's Roti Shop   \n",
       "2           4         983.0             Jimbo's Hamburger Palace   \n",
       "3           6         454.0  Cooler Runnings Jamaican Restaurant   \n",
       "4           7         902.0                           McDonald's   \n",
       "\n",
       "     Neighbourhood  Zipcode  Reviews    Rating  Price   Latitude  Longitude  \\\n",
       "0  Northeast Bronx  10466.0      NaN  4.215686    1.0  40.894705 -73.847201   \n",
       "1  Northeast Bronx  10466.0    545.0  4.000000    1.0  40.894000 -73.856840   \n",
       "2  Northeast Bronx  10466.0     24.0  3.000000    1.0  40.891804 -73.858604   \n",
       "3  Northeast Bronx  10466.0     50.0  3.000000    1.0  40.898157 -73.850290   \n",
       "4  Northeast Bronx  10470.0      NaN  2.725490    1.0  40.894705 -73.847201   \n",
       "\n",
       "  Borough    Category  \n",
       "0   Bronx  restaurant  \n",
       "1   Bronx  restaurant  \n",
       "2   Bronx  restaurant  \n",
       "3   Bronx  restaurant  \n",
       "4   Bronx  restaurant  "
      ]
     },
     "execution_count": 32,
     "metadata": {},
     "output_type": "execute_result"
    }
   ],
   "source": [
    "poi = pd.read_csv('clean_data/merged_pois_cleaned.csv')\n",
    "poi.head()"
   ]
  },
  {
   "cell_type": "code",
   "execution_count": 33,
   "metadata": {},
   "outputs": [
    {
     "data": {
      "text/plain": [
       "array(['Bronx', 'Manhattan', 'Brooklyn', 'Queens', 'Staten Island'],\n",
       "      dtype=object)"
      ]
     },
     "execution_count": 33,
     "metadata": {},
     "output_type": "execute_result"
    }
   ],
   "source": [
    "poi['Borough'].unique()"
   ]
  },
  {
   "cell_type": "markdown",
   "metadata": {},
   "source": [
    "#### [Scatter Plot](https://plotly.com/python/line-and-scatter/) - Average Rating/Price for POI's by Borough"
   ]
  },
  {
   "cell_type": "code",
   "execution_count": 34,
   "metadata": {},
   "outputs": [
    {
     "data": {
      "text/html": [
       "<div>\n",
       "<style scoped>\n",
       "    .dataframe tbody tr th:only-of-type {\n",
       "        vertical-align: middle;\n",
       "    }\n",
       "\n",
       "    .dataframe tbody tr th {\n",
       "        vertical-align: top;\n",
       "    }\n",
       "\n",
       "    .dataframe thead th {\n",
       "        text-align: right;\n",
       "    }\n",
       "</style>\n",
       "<table border=\"1\" class=\"dataframe\">\n",
       "  <thead>\n",
       "    <tr style=\"text-align: right;\">\n",
       "      <th></th>\n",
       "      <th>Borough</th>\n",
       "      <th>Average Rating</th>\n",
       "      <th>Average Price</th>\n",
       "    </tr>\n",
       "  </thead>\n",
       "  <tbody>\n",
       "    <tr>\n",
       "      <th>0</th>\n",
       "      <td>Bronx</td>\n",
       "      <td>3.886331</td>\n",
       "      <td>1.460526</td>\n",
       "    </tr>\n",
       "    <tr>\n",
       "      <th>1</th>\n",
       "      <td>Brooklyn</td>\n",
       "      <td>4.017779</td>\n",
       "      <td>1.647059</td>\n",
       "    </tr>\n",
       "    <tr>\n",
       "      <th>2</th>\n",
       "      <td>Manhattan</td>\n",
       "      <td>4.168687</td>\n",
       "      <td>2.013906</td>\n",
       "    </tr>\n",
       "    <tr>\n",
       "      <th>3</th>\n",
       "      <td>Queens</td>\n",
       "      <td>3.918687</td>\n",
       "      <td>1.576894</td>\n",
       "    </tr>\n",
       "    <tr>\n",
       "      <th>4</th>\n",
       "      <td>Staten Island</td>\n",
       "      <td>3.881290</td>\n",
       "      <td>1.582027</td>\n",
       "    </tr>\n",
       "  </tbody>\n",
       "</table>\n",
       "</div>"
      ],
      "text/plain": [
       "         Borough  Average Rating  Average Price\n",
       "0          Bronx        3.886331       1.460526\n",
       "1       Brooklyn        4.017779       1.647059\n",
       "2      Manhattan        4.168687       2.013906\n",
       "3         Queens        3.918687       1.576894\n",
       "4  Staten Island        3.881290       1.582027"
      ]
     },
     "execution_count": 34,
     "metadata": {},
     "output_type": "execute_result"
    }
   ],
   "source": [
    "# Create a new DataFrame with average rating and average price of places of interest by borough\n",
    "avg_price = poi[['Borough','Price']]\n",
    "avg_price = avg_price.groupby(avg_price['Borough']).mean().reset_index()\n",
    "\n",
    "borough_avg = poi[['Borough','Rating']]\n",
    "borough_avg = borough_avg.groupby(borough_avg['Borough']).mean().reset_index()\n",
    "\n",
    "borough_avg['Price'] = avg_price['Price']\n",
    "\n",
    "borough_avg.columns = ['Borough', 'Average Rating', 'Average Price']\n",
    "borough_avg"
   ]
  },
  {
   "cell_type": "code",
   "execution_count": 35,
   "metadata": {},
   "outputs": [
    {
     "data": {
      "application/vnd.plotly.v1+json": {
       "config": {
        "plotlyServerURL": "https://plot.ly"
       },
       "data": [
        {
         "hovertemplate": "Borough=Bronx<br>Average Price=%{x}<br>Average Rating=%{y}<extra></extra>",
         "legendgroup": "Bronx",
         "marker": {
          "color": "#636efa",
          "line": {
           "color": "DarkSlateGrey",
           "width": 2
          },
          "size": 20,
          "symbol": "circle"
         },
         "mode": "markers",
         "name": "Bronx",
         "orientation": "v",
         "showlegend": true,
         "type": "scatter",
         "x": [
          1.4605263157894737
         ],
         "xaxis": "x",
         "y": [
          3.88633145271865
         ],
         "yaxis": "y"
        },
        {
         "hovertemplate": "Borough=Brooklyn<br>Average Price=%{x}<br>Average Rating=%{y}<extra></extra>",
         "legendgroup": "Brooklyn",
         "marker": {
          "color": "#EF553B",
          "line": {
           "color": "DarkSlateGrey",
           "width": 2
          },
          "size": 20,
          "symbol": "circle"
         },
         "mode": "markers",
         "name": "Brooklyn",
         "orientation": "v",
         "showlegend": true,
         "type": "scatter",
         "x": [
          1.6470588235294117
         ],
         "xaxis": "x",
         "y": [
          4.017779333955805
         ],
         "yaxis": "y"
        },
        {
         "hovertemplate": "Borough=Manhattan<br>Average Price=%{x}<br>Average Rating=%{y}<extra></extra>",
         "legendgroup": "Manhattan",
         "marker": {
          "color": "#00cc96",
          "line": {
           "color": "DarkSlateGrey",
           "width": 2
          },
          "size": 20,
          "symbol": "circle"
         },
         "mode": "markers",
         "name": "Manhattan",
         "orientation": "v",
         "showlegend": true,
         "type": "scatter",
         "x": [
          2.013906447534766
         ],
         "xaxis": "x",
         "y": [
          4.168686699706544
         ],
         "yaxis": "y"
        },
        {
         "hovertemplate": "Borough=Queens<br>Average Price=%{x}<br>Average Rating=%{y}<extra></extra>",
         "legendgroup": "Queens",
         "marker": {
          "color": "#ab63fa",
          "line": {
           "color": "DarkSlateGrey",
           "width": 2
          },
          "size": 20,
          "symbol": "circle"
         },
         "mode": "markers",
         "name": "Queens",
         "orientation": "v",
         "showlegend": true,
         "type": "scatter",
         "x": [
          1.576893649579189
         ],
         "xaxis": "x",
         "y": [
          3.9186868756395605
         ],
         "yaxis": "y"
        },
        {
         "hovertemplate": "Borough=Staten Island<br>Average Price=%{x}<br>Average Rating=%{y}<extra></extra>",
         "legendgroup": "Staten Island",
         "marker": {
          "color": "#FFA15A",
          "line": {
           "color": "DarkSlateGrey",
           "width": 2
          },
          "size": 20,
          "symbol": "circle"
         },
         "mode": "markers",
         "name": "Staten Island",
         "orientation": "v",
         "showlegend": true,
         "type": "scatter",
         "x": [
          1.5820271682340648
         ],
         "xaxis": "x",
         "y": [
          3.881290466622014
         ],
         "yaxis": "y"
        }
       ],
       "layout": {
        "height": 800,
        "legend": {
         "title": {
          "text": "Borough"
         },
         "tracegroupgap": 0
        },
        "margin": {
         "b": 5,
         "l": 5,
         "r": 5,
         "t": 35
        },
        "paper_bgcolor": "White",
        "template": {
         "data": {
          "bar": [
           {
            "error_x": {
             "color": "#2a3f5f"
            },
            "error_y": {
             "color": "#2a3f5f"
            },
            "marker": {
             "line": {
              "color": "#E5ECF6",
              "width": 0.5
             },
             "pattern": {
              "fillmode": "overlay",
              "size": 10,
              "solidity": 0.2
             }
            },
            "type": "bar"
           }
          ],
          "barpolar": [
           {
            "marker": {
             "line": {
              "color": "#E5ECF6",
              "width": 0.5
             },
             "pattern": {
              "fillmode": "overlay",
              "size": 10,
              "solidity": 0.2
             }
            },
            "type": "barpolar"
           }
          ],
          "carpet": [
           {
            "aaxis": {
             "endlinecolor": "#2a3f5f",
             "gridcolor": "white",
             "linecolor": "white",
             "minorgridcolor": "white",
             "startlinecolor": "#2a3f5f"
            },
            "baxis": {
             "endlinecolor": "#2a3f5f",
             "gridcolor": "white",
             "linecolor": "white",
             "minorgridcolor": "white",
             "startlinecolor": "#2a3f5f"
            },
            "type": "carpet"
           }
          ],
          "choropleth": [
           {
            "colorbar": {
             "outlinewidth": 0,
             "ticks": ""
            },
            "type": "choropleth"
           }
          ],
          "contour": [
           {
            "colorbar": {
             "outlinewidth": 0,
             "ticks": ""
            },
            "colorscale": [
             [
              0,
              "#0d0887"
             ],
             [
              0.1111111111111111,
              "#46039f"
             ],
             [
              0.2222222222222222,
              "#7201a8"
             ],
             [
              0.3333333333333333,
              "#9c179e"
             ],
             [
              0.4444444444444444,
              "#bd3786"
             ],
             [
              0.5555555555555556,
              "#d8576b"
             ],
             [
              0.6666666666666666,
              "#ed7953"
             ],
             [
              0.7777777777777778,
              "#fb9f3a"
             ],
             [
              0.8888888888888888,
              "#fdca26"
             ],
             [
              1,
              "#f0f921"
             ]
            ],
            "type": "contour"
           }
          ],
          "contourcarpet": [
           {
            "colorbar": {
             "outlinewidth": 0,
             "ticks": ""
            },
            "type": "contourcarpet"
           }
          ],
          "heatmap": [
           {
            "colorbar": {
             "outlinewidth": 0,
             "ticks": ""
            },
            "colorscale": [
             [
              0,
              "#0d0887"
             ],
             [
              0.1111111111111111,
              "#46039f"
             ],
             [
              0.2222222222222222,
              "#7201a8"
             ],
             [
              0.3333333333333333,
              "#9c179e"
             ],
             [
              0.4444444444444444,
              "#bd3786"
             ],
             [
              0.5555555555555556,
              "#d8576b"
             ],
             [
              0.6666666666666666,
              "#ed7953"
             ],
             [
              0.7777777777777778,
              "#fb9f3a"
             ],
             [
              0.8888888888888888,
              "#fdca26"
             ],
             [
              1,
              "#f0f921"
             ]
            ],
            "type": "heatmap"
           }
          ],
          "heatmapgl": [
           {
            "colorbar": {
             "outlinewidth": 0,
             "ticks": ""
            },
            "colorscale": [
             [
              0,
              "#0d0887"
             ],
             [
              0.1111111111111111,
              "#46039f"
             ],
             [
              0.2222222222222222,
              "#7201a8"
             ],
             [
              0.3333333333333333,
              "#9c179e"
             ],
             [
              0.4444444444444444,
              "#bd3786"
             ],
             [
              0.5555555555555556,
              "#d8576b"
             ],
             [
              0.6666666666666666,
              "#ed7953"
             ],
             [
              0.7777777777777778,
              "#fb9f3a"
             ],
             [
              0.8888888888888888,
              "#fdca26"
             ],
             [
              1,
              "#f0f921"
             ]
            ],
            "type": "heatmapgl"
           }
          ],
          "histogram": [
           {
            "marker": {
             "pattern": {
              "fillmode": "overlay",
              "size": 10,
              "solidity": 0.2
             }
            },
            "type": "histogram"
           }
          ],
          "histogram2d": [
           {
            "colorbar": {
             "outlinewidth": 0,
             "ticks": ""
            },
            "colorscale": [
             [
              0,
              "#0d0887"
             ],
             [
              0.1111111111111111,
              "#46039f"
             ],
             [
              0.2222222222222222,
              "#7201a8"
             ],
             [
              0.3333333333333333,
              "#9c179e"
             ],
             [
              0.4444444444444444,
              "#bd3786"
             ],
             [
              0.5555555555555556,
              "#d8576b"
             ],
             [
              0.6666666666666666,
              "#ed7953"
             ],
             [
              0.7777777777777778,
              "#fb9f3a"
             ],
             [
              0.8888888888888888,
              "#fdca26"
             ],
             [
              1,
              "#f0f921"
             ]
            ],
            "type": "histogram2d"
           }
          ],
          "histogram2dcontour": [
           {
            "colorbar": {
             "outlinewidth": 0,
             "ticks": ""
            },
            "colorscale": [
             [
              0,
              "#0d0887"
             ],
             [
              0.1111111111111111,
              "#46039f"
             ],
             [
              0.2222222222222222,
              "#7201a8"
             ],
             [
              0.3333333333333333,
              "#9c179e"
             ],
             [
              0.4444444444444444,
              "#bd3786"
             ],
             [
              0.5555555555555556,
              "#d8576b"
             ],
             [
              0.6666666666666666,
              "#ed7953"
             ],
             [
              0.7777777777777778,
              "#fb9f3a"
             ],
             [
              0.8888888888888888,
              "#fdca26"
             ],
             [
              1,
              "#f0f921"
             ]
            ],
            "type": "histogram2dcontour"
           }
          ],
          "mesh3d": [
           {
            "colorbar": {
             "outlinewidth": 0,
             "ticks": ""
            },
            "type": "mesh3d"
           }
          ],
          "parcoords": [
           {
            "line": {
             "colorbar": {
              "outlinewidth": 0,
              "ticks": ""
             }
            },
            "type": "parcoords"
           }
          ],
          "pie": [
           {
            "automargin": true,
            "type": "pie"
           }
          ],
          "scatter": [
           {
            "fillpattern": {
             "fillmode": "overlay",
             "size": 10,
             "solidity": 0.2
            },
            "type": "scatter"
           }
          ],
          "scatter3d": [
           {
            "line": {
             "colorbar": {
              "outlinewidth": 0,
              "ticks": ""
             }
            },
            "marker": {
             "colorbar": {
              "outlinewidth": 0,
              "ticks": ""
             }
            },
            "type": "scatter3d"
           }
          ],
          "scattercarpet": [
           {
            "marker": {
             "colorbar": {
              "outlinewidth": 0,
              "ticks": ""
             }
            },
            "type": "scattercarpet"
           }
          ],
          "scattergeo": [
           {
            "marker": {
             "colorbar": {
              "outlinewidth": 0,
              "ticks": ""
             }
            },
            "type": "scattergeo"
           }
          ],
          "scattergl": [
           {
            "marker": {
             "colorbar": {
              "outlinewidth": 0,
              "ticks": ""
             }
            },
            "type": "scattergl"
           }
          ],
          "scattermapbox": [
           {
            "marker": {
             "colorbar": {
              "outlinewidth": 0,
              "ticks": ""
             }
            },
            "type": "scattermapbox"
           }
          ],
          "scatterpolar": [
           {
            "marker": {
             "colorbar": {
              "outlinewidth": 0,
              "ticks": ""
             }
            },
            "type": "scatterpolar"
           }
          ],
          "scatterpolargl": [
           {
            "marker": {
             "colorbar": {
              "outlinewidth": 0,
              "ticks": ""
             }
            },
            "type": "scatterpolargl"
           }
          ],
          "scatterternary": [
           {
            "marker": {
             "colorbar": {
              "outlinewidth": 0,
              "ticks": ""
             }
            },
            "type": "scatterternary"
           }
          ],
          "surface": [
           {
            "colorbar": {
             "outlinewidth": 0,
             "ticks": ""
            },
            "colorscale": [
             [
              0,
              "#0d0887"
             ],
             [
              0.1111111111111111,
              "#46039f"
             ],
             [
              0.2222222222222222,
              "#7201a8"
             ],
             [
              0.3333333333333333,
              "#9c179e"
             ],
             [
              0.4444444444444444,
              "#bd3786"
             ],
             [
              0.5555555555555556,
              "#d8576b"
             ],
             [
              0.6666666666666666,
              "#ed7953"
             ],
             [
              0.7777777777777778,
              "#fb9f3a"
             ],
             [
              0.8888888888888888,
              "#fdca26"
             ],
             [
              1,
              "#f0f921"
             ]
            ],
            "type": "surface"
           }
          ],
          "table": [
           {
            "cells": {
             "fill": {
              "color": "#EBF0F8"
             },
             "line": {
              "color": "white"
             }
            },
            "header": {
             "fill": {
              "color": "#C8D4E3"
             },
             "line": {
              "color": "white"
             }
            },
            "type": "table"
           }
          ]
         },
         "layout": {
          "annotationdefaults": {
           "arrowcolor": "#2a3f5f",
           "arrowhead": 0,
           "arrowwidth": 1
          },
          "autotypenumbers": "strict",
          "coloraxis": {
           "colorbar": {
            "outlinewidth": 0,
            "ticks": ""
           }
          },
          "colorscale": {
           "diverging": [
            [
             0,
             "#8e0152"
            ],
            [
             0.1,
             "#c51b7d"
            ],
            [
             0.2,
             "#de77ae"
            ],
            [
             0.3,
             "#f1b6da"
            ],
            [
             0.4,
             "#fde0ef"
            ],
            [
             0.5,
             "#f7f7f7"
            ],
            [
             0.6,
             "#e6f5d0"
            ],
            [
             0.7,
             "#b8e186"
            ],
            [
             0.8,
             "#7fbc41"
            ],
            [
             0.9,
             "#4d9221"
            ],
            [
             1,
             "#276419"
            ]
           ],
           "sequential": [
            [
             0,
             "#0d0887"
            ],
            [
             0.1111111111111111,
             "#46039f"
            ],
            [
             0.2222222222222222,
             "#7201a8"
            ],
            [
             0.3333333333333333,
             "#9c179e"
            ],
            [
             0.4444444444444444,
             "#bd3786"
            ],
            [
             0.5555555555555556,
             "#d8576b"
            ],
            [
             0.6666666666666666,
             "#ed7953"
            ],
            [
             0.7777777777777778,
             "#fb9f3a"
            ],
            [
             0.8888888888888888,
             "#fdca26"
            ],
            [
             1,
             "#f0f921"
            ]
           ],
           "sequentialminus": [
            [
             0,
             "#0d0887"
            ],
            [
             0.1111111111111111,
             "#46039f"
            ],
            [
             0.2222222222222222,
             "#7201a8"
            ],
            [
             0.3333333333333333,
             "#9c179e"
            ],
            [
             0.4444444444444444,
             "#bd3786"
            ],
            [
             0.5555555555555556,
             "#d8576b"
            ],
            [
             0.6666666666666666,
             "#ed7953"
            ],
            [
             0.7777777777777778,
             "#fb9f3a"
            ],
            [
             0.8888888888888888,
             "#fdca26"
            ],
            [
             1,
             "#f0f921"
            ]
           ]
          },
          "colorway": [
           "#636efa",
           "#EF553B",
           "#00cc96",
           "#ab63fa",
           "#FFA15A",
           "#19d3f3",
           "#FF6692",
           "#B6E880",
           "#FF97FF",
           "#FECB52"
          ],
          "font": {
           "color": "#2a3f5f"
          },
          "geo": {
           "bgcolor": "white",
           "lakecolor": "white",
           "landcolor": "#E5ECF6",
           "showlakes": true,
           "showland": true,
           "subunitcolor": "white"
          },
          "hoverlabel": {
           "align": "left"
          },
          "hovermode": "closest",
          "mapbox": {
           "style": "light"
          },
          "paper_bgcolor": "white",
          "plot_bgcolor": "#E5ECF6",
          "polar": {
           "angularaxis": {
            "gridcolor": "white",
            "linecolor": "white",
            "ticks": ""
           },
           "bgcolor": "#E5ECF6",
           "radialaxis": {
            "gridcolor": "white",
            "linecolor": "white",
            "ticks": ""
           }
          },
          "scene": {
           "xaxis": {
            "backgroundcolor": "#E5ECF6",
            "gridcolor": "white",
            "gridwidth": 2,
            "linecolor": "white",
            "showbackground": true,
            "ticks": "",
            "zerolinecolor": "white"
           },
           "yaxis": {
            "backgroundcolor": "#E5ECF6",
            "gridcolor": "white",
            "gridwidth": 2,
            "linecolor": "white",
            "showbackground": true,
            "ticks": "",
            "zerolinecolor": "white"
           },
           "zaxis": {
            "backgroundcolor": "#E5ECF6",
            "gridcolor": "white",
            "gridwidth": 2,
            "linecolor": "white",
            "showbackground": true,
            "ticks": "",
            "zerolinecolor": "white"
           }
          },
          "shapedefaults": {
           "line": {
            "color": "#2a3f5f"
           }
          },
          "ternary": {
           "aaxis": {
            "gridcolor": "white",
            "linecolor": "white",
            "ticks": ""
           },
           "baxis": {
            "gridcolor": "white",
            "linecolor": "white",
            "ticks": ""
           },
           "bgcolor": "#E5ECF6",
           "caxis": {
            "gridcolor": "white",
            "linecolor": "white",
            "ticks": ""
           }
          },
          "title": {
           "x": 0.05
          },
          "xaxis": {
           "automargin": true,
           "gridcolor": "white",
           "linecolor": "white",
           "ticks": "",
           "title": {
            "standoff": 15
           },
           "zerolinecolor": "white",
           "zerolinewidth": 2
          },
          "yaxis": {
           "automargin": true,
           "gridcolor": "white",
           "linecolor": "white",
           "ticks": "",
           "title": {
            "standoff": 15
           },
           "zerolinecolor": "white",
           "zerolinewidth": 2
          }
         }
        },
        "title": {
         "text": "Average Rating/Prices for POI's by Boroughs"
        },
        "width": 800,
        "xaxis": {
         "anchor": "y",
         "domain": [
          0,
          1
         ],
         "title": {
          "text": "Average Price"
         }
        },
        "yaxis": {
         "anchor": "x",
         "domain": [
          0,
          1
         ],
         "title": {
          "text": "Average Rating"
         }
        }
       }
      }
     },
     "metadata": {},
     "output_type": "display_data"
    }
   ],
   "source": [
    "# Create scatter plot based off new DataFrame\n",
    "fig = px.scatter(borough_avg, x='Average Price', y='Average Rating', color='Borough',\n",
    "                title=\"Average Rating/Prices for POI\\'s by Boroughs\",\n",
    "                width=800, height=800)\n",
    "\n",
    "# Customize scatter points\n",
    "fig.update_traces(marker=dict(size=20,\n",
    "                              line=dict(width=2,\n",
    "                                        color='DarkSlateGrey')),\n",
    "                  selector=dict(mode='markers'))\n",
    "\n",
    "# Customize graph layout\n",
    "fig.update_layout(\n",
    "    margin=dict(l=5, r=5, t=35, b=5),\n",
    "    paper_bgcolor=\"White\",\n",
    ")\n",
    "\n",
    "# Show graph (autoscaled)\n",
    "fig.show()"
   ]
  },
  {
   "cell_type": "code",
   "execution_count": 36,
   "metadata": {},
   "outputs": [
    {
     "data": {
      "text/html": [
       "<div>\n",
       "<style scoped>\n",
       "    .dataframe tbody tr th:only-of-type {\n",
       "        vertical-align: middle;\n",
       "    }\n",
       "\n",
       "    .dataframe tbody tr th {\n",
       "        vertical-align: top;\n",
       "    }\n",
       "\n",
       "    .dataframe thead th {\n",
       "        text-align: right;\n",
       "    }\n",
       "</style>\n",
       "<table border=\"1\" class=\"dataframe\">\n",
       "  <thead>\n",
       "    <tr style=\"text-align: right;\">\n",
       "      <th>Category</th>\n",
       "      <th>Borough</th>\n",
       "      <th>park</th>\n",
       "      <th>restaurant</th>\n",
       "      <th>school</th>\n",
       "      <th>supermarket</th>\n",
       "      <th>transit_station</th>\n",
       "    </tr>\n",
       "  </thead>\n",
       "  <tbody>\n",
       "    <tr>\n",
       "      <th>0</th>\n",
       "      <td>Bronx</td>\n",
       "      <td>409</td>\n",
       "      <td>1738</td>\n",
       "      <td>591</td>\n",
       "      <td>256</td>\n",
       "      <td>687</td>\n",
       "    </tr>\n",
       "    <tr>\n",
       "      <th>1</th>\n",
       "      <td>Brooklyn</td>\n",
       "      <td>618</td>\n",
       "      <td>2681</td>\n",
       "      <td>958</td>\n",
       "      <td>464</td>\n",
       "      <td>977</td>\n",
       "    </tr>\n",
       "    <tr>\n",
       "      <th>2</th>\n",
       "      <td>Manhattan</td>\n",
       "      <td>490</td>\n",
       "      <td>1583</td>\n",
       "      <td>460</td>\n",
       "      <td>272</td>\n",
       "      <td>541</td>\n",
       "    </tr>\n",
       "    <tr>\n",
       "      <th>3</th>\n",
       "      <td>Queens</td>\n",
       "      <td>531</td>\n",
       "      <td>2982</td>\n",
       "      <td>1061</td>\n",
       "      <td>340</td>\n",
       "      <td>1097</td>\n",
       "    </tr>\n",
       "    <tr>\n",
       "      <th>4</th>\n",
       "      <td>Staten Island</td>\n",
       "      <td>159</td>\n",
       "      <td>1256</td>\n",
       "      <td>373</td>\n",
       "      <td>42</td>\n",
       "      <td>685</td>\n",
       "    </tr>\n",
       "  </tbody>\n",
       "</table>\n",
       "</div>"
      ],
      "text/plain": [
       "Category        Borough  park  restaurant  school  supermarket  \\\n",
       "0                 Bronx   409        1738     591          256   \n",
       "1              Brooklyn   618        2681     958          464   \n",
       "2             Manhattan   490        1583     460          272   \n",
       "3                Queens   531        2982    1061          340   \n",
       "4         Staten Island   159        1256     373           42   \n",
       "\n",
       "Category  transit_station  \n",
       "0                     687  \n",
       "1                     977  \n",
       "2                     541  \n",
       "3                    1097  \n",
       "4                     685  "
      ]
     },
     "execution_count": 36,
     "metadata": {},
     "output_type": "execute_result"
    }
   ],
   "source": [
    "# Create new DataFrame with count of each place of interest by borough\n",
    "categories = poi[['Borough','Category']]\n",
    "categories = categories.groupby(['Borough','Category']).size().unstack(fill_value=0).reset_index()\n",
    "categories\n"
   ]
  },
  {
   "cell_type": "markdown",
   "metadata": {},
   "source": [
    "#### [Vertical Stacked Bar Chart](https://plotly.com/python/bar-charts/) - Places of Interest by Borough"
   ]
  },
  {
   "cell_type": "code",
   "execution_count": 37,
   "metadata": {},
   "outputs": [
    {
     "data": {
      "application/vnd.plotly.v1+json": {
       "config": {
        "plotlyServerURL": "https://plot.ly"
       },
       "data": [
        {
         "alignmentgroup": "True",
         "hovertemplate": "Place of Interest=park<br>Borough=%{x}<br>Count of POI's=%{y}<extra></extra>",
         "legendgroup": "park",
         "marker": {
          "color": "#636efa",
          "line": {
           "color": "DarkSlateGrey",
           "width": 1.5
          },
          "pattern": {
           "shape": ""
          }
         },
         "name": "park",
         "offsetgroup": "park",
         "orientation": "v",
         "showlegend": true,
         "textposition": "auto",
         "type": "bar",
         "x": [
          "Bronx",
          "Brooklyn",
          "Manhattan",
          "Queens",
          "Staten Island"
         ],
         "xaxis": "x",
         "y": [
          409,
          618,
          490,
          531,
          159
         ],
         "yaxis": "y"
        },
        {
         "alignmentgroup": "True",
         "hovertemplate": "Place of Interest=restaurant<br>Borough=%{x}<br>Count of POI's=%{y}<extra></extra>",
         "legendgroup": "restaurant",
         "marker": {
          "color": "#EF553B",
          "line": {
           "color": "DarkSlateGrey",
           "width": 1.5
          },
          "pattern": {
           "shape": ""
          }
         },
         "name": "restaurant",
         "offsetgroup": "restaurant",
         "orientation": "v",
         "showlegend": true,
         "textposition": "auto",
         "type": "bar",
         "x": [
          "Bronx",
          "Brooklyn",
          "Manhattan",
          "Queens",
          "Staten Island"
         ],
         "xaxis": "x",
         "y": [
          1738,
          2681,
          1583,
          2982,
          1256
         ],
         "yaxis": "y"
        },
        {
         "alignmentgroup": "True",
         "hovertemplate": "Place of Interest=school<br>Borough=%{x}<br>Count of POI's=%{y}<extra></extra>",
         "legendgroup": "school",
         "marker": {
          "color": "#00cc96",
          "line": {
           "color": "DarkSlateGrey",
           "width": 1.5
          },
          "pattern": {
           "shape": ""
          }
         },
         "name": "school",
         "offsetgroup": "school",
         "orientation": "v",
         "showlegend": true,
         "textposition": "auto",
         "type": "bar",
         "x": [
          "Bronx",
          "Brooklyn",
          "Manhattan",
          "Queens",
          "Staten Island"
         ],
         "xaxis": "x",
         "y": [
          591,
          958,
          460,
          1061,
          373
         ],
         "yaxis": "y"
        },
        {
         "alignmentgroup": "True",
         "hovertemplate": "Place of Interest=supermarket<br>Borough=%{x}<br>Count of POI's=%{y}<extra></extra>",
         "legendgroup": "supermarket",
         "marker": {
          "color": "#ab63fa",
          "line": {
           "color": "DarkSlateGrey",
           "width": 1.5
          },
          "pattern": {
           "shape": ""
          }
         },
         "name": "supermarket",
         "offsetgroup": "supermarket",
         "orientation": "v",
         "showlegend": true,
         "textposition": "auto",
         "type": "bar",
         "x": [
          "Bronx",
          "Brooklyn",
          "Manhattan",
          "Queens",
          "Staten Island"
         ],
         "xaxis": "x",
         "y": [
          256,
          464,
          272,
          340,
          42
         ],
         "yaxis": "y"
        },
        {
         "alignmentgroup": "True",
         "hovertemplate": "Place of Interest=transit_station<br>Borough=%{x}<br>Count of POI's=%{y}<extra></extra>",
         "legendgroup": "transit_station",
         "marker": {
          "color": "#FFA15A",
          "line": {
           "color": "DarkSlateGrey",
           "width": 1.5
          },
          "pattern": {
           "shape": ""
          }
         },
         "name": "transit_station",
         "offsetgroup": "transit_station",
         "orientation": "v",
         "showlegend": true,
         "textposition": "auto",
         "type": "bar",
         "x": [
          "Bronx",
          "Brooklyn",
          "Manhattan",
          "Queens",
          "Staten Island"
         ],
         "xaxis": "x",
         "y": [
          687,
          977,
          541,
          1097,
          685
         ],
         "yaxis": "y"
        }
       ],
       "layout": {
        "barmode": "relative",
        "height": 750,
        "legend": {
         "title": {
          "text": "Place of Interest"
         },
         "tracegroupgap": 0
        },
        "margin": {
         "b": 5,
         "l": 5,
         "r": 5,
         "t": 35
        },
        "paper_bgcolor": "White",
        "template": {
         "data": {
          "bar": [
           {
            "error_x": {
             "color": "#2a3f5f"
            },
            "error_y": {
             "color": "#2a3f5f"
            },
            "marker": {
             "line": {
              "color": "#E5ECF6",
              "width": 0.5
             },
             "pattern": {
              "fillmode": "overlay",
              "size": 10,
              "solidity": 0.2
             }
            },
            "type": "bar"
           }
          ],
          "barpolar": [
           {
            "marker": {
             "line": {
              "color": "#E5ECF6",
              "width": 0.5
             },
             "pattern": {
              "fillmode": "overlay",
              "size": 10,
              "solidity": 0.2
             }
            },
            "type": "barpolar"
           }
          ],
          "carpet": [
           {
            "aaxis": {
             "endlinecolor": "#2a3f5f",
             "gridcolor": "white",
             "linecolor": "white",
             "minorgridcolor": "white",
             "startlinecolor": "#2a3f5f"
            },
            "baxis": {
             "endlinecolor": "#2a3f5f",
             "gridcolor": "white",
             "linecolor": "white",
             "minorgridcolor": "white",
             "startlinecolor": "#2a3f5f"
            },
            "type": "carpet"
           }
          ],
          "choropleth": [
           {
            "colorbar": {
             "outlinewidth": 0,
             "ticks": ""
            },
            "type": "choropleth"
           }
          ],
          "contour": [
           {
            "colorbar": {
             "outlinewidth": 0,
             "ticks": ""
            },
            "colorscale": [
             [
              0,
              "#0d0887"
             ],
             [
              0.1111111111111111,
              "#46039f"
             ],
             [
              0.2222222222222222,
              "#7201a8"
             ],
             [
              0.3333333333333333,
              "#9c179e"
             ],
             [
              0.4444444444444444,
              "#bd3786"
             ],
             [
              0.5555555555555556,
              "#d8576b"
             ],
             [
              0.6666666666666666,
              "#ed7953"
             ],
             [
              0.7777777777777778,
              "#fb9f3a"
             ],
             [
              0.8888888888888888,
              "#fdca26"
             ],
             [
              1,
              "#f0f921"
             ]
            ],
            "type": "contour"
           }
          ],
          "contourcarpet": [
           {
            "colorbar": {
             "outlinewidth": 0,
             "ticks": ""
            },
            "type": "contourcarpet"
           }
          ],
          "heatmap": [
           {
            "colorbar": {
             "outlinewidth": 0,
             "ticks": ""
            },
            "colorscale": [
             [
              0,
              "#0d0887"
             ],
             [
              0.1111111111111111,
              "#46039f"
             ],
             [
              0.2222222222222222,
              "#7201a8"
             ],
             [
              0.3333333333333333,
              "#9c179e"
             ],
             [
              0.4444444444444444,
              "#bd3786"
             ],
             [
              0.5555555555555556,
              "#d8576b"
             ],
             [
              0.6666666666666666,
              "#ed7953"
             ],
             [
              0.7777777777777778,
              "#fb9f3a"
             ],
             [
              0.8888888888888888,
              "#fdca26"
             ],
             [
              1,
              "#f0f921"
             ]
            ],
            "type": "heatmap"
           }
          ],
          "heatmapgl": [
           {
            "colorbar": {
             "outlinewidth": 0,
             "ticks": ""
            },
            "colorscale": [
             [
              0,
              "#0d0887"
             ],
             [
              0.1111111111111111,
              "#46039f"
             ],
             [
              0.2222222222222222,
              "#7201a8"
             ],
             [
              0.3333333333333333,
              "#9c179e"
             ],
             [
              0.4444444444444444,
              "#bd3786"
             ],
             [
              0.5555555555555556,
              "#d8576b"
             ],
             [
              0.6666666666666666,
              "#ed7953"
             ],
             [
              0.7777777777777778,
              "#fb9f3a"
             ],
             [
              0.8888888888888888,
              "#fdca26"
             ],
             [
              1,
              "#f0f921"
             ]
            ],
            "type": "heatmapgl"
           }
          ],
          "histogram": [
           {
            "marker": {
             "pattern": {
              "fillmode": "overlay",
              "size": 10,
              "solidity": 0.2
             }
            },
            "type": "histogram"
           }
          ],
          "histogram2d": [
           {
            "colorbar": {
             "outlinewidth": 0,
             "ticks": ""
            },
            "colorscale": [
             [
              0,
              "#0d0887"
             ],
             [
              0.1111111111111111,
              "#46039f"
             ],
             [
              0.2222222222222222,
              "#7201a8"
             ],
             [
              0.3333333333333333,
              "#9c179e"
             ],
             [
              0.4444444444444444,
              "#bd3786"
             ],
             [
              0.5555555555555556,
              "#d8576b"
             ],
             [
              0.6666666666666666,
              "#ed7953"
             ],
             [
              0.7777777777777778,
              "#fb9f3a"
             ],
             [
              0.8888888888888888,
              "#fdca26"
             ],
             [
              1,
              "#f0f921"
             ]
            ],
            "type": "histogram2d"
           }
          ],
          "histogram2dcontour": [
           {
            "colorbar": {
             "outlinewidth": 0,
             "ticks": ""
            },
            "colorscale": [
             [
              0,
              "#0d0887"
             ],
             [
              0.1111111111111111,
              "#46039f"
             ],
             [
              0.2222222222222222,
              "#7201a8"
             ],
             [
              0.3333333333333333,
              "#9c179e"
             ],
             [
              0.4444444444444444,
              "#bd3786"
             ],
             [
              0.5555555555555556,
              "#d8576b"
             ],
             [
              0.6666666666666666,
              "#ed7953"
             ],
             [
              0.7777777777777778,
              "#fb9f3a"
             ],
             [
              0.8888888888888888,
              "#fdca26"
             ],
             [
              1,
              "#f0f921"
             ]
            ],
            "type": "histogram2dcontour"
           }
          ],
          "mesh3d": [
           {
            "colorbar": {
             "outlinewidth": 0,
             "ticks": ""
            },
            "type": "mesh3d"
           }
          ],
          "parcoords": [
           {
            "line": {
             "colorbar": {
              "outlinewidth": 0,
              "ticks": ""
             }
            },
            "type": "parcoords"
           }
          ],
          "pie": [
           {
            "automargin": true,
            "type": "pie"
           }
          ],
          "scatter": [
           {
            "fillpattern": {
             "fillmode": "overlay",
             "size": 10,
             "solidity": 0.2
            },
            "type": "scatter"
           }
          ],
          "scatter3d": [
           {
            "line": {
             "colorbar": {
              "outlinewidth": 0,
              "ticks": ""
             }
            },
            "marker": {
             "colorbar": {
              "outlinewidth": 0,
              "ticks": ""
             }
            },
            "type": "scatter3d"
           }
          ],
          "scattercarpet": [
           {
            "marker": {
             "colorbar": {
              "outlinewidth": 0,
              "ticks": ""
             }
            },
            "type": "scattercarpet"
           }
          ],
          "scattergeo": [
           {
            "marker": {
             "colorbar": {
              "outlinewidth": 0,
              "ticks": ""
             }
            },
            "type": "scattergeo"
           }
          ],
          "scattergl": [
           {
            "marker": {
             "colorbar": {
              "outlinewidth": 0,
              "ticks": ""
             }
            },
            "type": "scattergl"
           }
          ],
          "scattermapbox": [
           {
            "marker": {
             "colorbar": {
              "outlinewidth": 0,
              "ticks": ""
             }
            },
            "type": "scattermapbox"
           }
          ],
          "scatterpolar": [
           {
            "marker": {
             "colorbar": {
              "outlinewidth": 0,
              "ticks": ""
             }
            },
            "type": "scatterpolar"
           }
          ],
          "scatterpolargl": [
           {
            "marker": {
             "colorbar": {
              "outlinewidth": 0,
              "ticks": ""
             }
            },
            "type": "scatterpolargl"
           }
          ],
          "scatterternary": [
           {
            "marker": {
             "colorbar": {
              "outlinewidth": 0,
              "ticks": ""
             }
            },
            "type": "scatterternary"
           }
          ],
          "surface": [
           {
            "colorbar": {
             "outlinewidth": 0,
             "ticks": ""
            },
            "colorscale": [
             [
              0,
              "#0d0887"
             ],
             [
              0.1111111111111111,
              "#46039f"
             ],
             [
              0.2222222222222222,
              "#7201a8"
             ],
             [
              0.3333333333333333,
              "#9c179e"
             ],
             [
              0.4444444444444444,
              "#bd3786"
             ],
             [
              0.5555555555555556,
              "#d8576b"
             ],
             [
              0.6666666666666666,
              "#ed7953"
             ],
             [
              0.7777777777777778,
              "#fb9f3a"
             ],
             [
              0.8888888888888888,
              "#fdca26"
             ],
             [
              1,
              "#f0f921"
             ]
            ],
            "type": "surface"
           }
          ],
          "table": [
           {
            "cells": {
             "fill": {
              "color": "#EBF0F8"
             },
             "line": {
              "color": "white"
             }
            },
            "header": {
             "fill": {
              "color": "#C8D4E3"
             },
             "line": {
              "color": "white"
             }
            },
            "type": "table"
           }
          ]
         },
         "layout": {
          "annotationdefaults": {
           "arrowcolor": "#2a3f5f",
           "arrowhead": 0,
           "arrowwidth": 1
          },
          "autotypenumbers": "strict",
          "coloraxis": {
           "colorbar": {
            "outlinewidth": 0,
            "ticks": ""
           }
          },
          "colorscale": {
           "diverging": [
            [
             0,
             "#8e0152"
            ],
            [
             0.1,
             "#c51b7d"
            ],
            [
             0.2,
             "#de77ae"
            ],
            [
             0.3,
             "#f1b6da"
            ],
            [
             0.4,
             "#fde0ef"
            ],
            [
             0.5,
             "#f7f7f7"
            ],
            [
             0.6,
             "#e6f5d0"
            ],
            [
             0.7,
             "#b8e186"
            ],
            [
             0.8,
             "#7fbc41"
            ],
            [
             0.9,
             "#4d9221"
            ],
            [
             1,
             "#276419"
            ]
           ],
           "sequential": [
            [
             0,
             "#0d0887"
            ],
            [
             0.1111111111111111,
             "#46039f"
            ],
            [
             0.2222222222222222,
             "#7201a8"
            ],
            [
             0.3333333333333333,
             "#9c179e"
            ],
            [
             0.4444444444444444,
             "#bd3786"
            ],
            [
             0.5555555555555556,
             "#d8576b"
            ],
            [
             0.6666666666666666,
             "#ed7953"
            ],
            [
             0.7777777777777778,
             "#fb9f3a"
            ],
            [
             0.8888888888888888,
             "#fdca26"
            ],
            [
             1,
             "#f0f921"
            ]
           ],
           "sequentialminus": [
            [
             0,
             "#0d0887"
            ],
            [
             0.1111111111111111,
             "#46039f"
            ],
            [
             0.2222222222222222,
             "#7201a8"
            ],
            [
             0.3333333333333333,
             "#9c179e"
            ],
            [
             0.4444444444444444,
             "#bd3786"
            ],
            [
             0.5555555555555556,
             "#d8576b"
            ],
            [
             0.6666666666666666,
             "#ed7953"
            ],
            [
             0.7777777777777778,
             "#fb9f3a"
            ],
            [
             0.8888888888888888,
             "#fdca26"
            ],
            [
             1,
             "#f0f921"
            ]
           ]
          },
          "colorway": [
           "#636efa",
           "#EF553B",
           "#00cc96",
           "#ab63fa",
           "#FFA15A",
           "#19d3f3",
           "#FF6692",
           "#B6E880",
           "#FF97FF",
           "#FECB52"
          ],
          "font": {
           "color": "#2a3f5f"
          },
          "geo": {
           "bgcolor": "white",
           "lakecolor": "white",
           "landcolor": "#E5ECF6",
           "showlakes": true,
           "showland": true,
           "subunitcolor": "white"
          },
          "hoverlabel": {
           "align": "left"
          },
          "hovermode": "closest",
          "mapbox": {
           "style": "light"
          },
          "paper_bgcolor": "white",
          "plot_bgcolor": "#E5ECF6",
          "polar": {
           "angularaxis": {
            "gridcolor": "white",
            "linecolor": "white",
            "ticks": ""
           },
           "bgcolor": "#E5ECF6",
           "radialaxis": {
            "gridcolor": "white",
            "linecolor": "white",
            "ticks": ""
           }
          },
          "scene": {
           "xaxis": {
            "backgroundcolor": "#E5ECF6",
            "gridcolor": "white",
            "gridwidth": 2,
            "linecolor": "white",
            "showbackground": true,
            "ticks": "",
            "zerolinecolor": "white"
           },
           "yaxis": {
            "backgroundcolor": "#E5ECF6",
            "gridcolor": "white",
            "gridwidth": 2,
            "linecolor": "white",
            "showbackground": true,
            "ticks": "",
            "zerolinecolor": "white"
           },
           "zaxis": {
            "backgroundcolor": "#E5ECF6",
            "gridcolor": "white",
            "gridwidth": 2,
            "linecolor": "white",
            "showbackground": true,
            "ticks": "",
            "zerolinecolor": "white"
           }
          },
          "shapedefaults": {
           "line": {
            "color": "#2a3f5f"
           }
          },
          "ternary": {
           "aaxis": {
            "gridcolor": "white",
            "linecolor": "white",
            "ticks": ""
           },
           "baxis": {
            "gridcolor": "white",
            "linecolor": "white",
            "ticks": ""
           },
           "bgcolor": "#E5ECF6",
           "caxis": {
            "gridcolor": "white",
            "linecolor": "white",
            "ticks": ""
           }
          },
          "title": {
           "x": 0.05
          },
          "xaxis": {
           "automargin": true,
           "gridcolor": "white",
           "linecolor": "white",
           "ticks": "",
           "title": {
            "standoff": 15
           },
           "zerolinecolor": "white",
           "zerolinewidth": 2
          },
          "yaxis": {
           "automargin": true,
           "gridcolor": "white",
           "linecolor": "white",
           "ticks": "",
           "title": {
            "standoff": 15
           },
           "zerolinecolor": "white",
           "zerolinewidth": 2
          }
         }
        },
        "title": {
         "text": "Places of Interest by Borough"
        },
        "width": 700,
        "xaxis": {
         "anchor": "y",
         "domain": [
          0,
          1
         ],
         "title": {
          "text": "Borough"
         }
        },
        "yaxis": {
         "anchor": "x",
         "domain": [
          0,
          1
         ],
         "title": {
          "text": "Count of POI's"
         }
        }
       }
      }
     },
     "metadata": {},
     "output_type": "display_data"
    }
   ],
   "source": [
    "# Set y-labels to use for stacked bar chart based off new DataFrame\n",
    "y_labels = ['park', 'restaurant','school','supermarket','transit_station']\n",
    "\n",
    "# Create stacked bar chart\n",
    "fig = px.bar(categories, x='Borough', y= y_labels,\n",
    "            labels={'value':'Count of POI\\'s',\n",
    "                    'variable': 'Place of Interest'},\n",
    "            title='Places of Interest by Borough', width=700, height=750)\n",
    "\n",
    "# Customize bars\n",
    "fig.update_traces(marker_line_color='DarkSlateGrey',\n",
    "                  marker_line_width=1.5)\n",
    "\n",
    "# Customize graph layout\n",
    "fig.update_layout(\n",
    "    margin=dict(l=5, r=5, t=35, b=5),\n",
    "    paper_bgcolor=\"White\",\n",
    ")\n",
    "\n",
    "# Show graph (autoscaled)\n",
    "fig.show()"
   ]
  }
 ],
 "metadata": {
  "kernelspec": {
   "display_name": "Python 3.9.13 ('project_env')",
   "language": "python",
   "name": "python3"
  },
  "language_info": {
   "codemirror_mode": {
    "name": "ipython",
    "version": 3
   },
   "file_extension": ".py",
   "mimetype": "text/x-python",
   "name": "python",
   "nbconvert_exporter": "python",
   "pygments_lexer": "ipython3",
   "version": "3.9.13"
  },
  "vscode": {
   "interpreter": {
    "hash": "cab4d223de3b4302c2a639a020fd916bf60f907757187d366ed338efdc50eea1"
   }
  }
 },
 "nbformat": 4,
 "nbformat_minor": 4
}
