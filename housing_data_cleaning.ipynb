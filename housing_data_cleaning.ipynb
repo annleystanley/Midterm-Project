{
 "cells": [
  {
   "cell_type": "markdown",
   "metadata": {},
   "source": [
    "## Data Cleaning (Housing Prices)"
   ]
  },
  {
   "cell_type": "markdown",
   "metadata": {},
   "source": [
    "### Avg Housing Prices 2020"
   ]
  },
  {
   "cell_type": "code",
   "execution_count": 1,
   "metadata": {},
   "outputs": [],
   "source": [
    "# Import modules\n",
    "import pandas as pd\n",
    "import numpy as np"
   ]
  },
  {
   "cell_type": "code",
   "execution_count": 6,
   "metadata": {},
   "outputs": [
    {
     "data": {
      "text/html": [
       "<div>\n",
       "<style scoped>\n",
       "    .dataframe tbody tr th:only-of-type {\n",
       "        vertical-align: middle;\n",
       "    }\n",
       "\n",
       "    .dataframe tbody tr th {\n",
       "        vertical-align: top;\n",
       "    }\n",
       "\n",
       "    .dataframe thead th {\n",
       "        text-align: right;\n",
       "    }\n",
       "</style>\n",
       "<table border=\"1\" class=\"dataframe\">\n",
       "  <thead>\n",
       "    <tr style=\"text-align: right;\">\n",
       "      <th></th>\n",
       "      <th>borough</th>\n",
       "      <th>neigborhood</th>\n",
       "      <th>studio</th>\n",
       "      <th>1_bedroom</th>\n",
       "      <th>2_bedroom</th>\n",
       "      <th>3_bedroom</th>\n",
       "    </tr>\n",
       "  </thead>\n",
       "  <tbody>\n",
       "    <tr>\n",
       "      <th>0</th>\n",
       "      <td>manhatan</td>\n",
       "      <td>Chelsea</td>\n",
       "      <td>$2,794</td>\n",
       "      <td>$4,062</td>\n",
       "      <td>$6,997</td>\n",
       "      <td>$11,031</td>\n",
       "    </tr>\n",
       "    <tr>\n",
       "      <th>1</th>\n",
       "      <td>manhatan</td>\n",
       "      <td>East Village</td>\n",
       "      <td>$2,608</td>\n",
       "      <td>$3,280</td>\n",
       "      <td>$4,044</td>\n",
       "      <td>$5,289</td>\n",
       "    </tr>\n",
       "    <tr>\n",
       "      <th>2</th>\n",
       "      <td>manhatan</td>\n",
       "      <td>Flatiron/Union Square</td>\n",
       "      <td>$3,632</td>\n",
       "      <td>$4,645</td>\n",
       "      <td>$8,267</td>\n",
       "      <td>$15,969</td>\n",
       "    </tr>\n",
       "    <tr>\n",
       "      <th>3</th>\n",
       "      <td>manhatan</td>\n",
       "      <td>Gramercy Park</td>\n",
       "      <td>$2,569</td>\n",
       "      <td>$3,656</td>\n",
       "      <td>$5,413</td>\n",
       "      <td>$7,226</td>\n",
       "    </tr>\n",
       "    <tr>\n",
       "      <th>4</th>\n",
       "      <td>manhatan</td>\n",
       "      <td>Greenwich Village</td>\n",
       "      <td>$2,828</td>\n",
       "      <td>$4,116</td>\n",
       "      <td>$8,000</td>\n",
       "      <td>$12,418</td>\n",
       "    </tr>\n",
       "  </tbody>\n",
       "</table>\n",
       "</div>"
      ],
      "text/plain": [
       "    borough            neigborhood  studio 1_bedroom 2_bedroom 3_bedroom\n",
       "0  manhatan                Chelsea  $2,794    $4,062    $6,997   $11,031\n",
       "1  manhatan           East Village  $2,608    $3,280    $4,044    $5,289\n",
       "2  manhatan  Flatiron/Union Square  $3,632    $4,645    $8,267   $15,969\n",
       "3  manhatan          Gramercy Park  $2,569    $3,656    $5,413    $7,226\n",
       "4  manhatan      Greenwich Village  $2,828    $4,116    $8,000   $12,418"
      ]
     },
     "execution_count": 6,
     "metadata": {},
     "output_type": "execute_result"
    }
   ],
   "source": [
    "# Load dataset\n",
    "house_2020 = pd.read_csv('housing_data/nyc_housing_prices_jul_2020.csv')\n",
    "house_2020.head()"
   ]
  },
  {
   "cell_type": "code",
   "execution_count": 185,
   "metadata": {},
   "outputs": [],
   "source": [
    "# Format and clean borough column\n",
    "borough = house_2020['borough'].tolist()\n",
    "borough = [word.replace('manhatan', 'Manhattan') for word in borough]\n",
    "borough = [word.replace('brooklyn', 'Brooklyn') for word in borough]"
   ]
  },
  {
   "cell_type": "code",
   "execution_count": 186,
   "metadata": {},
   "outputs": [],
   "source": [
    "# Format and clean studio column\n",
    "studio = house_2020['studio'].tolist()\n",
    "studio = [word.replace('-', '0') for word in studio]\n",
    "studio = [word.replace('$', '') for word in studio]\n",
    "studio = [word.replace(',', '') for word in studio]\n",
    "studio = [int(s) for s in studio]"
   ]
  },
  {
   "cell_type": "code",
   "execution_count": 187,
   "metadata": {},
   "outputs": [],
   "source": [
    "# Format and clean 1_bedroom column\n",
    "bed1 = house_2020['1_bedroom'].tolist()\n",
    "bed1 = [word.replace('$', '') for word in bed1]\n",
    "bed1 = [word.replace(',', '') for word in bed1]\n",
    "bed1 = [int(s) for s in bed1]"
   ]
  },
  {
   "cell_type": "code",
   "execution_count": 188,
   "metadata": {},
   "outputs": [],
   "source": [
    "# Format and clean 2_bedroom column\n",
    "bed2 = house_2020['2_bedroom'].tolist()\n",
    "bed2 = [word.replace('$', '') for word in bed2]\n",
    "bed2 = [word.replace(',', '') for word in bed2]\n",
    "bed2 = [int(s) for s in bed2]"
   ]
  },
  {
   "cell_type": "code",
   "execution_count": 189,
   "metadata": {},
   "outputs": [],
   "source": [
    "# Format and clean 3_bedroom column\n",
    "bed3 = house_2020['3_bedroom'].tolist()\n",
    "bed3 = [word.replace('-', '0') for word in bed3]\n",
    "bed3 = [word.replace('$', '') for word in bed3]\n",
    "bed3 = [word.replace(',', '') for word in bed3]\n",
    "bed3 = [int(s) for s in bed3]"
   ]
  },
  {
   "cell_type": "code",
   "execution_count": 190,
   "metadata": {},
   "outputs": [
    {
     "data": {
      "text/html": [
       "<div>\n",
       "<style scoped>\n",
       "    .dataframe tbody tr th:only-of-type {\n",
       "        vertical-align: middle;\n",
       "    }\n",
       "\n",
       "    .dataframe tbody tr th {\n",
       "        vertical-align: top;\n",
       "    }\n",
       "\n",
       "    .dataframe thead th {\n",
       "        text-align: right;\n",
       "    }\n",
       "</style>\n",
       "<table border=\"1\" class=\"dataframe\">\n",
       "  <thead>\n",
       "    <tr style=\"text-align: right;\">\n",
       "      <th></th>\n",
       "      <th>Borough</th>\n",
       "      <th>Neighbourhood</th>\n",
       "      <th>Studio</th>\n",
       "      <th>1_Bed</th>\n",
       "      <th>2_Bed</th>\n",
       "      <th>3_Bed</th>\n",
       "    </tr>\n",
       "  </thead>\n",
       "  <tbody>\n",
       "    <tr>\n",
       "      <th>0</th>\n",
       "      <td>Manhattan</td>\n",
       "      <td>Chelsea</td>\n",
       "      <td>2794</td>\n",
       "      <td>4062</td>\n",
       "      <td>6997</td>\n",
       "      <td>11031</td>\n",
       "    </tr>\n",
       "    <tr>\n",
       "      <th>1</th>\n",
       "      <td>Manhattan</td>\n",
       "      <td>East Village</td>\n",
       "      <td>2608</td>\n",
       "      <td>3280</td>\n",
       "      <td>4044</td>\n",
       "      <td>5289</td>\n",
       "    </tr>\n",
       "    <tr>\n",
       "      <th>2</th>\n",
       "      <td>Manhattan</td>\n",
       "      <td>Flatiron/Union Square</td>\n",
       "      <td>3632</td>\n",
       "      <td>4645</td>\n",
       "      <td>8267</td>\n",
       "      <td>15969</td>\n",
       "    </tr>\n",
       "    <tr>\n",
       "      <th>3</th>\n",
       "      <td>Manhattan</td>\n",
       "      <td>Gramercy Park</td>\n",
       "      <td>2569</td>\n",
       "      <td>3656</td>\n",
       "      <td>5413</td>\n",
       "      <td>7226</td>\n",
       "    </tr>\n",
       "    <tr>\n",
       "      <th>4</th>\n",
       "      <td>Manhattan</td>\n",
       "      <td>Greenwich Village</td>\n",
       "      <td>2828</td>\n",
       "      <td>4116</td>\n",
       "      <td>8000</td>\n",
       "      <td>12418</td>\n",
       "    </tr>\n",
       "  </tbody>\n",
       "</table>\n",
       "</div>"
      ],
      "text/plain": [
       "     Borough          Neighbourhood  Studio  1_Bed  2_Bed  3_Bed\n",
       "0  Manhattan                Chelsea    2794   4062   6997  11031\n",
       "1  Manhattan           East Village    2608   3280   4044   5289\n",
       "2  Manhattan  Flatiron/Union Square    3632   4645   8267  15969\n",
       "3  Manhattan          Gramercy Park    2569   3656   5413   7226\n",
       "4  Manhattan      Greenwich Village    2828   4116   8000  12418"
      ]
     },
     "execution_count": 190,
     "metadata": {},
     "output_type": "execute_result"
    }
   ],
   "source": [
    "# Create new DataFrame from transformed data\n",
    "house_2020_clean = pd.DataFrame({'Borough': borough, \n",
    "                            'Neighbourhood': df['neigborhood'],\n",
    "                            'Studio': studio,\n",
    "                            '1_Bed': bed1,\n",
    "                            '2_Bed': bed2,\n",
    "                            '3_Bed': bed3})\n",
    "\n",
    "house_2020_clean.head()"
   ]
  },
  {
   "cell_type": "code",
   "execution_count": 191,
   "metadata": {},
   "outputs": [],
   "source": [
    "# Replace values that are '-' with NaN (null) as to not skew numeric data\n",
    "house_2020_clean = house_2020_clean.replace(0, np.nan)"
   ]
  },
  {
   "cell_type": "code",
   "execution_count": 192,
   "metadata": {},
   "outputs": [
    {
     "name": "stdout",
     "output_type": "stream",
     "text": [
      "<class 'pandas.core.frame.DataFrame'>\n",
      "RangeIndex: 55 entries, 0 to 54\n",
      "Data columns (total 6 columns):\n",
      " #   Column         Non-Null Count  Dtype  \n",
      "---  ------         --------------  -----  \n",
      " 0   Borough        55 non-null     object \n",
      " 1   Neighbourhood  55 non-null     object \n",
      " 2   Studio         54 non-null     float64\n",
      " 3   1_Bed          55 non-null     int64  \n",
      " 4   2_Bed          55 non-null     int64  \n",
      " 5   3_Bed          54 non-null     float64\n",
      "dtypes: float64(2), int64(2), object(2)\n",
      "memory usage: 2.7+ KB\n"
     ]
    }
   ],
   "source": [
    "house_2020_clean.info()"
   ]
  },
  {
   "cell_type": "code",
   "execution_count": 193,
   "metadata": {},
   "outputs": [
    {
     "data": {
      "text/plain": [
       "Borough          0\n",
       "Neighbourhood    0\n",
       "Studio           1\n",
       "1_Bed            0\n",
       "2_Bed            0\n",
       "3_Bed            1\n",
       "dtype: int64"
      ]
     },
     "execution_count": 193,
     "metadata": {},
     "output_type": "execute_result"
    }
   ],
   "source": [
    "# Check for nulls\n",
    "house_2020_clean.isnull().sum()"
   ]
  },
  {
   "cell_type": "markdown",
   "metadata": {},
   "source": [
    "There are 2 nulls as housing prices were not listed for that neighbourhood. Leave as is, as it does not pose a major impact on the overall dataset."
   ]
  },
  {
   "cell_type": "code",
   "execution_count": 194,
   "metadata": {},
   "outputs": [
    {
     "data": {
      "text/html": [
       "<div>\n",
       "<style scoped>\n",
       "    .dataframe tbody tr th:only-of-type {\n",
       "        vertical-align: middle;\n",
       "    }\n",
       "\n",
       "    .dataframe tbody tr th {\n",
       "        vertical-align: top;\n",
       "    }\n",
       "\n",
       "    .dataframe thead th {\n",
       "        text-align: right;\n",
       "    }\n",
       "</style>\n",
       "<table border=\"1\" class=\"dataframe\">\n",
       "  <thead>\n",
       "    <tr style=\"text-align: right;\">\n",
       "      <th></th>\n",
       "      <th>Borough</th>\n",
       "      <th>Neighbourhood</th>\n",
       "      <th>Studio</th>\n",
       "      <th>1_Bed</th>\n",
       "      <th>2_Bed</th>\n",
       "      <th>3_Bed</th>\n",
       "    </tr>\n",
       "  </thead>\n",
       "  <tbody>\n",
       "  </tbody>\n",
       "</table>\n",
       "</div>"
      ],
      "text/plain": [
       "Empty DataFrame\n",
       "Columns: [Borough, Neighbourhood, Studio, 1_Bed, 2_Bed, 3_Bed]\n",
       "Index: []"
      ]
     },
     "execution_count": 194,
     "metadata": {},
     "output_type": "execute_result"
    }
   ],
   "source": [
    "# Check for duplicates\n",
    "house_2020_clean[house_2020_clean.duplicated()]"
   ]
  },
  {
   "cell_type": "markdown",
   "metadata": {},
   "source": [
    "No duplicates."
   ]
  },
  {
   "cell_type": "code",
   "execution_count": 195,
   "metadata": {},
   "outputs": [
    {
     "data": {
      "text/html": [
       "<div>\n",
       "<style scoped>\n",
       "    .dataframe tbody tr th:only-of-type {\n",
       "        vertical-align: middle;\n",
       "    }\n",
       "\n",
       "    .dataframe tbody tr th {\n",
       "        vertical-align: top;\n",
       "    }\n",
       "\n",
       "    .dataframe thead th {\n",
       "        text-align: right;\n",
       "    }\n",
       "</style>\n",
       "<table border=\"1\" class=\"dataframe\">\n",
       "  <thead>\n",
       "    <tr style=\"text-align: right;\">\n",
       "      <th></th>\n",
       "      <th>Studio</th>\n",
       "      <th>1_Bed</th>\n",
       "      <th>2_Bed</th>\n",
       "      <th>3_Bed</th>\n",
       "    </tr>\n",
       "  </thead>\n",
       "  <tbody>\n",
       "    <tr>\n",
       "      <th>count</th>\n",
       "      <td>54.000000</td>\n",
       "      <td>55.000000</td>\n",
       "      <td>55.000000</td>\n",
       "      <td>54.000000</td>\n",
       "    </tr>\n",
       "    <tr>\n",
       "      <th>mean</th>\n",
       "      <td>2522.518519</td>\n",
       "      <td>3226.072727</td>\n",
       "      <td>4960.600000</td>\n",
       "      <td>7777.259259</td>\n",
       "    </tr>\n",
       "    <tr>\n",
       "      <th>std</th>\n",
       "      <td>630.860232</td>\n",
       "      <td>904.262803</td>\n",
       "      <td>2167.655156</td>\n",
       "      <td>4822.671104</td>\n",
       "    </tr>\n",
       "    <tr>\n",
       "      <th>min</th>\n",
       "      <td>1400.000000</td>\n",
       "      <td>1866.000000</td>\n",
       "      <td>2273.000000</td>\n",
       "      <td>2500.000000</td>\n",
       "    </tr>\n",
       "    <tr>\n",
       "      <th>25%</th>\n",
       "      <td>2128.750000</td>\n",
       "      <td>2535.500000</td>\n",
       "      <td>3345.000000</td>\n",
       "      <td>4115.750000</td>\n",
       "    </tr>\n",
       "    <tr>\n",
       "      <th>50%</th>\n",
       "      <td>2404.500000</td>\n",
       "      <td>3257.000000</td>\n",
       "      <td>4411.000000</td>\n",
       "      <td>6159.500000</td>\n",
       "    </tr>\n",
       "    <tr>\n",
       "      <th>75%</th>\n",
       "      <td>2711.500000</td>\n",
       "      <td>3668.000000</td>\n",
       "      <td>6075.500000</td>\n",
       "      <td>10651.750000</td>\n",
       "    </tr>\n",
       "    <tr>\n",
       "      <th>max</th>\n",
       "      <td>5121.000000</td>\n",
       "      <td>6117.000000</td>\n",
       "      <td>12173.000000</td>\n",
       "      <td>26970.000000</td>\n",
       "    </tr>\n",
       "  </tbody>\n",
       "</table>\n",
       "</div>"
      ],
      "text/plain": [
       "            Studio        1_Bed         2_Bed         3_Bed\n",
       "count    54.000000    55.000000     55.000000     54.000000\n",
       "mean   2522.518519  3226.072727   4960.600000   7777.259259\n",
       "std     630.860232   904.262803   2167.655156   4822.671104\n",
       "min    1400.000000  1866.000000   2273.000000   2500.000000\n",
       "25%    2128.750000  2535.500000   3345.000000   4115.750000\n",
       "50%    2404.500000  3257.000000   4411.000000   6159.500000\n",
       "75%    2711.500000  3668.000000   6075.500000  10651.750000\n",
       "max    5121.000000  6117.000000  12173.000000  26970.000000"
      ]
     },
     "execution_count": 195,
     "metadata": {},
     "output_type": "execute_result"
    }
   ],
   "source": [
    "# View variance in numeric features\n",
    "house_2020_clean.describe()"
   ]
  },
  {
   "cell_type": "code",
   "execution_count": 196,
   "metadata": {},
   "outputs": [],
   "source": [
    "# Export to csv\n",
    "house_2020_clean.to_csv('avg_house_2020.csv')"
   ]
  },
  {
   "cell_type": "markdown",
   "metadata": {},
   "source": [
    "### Median Housing Prices 2021"
   ]
  },
  {
   "cell_type": "code",
   "execution_count": 7,
   "metadata": {},
   "outputs": [
    {
     "data": {
      "text/html": [
       "<div>\n",
       "<style scoped>\n",
       "    .dataframe tbody tr th:only-of-type {\n",
       "        vertical-align: middle;\n",
       "    }\n",
       "\n",
       "    .dataframe tbody tr th {\n",
       "        vertical-align: top;\n",
       "    }\n",
       "\n",
       "    .dataframe thead th {\n",
       "        text-align: right;\n",
       "    }\n",
       "</style>\n",
       "<table border=\"1\" class=\"dataframe\">\n",
       "  <thead>\n",
       "    <tr style=\"text-align: right;\">\n",
       "      <th></th>\n",
       "      <th>neighborhood</th>\n",
       "      <th>studio</th>\n",
       "      <th>Unnamed: 2</th>\n",
       "      <th>neighborhood.1</th>\n",
       "      <th>1_bedroom</th>\n",
       "      <th>Unnamed: 5</th>\n",
       "      <th>neighborhood.2</th>\n",
       "      <th>2_bedroom</th>\n",
       "      <th>Unnamed: 8</th>\n",
       "      <th>Unnamed: 9</th>\n",
       "      <th>Unnamed: 10</th>\n",
       "    </tr>\n",
       "  </thead>\n",
       "  <tbody>\n",
       "    <tr>\n",
       "      <th>0</th>\n",
       "      <td>Upper West Side</td>\n",
       "      <td>$1,975</td>\n",
       "      <td>NaN</td>\n",
       "      <td>Upper West Side</td>\n",
       "      <td>$2,750</td>\n",
       "      <td>NaN</td>\n",
       "      <td>Upper West Side</td>\n",
       "      <td>$4,350</td>\n",
       "      <td>NaN</td>\n",
       "      <td>NaN</td>\n",
       "      <td>NaN</td>\n",
       "    </tr>\n",
       "    <tr>\n",
       "      <th>1</th>\n",
       "      <td>Bedford-Stuyvesant</td>\n",
       "      <td>$1,650</td>\n",
       "      <td>NaN</td>\n",
       "      <td>Bedford-Stuyvesant</td>\n",
       "      <td>$1,975</td>\n",
       "      <td>NaN</td>\n",
       "      <td>Bedford-Stuyvesant</td>\n",
       "      <td>$2,200</td>\n",
       "      <td>NaN</td>\n",
       "      <td>NaN</td>\n",
       "      <td>NaN</td>\n",
       "    </tr>\n",
       "    <tr>\n",
       "      <th>2</th>\n",
       "      <td>Bushwick</td>\n",
       "      <td>$1,731</td>\n",
       "      <td>NaN</td>\n",
       "      <td>Bushwick</td>\n",
       "      <td>$2,150</td>\n",
       "      <td>NaN</td>\n",
       "      <td>Bushwick</td>\n",
       "      <td>$2,100</td>\n",
       "      <td>NaN</td>\n",
       "      <td>NaN</td>\n",
       "      <td>NaN</td>\n",
       "    </tr>\n",
       "    <tr>\n",
       "      <th>3</th>\n",
       "      <td>Upper East Side</td>\n",
       "      <td>$1,898</td>\n",
       "      <td>NaN</td>\n",
       "      <td>Upper East Side</td>\n",
       "      <td>$2,395</td>\n",
       "      <td>NaN</td>\n",
       "      <td>Upper East Side</td>\n",
       "      <td>$3,295</td>\n",
       "      <td>NaN</td>\n",
       "      <td>NaN</td>\n",
       "      <td>NaN</td>\n",
       "    </tr>\n",
       "    <tr>\n",
       "      <th>4</th>\n",
       "      <td>Williamsburg</td>\n",
       "      <td>$2,491</td>\n",
       "      <td>NaN</td>\n",
       "      <td>Williamsburg</td>\n",
       "      <td>$2,500</td>\n",
       "      <td>NaN</td>\n",
       "      <td>Williamsburg</td>\n",
       "      <td>$2,584</td>\n",
       "      <td>NaN</td>\n",
       "      <td>NaN</td>\n",
       "      <td>NaN</td>\n",
       "    </tr>\n",
       "  </tbody>\n",
       "</table>\n",
       "</div>"
      ],
      "text/plain": [
       "         neighborhood  studio  Unnamed: 2      neighborhood.1 1_bedroom  \\\n",
       "0     Upper West Side  $1,975         NaN     Upper West Side    $2,750   \n",
       "1  Bedford-Stuyvesant  $1,650         NaN  Bedford-Stuyvesant    $1,975   \n",
       "2            Bushwick  $1,731         NaN            Bushwick    $2,150   \n",
       "3     Upper East Side  $1,898         NaN     Upper East Side    $2,395   \n",
       "4        Williamsburg  $2,491         NaN        Williamsburg    $2,500   \n",
       "\n",
       "   Unnamed: 5      neighborhood.2 2_bedroom  Unnamed: 8  Unnamed: 9  \\\n",
       "0         NaN     Upper West Side    $4,350         NaN         NaN   \n",
       "1         NaN  Bedford-Stuyvesant    $2,200         NaN         NaN   \n",
       "2         NaN            Bushwick    $2,100         NaN         NaN   \n",
       "3         NaN     Upper East Side    $3,295         NaN         NaN   \n",
       "4         NaN        Williamsburg    $2,584         NaN         NaN   \n",
       "\n",
       "   Unnamed: 10  \n",
       "0          NaN  \n",
       "1          NaN  \n",
       "2          NaN  \n",
       "3          NaN  \n",
       "4          NaN  "
      ]
     },
     "execution_count": 7,
     "metadata": {},
     "output_type": "execute_result"
    }
   ],
   "source": [
    "# Load dataset\n",
    "house_2021 = pd.read_csv('housing_data/nyc_housing_prices_feb_2021.csv')\n",
    "house_2021.head()"
   ]
  },
  {
   "cell_type": "code",
   "execution_count": 198,
   "metadata": {},
   "outputs": [],
   "source": [
    "# Drop irrelevant or duplicate columns, and format column order\n",
    "house_2021 = house_2021.drop(columns=['neighborhood', 'neighborhood.1', 'Unnamed: 2','Unnamed: 5', 'Unnamed: 8', 'Unnamed: 9', 'Unnamed: 10'])\n",
    "house_2021 = house_2021[['neighborhood.2', 'studio', '1_bedroom', '2_bedroom']]"
   ]
  },
  {
   "cell_type": "code",
   "execution_count": 199,
   "metadata": {},
   "outputs": [],
   "source": [
    "# Fill null values to create equal column lengths\n",
    "house_2021 = house_2021.fillna('-')"
   ]
  },
  {
   "cell_type": "code",
   "execution_count": 200,
   "metadata": {},
   "outputs": [],
   "source": [
    "# Format and clean studio column\n",
    "studio = house_2021['studio'].tolist()\n",
    "studio = [word.replace('-', '0') for word in studio]\n",
    "studio = [word.replace('$', '') for word in studio]\n",
    "studio = [word.replace(',', '') for word in studio]\n",
    "studio = [int(s) for s in studio]"
   ]
  },
  {
   "cell_type": "code",
   "execution_count": 201,
   "metadata": {},
   "outputs": [],
   "source": [
    "# Format and clean 1_bed column\n",
    "bed1 = house_2021['1_bedroom'].tolist()\n",
    "bed1 = [word.replace('-', '0') for word in bed1]\n",
    "bed1 = [word.replace('$', '') for word in bed1]\n",
    "bed1 = [word.replace(',', '') for word in bed1]\n",
    "bed1 = [int(s) for s in bed1]"
   ]
  },
  {
   "cell_type": "code",
   "execution_count": 202,
   "metadata": {},
   "outputs": [],
   "source": [
    "# Format and clean 2_bed column\n",
    "bed2 = house_2021['2_bedroom'].tolist()\n",
    "bed2 = [word.replace('-', '0') for word in bed2]\n",
    "bed2 = [word.replace('$', '') for word in bed2]\n",
    "bed2 = [word.replace(',', '') for word in bed2]\n",
    "bed2 = [int(s) for s in bed2]"
   ]
  },
  {
   "cell_type": "code",
   "execution_count": 203,
   "metadata": {},
   "outputs": [
    {
     "data": {
      "text/html": [
       "<div>\n",
       "<style scoped>\n",
       "    .dataframe tbody tr th:only-of-type {\n",
       "        vertical-align: middle;\n",
       "    }\n",
       "\n",
       "    .dataframe tbody tr th {\n",
       "        vertical-align: top;\n",
       "    }\n",
       "\n",
       "    .dataframe thead th {\n",
       "        text-align: right;\n",
       "    }\n",
       "</style>\n",
       "<table border=\"1\" class=\"dataframe\">\n",
       "  <thead>\n",
       "    <tr style=\"text-align: right;\">\n",
       "      <th></th>\n",
       "      <th>Neighbourhood</th>\n",
       "      <th>Studio</th>\n",
       "      <th>1_Bed</th>\n",
       "      <th>2_Bed</th>\n",
       "    </tr>\n",
       "  </thead>\n",
       "  <tbody>\n",
       "    <tr>\n",
       "      <th>0</th>\n",
       "      <td>Upper West Side</td>\n",
       "      <td>1975</td>\n",
       "      <td>2750</td>\n",
       "      <td>4350</td>\n",
       "    </tr>\n",
       "    <tr>\n",
       "      <th>1</th>\n",
       "      <td>Bedford-Stuyvesant</td>\n",
       "      <td>1650</td>\n",
       "      <td>1975</td>\n",
       "      <td>2200</td>\n",
       "    </tr>\n",
       "    <tr>\n",
       "      <th>2</th>\n",
       "      <td>Bushwick</td>\n",
       "      <td>1731</td>\n",
       "      <td>2150</td>\n",
       "      <td>2100</td>\n",
       "    </tr>\n",
       "    <tr>\n",
       "      <th>3</th>\n",
       "      <td>Upper East Side</td>\n",
       "      <td>1898</td>\n",
       "      <td>2395</td>\n",
       "      <td>3295</td>\n",
       "    </tr>\n",
       "    <tr>\n",
       "      <th>4</th>\n",
       "      <td>Williamsburg</td>\n",
       "      <td>2491</td>\n",
       "      <td>2500</td>\n",
       "      <td>2584</td>\n",
       "    </tr>\n",
       "  </tbody>\n",
       "</table>\n",
       "</div>"
      ],
      "text/plain": [
       "        Neighbourhood  Studio  1_Bed  2_Bed\n",
       "0     Upper West Side    1975   2750   4350\n",
       "1  Bedford-Stuyvesant    1650   1975   2200\n",
       "2            Bushwick    1731   2150   2100\n",
       "3     Upper East Side    1898   2395   3295\n",
       "4        Williamsburg    2491   2500   2584"
      ]
     },
     "execution_count": 203,
     "metadata": {},
     "output_type": "execute_result"
    }
   ],
   "source": [
    "# Create new DataFrame from transformed data\n",
    "house_2021_clean = pd.DataFrame({'Neighbourhood': house_2021['neighborhood.2'],\n",
    "                                'Studio': studio,\n",
    "                                '1_Bed': bed1,\n",
    "                                '2_Bed': bed2,\n",
    "                                })\n",
    "\n",
    "house_2021_clean.head()"
   ]
  },
  {
   "cell_type": "code",
   "execution_count": 204,
   "metadata": {},
   "outputs": [],
   "source": [
    "# Replace values that are '-' with NaN (null) as to not skew numeric data\n",
    "house_2021_clean = house_2021_clean.replace(0, np.nan)"
   ]
  },
  {
   "cell_type": "code",
   "execution_count": 205,
   "metadata": {},
   "outputs": [
    {
     "name": "stdout",
     "output_type": "stream",
     "text": [
      "<class 'pandas.core.frame.DataFrame'>\n",
      "RangeIndex: 205 entries, 0 to 204\n",
      "Data columns (total 4 columns):\n",
      " #   Column         Non-Null Count  Dtype  \n",
      "---  ------         --------------  -----  \n",
      " 0   Neighbourhood  205 non-null    object \n",
      " 1   Studio         137 non-null    float64\n",
      " 2   1_Bed          194 non-null    float64\n",
      " 3   2_Bed          205 non-null    int64  \n",
      "dtypes: float64(2), int64(1), object(1)\n",
      "memory usage: 6.5+ KB\n"
     ]
    }
   ],
   "source": [
    "house_2021_clean.info()"
   ]
  },
  {
   "cell_type": "code",
   "execution_count": 206,
   "metadata": {},
   "outputs": [
    {
     "data": {
      "text/plain": [
       "Neighbourhood     0\n",
       "Studio           68\n",
       "1_Bed            11\n",
       "2_Bed             0\n",
       "dtype: int64"
      ]
     },
     "execution_count": 206,
     "metadata": {},
     "output_type": "execute_result"
    }
   ],
   "source": [
    "# Check for nulls\n",
    "house_2021_clean.isnull().sum()"
   ]
  },
  {
   "cell_type": "markdown",
   "metadata": {},
   "source": [
    "There are nulls in the studio and 1_bed columns, however this is because there is no pricing data for those types of housing."
   ]
  },
  {
   "cell_type": "code",
   "execution_count": 207,
   "metadata": {},
   "outputs": [
    {
     "data": {
      "text/html": [
       "<div>\n",
       "<style scoped>\n",
       "    .dataframe tbody tr th:only-of-type {\n",
       "        vertical-align: middle;\n",
       "    }\n",
       "\n",
       "    .dataframe tbody tr th {\n",
       "        vertical-align: top;\n",
       "    }\n",
       "\n",
       "    .dataframe thead th {\n",
       "        text-align: right;\n",
       "    }\n",
       "</style>\n",
       "<table border=\"1\" class=\"dataframe\">\n",
       "  <thead>\n",
       "    <tr style=\"text-align: right;\">\n",
       "      <th></th>\n",
       "      <th>Neighbourhood</th>\n",
       "      <th>Studio</th>\n",
       "      <th>1_Bed</th>\n",
       "      <th>2_Bed</th>\n",
       "    </tr>\n",
       "  </thead>\n",
       "  <tbody>\n",
       "  </tbody>\n",
       "</table>\n",
       "</div>"
      ],
      "text/plain": [
       "Empty DataFrame\n",
       "Columns: [Neighbourhood, Studio, 1_Bed, 2_Bed]\n",
       "Index: []"
      ]
     },
     "execution_count": 207,
     "metadata": {},
     "output_type": "execute_result"
    }
   ],
   "source": [
    "# Check for duplicates\n",
    "house_2021_clean[house_2021_clean.duplicated()]"
   ]
  },
  {
   "cell_type": "markdown",
   "metadata": {},
   "source": [
    "No duplicates."
   ]
  },
  {
   "cell_type": "code",
   "execution_count": 208,
   "metadata": {},
   "outputs": [
    {
     "data": {
      "text/html": [
       "<div>\n",
       "<style scoped>\n",
       "    .dataframe tbody tr th:only-of-type {\n",
       "        vertical-align: middle;\n",
       "    }\n",
       "\n",
       "    .dataframe tbody tr th {\n",
       "        vertical-align: top;\n",
       "    }\n",
       "\n",
       "    .dataframe thead th {\n",
       "        text-align: right;\n",
       "    }\n",
       "</style>\n",
       "<table border=\"1\" class=\"dataframe\">\n",
       "  <thead>\n",
       "    <tr style=\"text-align: right;\">\n",
       "      <th></th>\n",
       "      <th>Studio</th>\n",
       "      <th>1_Bed</th>\n",
       "      <th>2_Bed</th>\n",
       "    </tr>\n",
       "  </thead>\n",
       "  <tbody>\n",
       "    <tr>\n",
       "      <th>count</th>\n",
       "      <td>137.000000</td>\n",
       "      <td>194.000000</td>\n",
       "      <td>205.000000</td>\n",
       "    </tr>\n",
       "    <tr>\n",
       "      <th>mean</th>\n",
       "      <td>2019.386861</td>\n",
       "      <td>1999.505155</td>\n",
       "      <td>2522.102439</td>\n",
       "    </tr>\n",
       "    <tr>\n",
       "      <th>std</th>\n",
       "      <td>726.458070</td>\n",
       "      <td>656.723483</td>\n",
       "      <td>1104.520526</td>\n",
       "    </tr>\n",
       "    <tr>\n",
       "      <th>min</th>\n",
       "      <td>947.000000</td>\n",
       "      <td>1100.000000</td>\n",
       "      <td>1377.000000</td>\n",
       "    </tr>\n",
       "    <tr>\n",
       "      <th>25%</th>\n",
       "      <td>1575.000000</td>\n",
       "      <td>1600.000000</td>\n",
       "      <td>1950.000000</td>\n",
       "    </tr>\n",
       "    <tr>\n",
       "      <th>50%</th>\n",
       "      <td>1850.000000</td>\n",
       "      <td>1750.000000</td>\n",
       "      <td>2109.000000</td>\n",
       "    </tr>\n",
       "    <tr>\n",
       "      <th>75%</th>\n",
       "      <td>2300.000000</td>\n",
       "      <td>2287.500000</td>\n",
       "      <td>2645.000000</td>\n",
       "    </tr>\n",
       "    <tr>\n",
       "      <th>max</th>\n",
       "      <td>5900.000000</td>\n",
       "      <td>5483.000000</td>\n",
       "      <td>9295.000000</td>\n",
       "    </tr>\n",
       "  </tbody>\n",
       "</table>\n",
       "</div>"
      ],
      "text/plain": [
       "            Studio        1_Bed        2_Bed\n",
       "count   137.000000   194.000000   205.000000\n",
       "mean   2019.386861  1999.505155  2522.102439\n",
       "std     726.458070   656.723483  1104.520526\n",
       "min     947.000000  1100.000000  1377.000000\n",
       "25%    1575.000000  1600.000000  1950.000000\n",
       "50%    1850.000000  1750.000000  2109.000000\n",
       "75%    2300.000000  2287.500000  2645.000000\n",
       "max    5900.000000  5483.000000  9295.000000"
      ]
     },
     "execution_count": 208,
     "metadata": {},
     "output_type": "execute_result"
    }
   ],
   "source": [
    "# Check numeric data for features\n",
    "house_2021_clean.describe()"
   ]
  },
  {
   "cell_type": "code",
   "execution_count": 209,
   "metadata": {},
   "outputs": [],
   "source": [
    "# Export to csv\n",
    "house_2021_clean.to_csv('med_house_2021.csv')"
   ]
  },
  {
   "cell_type": "markdown",
   "metadata": {},
   "source": [
    "### Median Housing Prices 2021 Zip Codes"
   ]
  },
  {
   "cell_type": "code",
   "execution_count": 8,
   "metadata": {},
   "outputs": [
    {
     "data": {
      "text/html": [
       "<div>\n",
       "<style scoped>\n",
       "    .dataframe tbody tr th:only-of-type {\n",
       "        vertical-align: middle;\n",
       "    }\n",
       "\n",
       "    .dataframe tbody tr th {\n",
       "        vertical-align: top;\n",
       "    }\n",
       "\n",
       "    .dataframe thead th {\n",
       "        text-align: right;\n",
       "    }\n",
       "</style>\n",
       "<table border=\"1\" class=\"dataframe\">\n",
       "  <thead>\n",
       "    <tr style=\"text-align: right;\">\n",
       "      <th></th>\n",
       "      <th>borough</th>\n",
       "      <th>neighborhood</th>\n",
       "      <th>zip_codes</th>\n",
       "    </tr>\n",
       "  </thead>\n",
       "  <tbody>\n",
       "    <tr>\n",
       "      <th>0</th>\n",
       "      <td>Bronx</td>\n",
       "      <td>Central Bronx</td>\n",
       "      <td>10453, 10457, 10460</td>\n",
       "    </tr>\n",
       "    <tr>\n",
       "      <th>1</th>\n",
       "      <td>Bronx</td>\n",
       "      <td>Bronx Park and Fordham</td>\n",
       "      <td>10458, 10467, 10468</td>\n",
       "    </tr>\n",
       "    <tr>\n",
       "      <th>2</th>\n",
       "      <td>Bronx</td>\n",
       "      <td>High Bridge and Morrisania</td>\n",
       "      <td>10451, 10452, 10456</td>\n",
       "    </tr>\n",
       "    <tr>\n",
       "      <th>3</th>\n",
       "      <td>Bronx</td>\n",
       "      <td>Hunts Point and Mott Haven</td>\n",
       "      <td>10454, 10455, 10459, 10474</td>\n",
       "    </tr>\n",
       "    <tr>\n",
       "      <th>4</th>\n",
       "      <td>Bronx</td>\n",
       "      <td>Kingsbridge and Riverdale</td>\n",
       "      <td>10463, 10471</td>\n",
       "    </tr>\n",
       "  </tbody>\n",
       "</table>\n",
       "</div>"
      ],
      "text/plain": [
       "  borough                neighborhood                   zip_codes\n",
       "0   Bronx               Central Bronx         10453, 10457, 10460\n",
       "1   Bronx      Bronx Park and Fordham         10458, 10467, 10468\n",
       "2   Bronx  High Bridge and Morrisania         10451, 10452, 10456\n",
       "3   Bronx  Hunts Point and Mott Haven  10454, 10455, 10459, 10474\n",
       "4   Bronx   Kingsbridge and Riverdale                10463, 10471"
      ]
     },
     "execution_count": 8,
     "metadata": {},
     "output_type": "execute_result"
    }
   ],
   "source": [
    "# Load dataset\n",
    "house_2021_zip = pd.read_csv('housing_data/nyc_housing_prices_feb_2021_zip.csv')\n",
    "house_2021_zip.head()"
   ]
  },
  {
   "cell_type": "code",
   "execution_count": 211,
   "metadata": {},
   "outputs": [
    {
     "name": "stdout",
     "output_type": "stream",
     "text": [
      "<class 'pandas.core.frame.DataFrame'>\n",
      "RangeIndex: 42 entries, 0 to 41\n",
      "Data columns (total 3 columns):\n",
      " #   Column        Non-Null Count  Dtype \n",
      "---  ------        --------------  ----- \n",
      " 0   borough       42 non-null     object\n",
      " 1   neighborhood  42 non-null     object\n",
      " 2   zip_codes     42 non-null     object\n",
      "dtypes: object(3)\n",
      "memory usage: 1.1+ KB\n"
     ]
    }
   ],
   "source": [
    "house_2021_zip.info()"
   ]
  },
  {
   "cell_type": "code",
   "execution_count": 212,
   "metadata": {},
   "outputs": [
    {
     "data": {
      "text/html": [
       "<div>\n",
       "<style scoped>\n",
       "    .dataframe tbody tr th:only-of-type {\n",
       "        vertical-align: middle;\n",
       "    }\n",
       "\n",
       "    .dataframe tbody tr th {\n",
       "        vertical-align: top;\n",
       "    }\n",
       "\n",
       "    .dataframe thead th {\n",
       "        text-align: right;\n",
       "    }\n",
       "</style>\n",
       "<table border=\"1\" class=\"dataframe\">\n",
       "  <thead>\n",
       "    <tr style=\"text-align: right;\">\n",
       "      <th></th>\n",
       "      <th>0</th>\n",
       "      <th>1</th>\n",
       "      <th>2</th>\n",
       "      <th>3</th>\n",
       "      <th>4</th>\n",
       "      <th>5</th>\n",
       "      <th>6</th>\n",
       "      <th>7</th>\n",
       "      <th>8</th>\n",
       "    </tr>\n",
       "  </thead>\n",
       "  <tbody>\n",
       "    <tr>\n",
       "      <th>0</th>\n",
       "      <td>10453</td>\n",
       "      <td>10457</td>\n",
       "      <td>10460</td>\n",
       "      <td>None</td>\n",
       "      <td>None</td>\n",
       "      <td>None</td>\n",
       "      <td>None</td>\n",
       "      <td>None</td>\n",
       "      <td>None</td>\n",
       "    </tr>\n",
       "    <tr>\n",
       "      <th>1</th>\n",
       "      <td>10458</td>\n",
       "      <td>10467</td>\n",
       "      <td>10468</td>\n",
       "      <td>None</td>\n",
       "      <td>None</td>\n",
       "      <td>None</td>\n",
       "      <td>None</td>\n",
       "      <td>None</td>\n",
       "      <td>None</td>\n",
       "    </tr>\n",
       "    <tr>\n",
       "      <th>2</th>\n",
       "      <td>10451</td>\n",
       "      <td>10452</td>\n",
       "      <td>10456</td>\n",
       "      <td>None</td>\n",
       "      <td>None</td>\n",
       "      <td>None</td>\n",
       "      <td>None</td>\n",
       "      <td>None</td>\n",
       "      <td>None</td>\n",
       "    </tr>\n",
       "    <tr>\n",
       "      <th>3</th>\n",
       "      <td>10454</td>\n",
       "      <td>10455</td>\n",
       "      <td>10459</td>\n",
       "      <td>10474</td>\n",
       "      <td>None</td>\n",
       "      <td>None</td>\n",
       "      <td>None</td>\n",
       "      <td>None</td>\n",
       "      <td>None</td>\n",
       "    </tr>\n",
       "    <tr>\n",
       "      <th>4</th>\n",
       "      <td>10463</td>\n",
       "      <td>10471</td>\n",
       "      <td>None</td>\n",
       "      <td>None</td>\n",
       "      <td>None</td>\n",
       "      <td>None</td>\n",
       "      <td>None</td>\n",
       "      <td>None</td>\n",
       "      <td>None</td>\n",
       "    </tr>\n",
       "  </tbody>\n",
       "</table>\n",
       "</div>"
      ],
      "text/plain": [
       "       0       1       2       3     4     5     6     7     8\n",
       "0  10453   10457   10460    None  None  None  None  None  None\n",
       "1  10458   10467   10468    None  None  None  None  None  None\n",
       "2  10451   10452   10456    None  None  None  None  None  None\n",
       "3  10454   10455   10459   10474  None  None  None  None  None\n",
       "4  10463   10471    None    None  None  None  None  None  None"
      ]
     },
     "execution_count": 212,
     "metadata": {},
     "output_type": "execute_result"
    }
   ],
   "source": [
    "# Split zip codes into separate columns\n",
    "zip = house_2021_zip['zip_codes'].str.split(',', expand=True)\n",
    "zip.head()"
   ]
  },
  {
   "cell_type": "code",
   "execution_count": 213,
   "metadata": {},
   "outputs": [],
   "source": [
    "# Append zip codes to original DataFrame\n",
    "house_2021_zip = house_2021_zip.join(zip)"
   ]
  },
  {
   "cell_type": "code",
   "execution_count": 214,
   "metadata": {},
   "outputs": [],
   "source": [
    "# Drop zip_codes column\n",
    "house_2021_zip.drop(columns=['zip_codes'], inplace=True)"
   ]
  },
  {
   "cell_type": "code",
   "execution_count": 215,
   "metadata": {},
   "outputs": [],
   "source": [
    "# Replace null values with '-' for interpretability\n",
    "house_2021_zip = house_2021_zip.fillna('-')"
   ]
  },
  {
   "cell_type": "code",
   "execution_count": 216,
   "metadata": {},
   "outputs": [],
   "source": [
    "# Rename columns for interpretability\n",
    "house_2021_zip.columns = ['Borough','Neighborhood','Zip1','Zip2',\n",
    "                        'Zip3','Zip4','Zip5','Zip6','Zip7','Zip8'\n",
    "                        ,'Zip9']"
   ]
  },
  {
   "cell_type": "code",
   "execution_count": 217,
   "metadata": {},
   "outputs": [
    {
     "data": {
      "text/html": [
       "<div>\n",
       "<style scoped>\n",
       "    .dataframe tbody tr th:only-of-type {\n",
       "        vertical-align: middle;\n",
       "    }\n",
       "\n",
       "    .dataframe tbody tr th {\n",
       "        vertical-align: top;\n",
       "    }\n",
       "\n",
       "    .dataframe thead th {\n",
       "        text-align: right;\n",
       "    }\n",
       "</style>\n",
       "<table border=\"1\" class=\"dataframe\">\n",
       "  <thead>\n",
       "    <tr style=\"text-align: right;\">\n",
       "      <th></th>\n",
       "      <th>Borough</th>\n",
       "      <th>Neighborhood</th>\n",
       "      <th>Zip1</th>\n",
       "      <th>Zip2</th>\n",
       "      <th>Zip3</th>\n",
       "      <th>Zip4</th>\n",
       "      <th>Zip5</th>\n",
       "      <th>Zip6</th>\n",
       "      <th>Zip7</th>\n",
       "      <th>Zip8</th>\n",
       "      <th>Zip9</th>\n",
       "    </tr>\n",
       "  </thead>\n",
       "  <tbody>\n",
       "    <tr>\n",
       "      <th>0</th>\n",
       "      <td>Bronx</td>\n",
       "      <td>Central Bronx</td>\n",
       "      <td>10453</td>\n",
       "      <td>10457</td>\n",
       "      <td>10460</td>\n",
       "      <td>-</td>\n",
       "      <td>-</td>\n",
       "      <td>-</td>\n",
       "      <td>-</td>\n",
       "      <td>-</td>\n",
       "      <td>-</td>\n",
       "    </tr>\n",
       "    <tr>\n",
       "      <th>1</th>\n",
       "      <td>Bronx</td>\n",
       "      <td>Bronx Park and Fordham</td>\n",
       "      <td>10458</td>\n",
       "      <td>10467</td>\n",
       "      <td>10468</td>\n",
       "      <td>-</td>\n",
       "      <td>-</td>\n",
       "      <td>-</td>\n",
       "      <td>-</td>\n",
       "      <td>-</td>\n",
       "      <td>-</td>\n",
       "    </tr>\n",
       "    <tr>\n",
       "      <th>2</th>\n",
       "      <td>Bronx</td>\n",
       "      <td>High Bridge and Morrisania</td>\n",
       "      <td>10451</td>\n",
       "      <td>10452</td>\n",
       "      <td>10456</td>\n",
       "      <td>-</td>\n",
       "      <td>-</td>\n",
       "      <td>-</td>\n",
       "      <td>-</td>\n",
       "      <td>-</td>\n",
       "      <td>-</td>\n",
       "    </tr>\n",
       "    <tr>\n",
       "      <th>3</th>\n",
       "      <td>Bronx</td>\n",
       "      <td>Hunts Point and Mott Haven</td>\n",
       "      <td>10454</td>\n",
       "      <td>10455</td>\n",
       "      <td>10459</td>\n",
       "      <td>10474</td>\n",
       "      <td>-</td>\n",
       "      <td>-</td>\n",
       "      <td>-</td>\n",
       "      <td>-</td>\n",
       "      <td>-</td>\n",
       "    </tr>\n",
       "    <tr>\n",
       "      <th>4</th>\n",
       "      <td>Bronx</td>\n",
       "      <td>Kingsbridge and Riverdale</td>\n",
       "      <td>10463</td>\n",
       "      <td>10471</td>\n",
       "      <td>-</td>\n",
       "      <td>-</td>\n",
       "      <td>-</td>\n",
       "      <td>-</td>\n",
       "      <td>-</td>\n",
       "      <td>-</td>\n",
       "      <td>-</td>\n",
       "    </tr>\n",
       "  </tbody>\n",
       "</table>\n",
       "</div>"
      ],
      "text/plain": [
       "  Borough                Neighborhood   Zip1    Zip2    Zip3    Zip4 Zip5  \\\n",
       "0   Bronx               Central Bronx  10453   10457   10460       -    -   \n",
       "1   Bronx      Bronx Park and Fordham  10458   10467   10468       -    -   \n",
       "2   Bronx  High Bridge and Morrisania  10451   10452   10456       -    -   \n",
       "3   Bronx  Hunts Point and Mott Haven  10454   10455   10459   10474    -   \n",
       "4   Bronx   Kingsbridge and Riverdale  10463   10471       -       -    -   \n",
       "\n",
       "  Zip6 Zip7 Zip8 Zip9  \n",
       "0    -    -    -    -  \n",
       "1    -    -    -    -  \n",
       "2    -    -    -    -  \n",
       "3    -    -    -    -  \n",
       "4    -    -    -    -  "
      ]
     },
     "execution_count": 217,
     "metadata": {},
     "output_type": "execute_result"
    }
   ],
   "source": [
    "house_2021_zip.head()"
   ]
  },
  {
   "cell_type": "code",
   "execution_count": 218,
   "metadata": {},
   "outputs": [
    {
     "data": {
      "text/plain": [
       "Borough         0\n",
       "Neighborhood    0\n",
       "Zip1            0\n",
       "Zip2            0\n",
       "Zip3            0\n",
       "Zip4            0\n",
       "Zip5            0\n",
       "Zip6            0\n",
       "Zip7            0\n",
       "Zip8            0\n",
       "Zip9            0\n",
       "dtype: int64"
      ]
     },
     "execution_count": 218,
     "metadata": {},
     "output_type": "execute_result"
    }
   ],
   "source": [
    "# Check for nulls\n",
    "house_2021_zip.isnull().sum()"
   ]
  },
  {
   "cell_type": "markdown",
   "metadata": {},
   "source": [
    "No nulls."
   ]
  },
  {
   "cell_type": "code",
   "execution_count": 219,
   "metadata": {},
   "outputs": [
    {
     "data": {
      "text/html": [
       "<div>\n",
       "<style scoped>\n",
       "    .dataframe tbody tr th:only-of-type {\n",
       "        vertical-align: middle;\n",
       "    }\n",
       "\n",
       "    .dataframe tbody tr th {\n",
       "        vertical-align: top;\n",
       "    }\n",
       "\n",
       "    .dataframe thead th {\n",
       "        text-align: right;\n",
       "    }\n",
       "</style>\n",
       "<table border=\"1\" class=\"dataframe\">\n",
       "  <thead>\n",
       "    <tr style=\"text-align: right;\">\n",
       "      <th></th>\n",
       "      <th>Borough</th>\n",
       "      <th>Neighborhood</th>\n",
       "      <th>Zip1</th>\n",
       "      <th>Zip2</th>\n",
       "      <th>Zip3</th>\n",
       "      <th>Zip4</th>\n",
       "      <th>Zip5</th>\n",
       "      <th>Zip6</th>\n",
       "      <th>Zip7</th>\n",
       "      <th>Zip8</th>\n",
       "      <th>Zip9</th>\n",
       "    </tr>\n",
       "  </thead>\n",
       "  <tbody>\n",
       "  </tbody>\n",
       "</table>\n",
       "</div>"
      ],
      "text/plain": [
       "Empty DataFrame\n",
       "Columns: [Borough, Neighborhood, Zip1, Zip2, Zip3, Zip4, Zip5, Zip6, Zip7, Zip8, Zip9]\n",
       "Index: []"
      ]
     },
     "execution_count": 219,
     "metadata": {},
     "output_type": "execute_result"
    }
   ],
   "source": [
    "# Check for duplicates\n",
    "house_2021_zip[house_2021_zip.duplicated()]"
   ]
  },
  {
   "cell_type": "markdown",
   "metadata": {},
   "source": [
    "No duplicates."
   ]
  },
  {
   "cell_type": "code",
   "execution_count": 220,
   "metadata": {},
   "outputs": [],
   "source": [
    "# Export to csv\n",
    "house_2021_zip.to_csv('house_2021_zip.csv')"
   ]
  }
 ],
 "metadata": {
  "kernelspec": {
   "display_name": "Python 3.9.13 ('project_env')",
   "language": "python",
   "name": "python3"
  },
  "language_info": {
   "codemirror_mode": {
    "name": "ipython",
    "version": 3
   },
   "file_extension": ".py",
   "mimetype": "text/x-python",
   "name": "python",
   "nbconvert_exporter": "python",
   "pygments_lexer": "ipython3",
   "version": "3.9.13"
  },
  "orig_nbformat": 4,
  "vscode": {
   "interpreter": {
    "hash": "cab4d223de3b4302c2a639a020fd916bf60f907757187d366ed338efdc50eea1"
   }
  }
 },
 "nbformat": 4,
 "nbformat_minor": 2
}
