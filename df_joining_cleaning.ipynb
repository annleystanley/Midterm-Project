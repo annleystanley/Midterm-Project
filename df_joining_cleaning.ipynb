{
 "cells": [
  {
   "cell_type": "markdown",
   "id": "b1697a48",
   "metadata": {},
   "source": [
    "# Simplifying Data For Our Join"
   ]
  },
  {
   "cell_type": "markdown",
   "id": "b0177ccf",
   "metadata": {},
   "source": [
    "A lot of our datasets are quite large, and while very informative, make joining very difficult (4 409 706 rows & columns difficult). We are breaking this data down in order to get a more workable final dataset"
   ]
  },
  {
   "cell_type": "code",
<<<<<<< HEAD
   "execution_count": 90,
=======
   "execution_count": 87,
>>>>>>> 2754662517964e6af87550162a775a463e39e1dc
   "id": "e4f5fade",
   "metadata": {},
   "outputs": [],
   "source": [
    "# Import module\n",
    "import pandas as pd\n",
    "import numpy as np"
   ]
  },
  {
   "cell_type": "code",
   "execution_count": 91,
   "id": "49ac0d72",
   "metadata": {},
   "outputs": [],
   "source": [
    "# importing our cleaned data\n",
<<<<<<< HEAD
    "uber_sample_df = pd.read_csv('./clean_data/uber_sample.csv')\n",
    "uber_nb_df = pd.read_csv('./clean_data/uber_neighbourhoods.csv')\n",
    "pois_df = pd.read_csv('./clean_data/merged_pois_updated.csv')\n",
    "rats_df = pd.read_csv('./clean_data/rat_sightings_sample_cleaned.csv')\n"
=======
    "uber_sample_df = pd.read_csv('clean_data/uber_sample.csv')\n",
    "uber_nb_df = pd.read_csv('clean_data/uber_neighbourhoods.csv')\n",
    "pois_df = pd.read_csv('clean_data/merged_pois_cleaned.csv')\n",
    "rats_df = pd.read_csv('clean_data/rat_sightings_sample_cleaned.csv')"
   ]
  },
  {
   "cell_type": "markdown",
   "id": "7bf3f077",
   "metadata": {},
   "source": [
    "### Simplifying Uber Data"
>>>>>>> 2754662517964e6af87550162a775a463e39e1dc
   ]
  },
  {
   "cell_type": "code",
<<<<<<< HEAD
   "execution_count": 92,
   "id": "30f97989",
=======
   "execution_count": 89,
   "id": "e0713684",
>>>>>>> 2754662517964e6af87550162a775a463e39e1dc
   "metadata": {},
   "outputs": [
    {
     "data": {
      "text/html": [
       "<div>\n",
       "<style scoped>\n",
       "    .dataframe tbody tr th:only-of-type {\n",
       "        vertical-align: middle;\n",
       "    }\n",
       "\n",
       "    .dataframe tbody tr th {\n",
       "        vertical-align: top;\n",
       "    }\n",
       "\n",
       "    .dataframe thead th {\n",
       "        text-align: right;\n",
       "    }\n",
       "</style>\n",
       "<table border=\"1\" class=\"dataframe\">\n",
       "  <thead>\n",
       "    <tr style=\"text-align: right;\">\n",
       "      <th></th>\n",
       "      <th>Borough</th>\n",
       "      <th>Neighbourhood</th>\n",
       "      <th>Latitude</th>\n",
       "      <th>Longitude</th>\n",
       "      <th>ll</th>\n",
       "      <th>Zipcode</th>\n",
       "      <th>ll_round</th>\n",
       "    </tr>\n",
       "  </thead>\n",
       "  <tbody>\n",
       "    <tr>\n",
       "      <th>0</th>\n",
       "      <td>Bronx</td>\n",
       "      <td>Wakefield</td>\n",
       "      <td>40.894705</td>\n",
       "      <td>-73.847201</td>\n",
       "      <td>40.89470517661,-73.84720052054902</td>\n",
       "      <td>10466.0</td>\n",
       "      <td>40.895,-73.847</td>\n",
       "    </tr>\n",
       "    <tr>\n",
       "      <th>1</th>\n",
       "      <td>Bronx</td>\n",
       "      <td>Co-op City</td>\n",
       "      <td>40.874294</td>\n",
       "      <td>-73.829939</td>\n",
       "      <td>40.87429419303012,-73.82993910812398</td>\n",
       "      <td>10475.0</td>\n",
       "      <td>40.874,-73.83</td>\n",
       "    </tr>\n",
       "    <tr>\n",
       "      <th>2</th>\n",
       "      <td>Bronx</td>\n",
       "      <td>Eastchester</td>\n",
       "      <td>40.887556</td>\n",
       "      <td>-73.827806</td>\n",
       "      <td>40.887555677350775,-73.82780644716412</td>\n",
       "      <td>10466.0</td>\n",
       "      <td>40.888,-73.828</td>\n",
       "    </tr>\n",
       "    <tr>\n",
       "      <th>3</th>\n",
       "      <td>Bronx</td>\n",
       "      <td>Fieldston</td>\n",
       "      <td>40.895437</td>\n",
       "      <td>-73.905643</td>\n",
       "      <td>40.89543742690383,-73.90564259591682</td>\n",
       "      <td>10471.0</td>\n",
       "      <td>40.895,-73.906</td>\n",
       "    </tr>\n",
       "    <tr>\n",
       "      <th>4</th>\n",
       "      <td>Bronx</td>\n",
       "      <td>Riverdale</td>\n",
       "      <td>40.890834</td>\n",
       "      <td>-73.912585</td>\n",
       "      <td>40.890834493891305,-73.9125854610857</td>\n",
       "      <td>10463.0</td>\n",
       "      <td>40.891,-73.913</td>\n",
       "    </tr>\n",
       "  </tbody>\n",
       "</table>\n",
       "</div>"
      ],
      "text/plain": [
       "  Borough Neighbourhood   Latitude  Longitude  \\\n",
       "0   Bronx     Wakefield  40.894705 -73.847201   \n",
       "1   Bronx    Co-op City  40.874294 -73.829939   \n",
       "2   Bronx   Eastchester  40.887556 -73.827806   \n",
       "3   Bronx     Fieldston  40.895437 -73.905643   \n",
       "4   Bronx     Riverdale  40.890834 -73.912585   \n",
       "\n",
       "                                      ll  Zipcode        ll_round  \n",
       "0      40.89470517661,-73.84720052054902  10466.0  40.895,-73.847  \n",
       "1   40.87429419303012,-73.82993910812398  10475.0   40.874,-73.83  \n",
       "2  40.887555677350775,-73.82780644716412  10466.0  40.888,-73.828  \n",
       "3   40.89543742690383,-73.90564259591682  10471.0  40.895,-73.906  \n",
       "4   40.890834493891305,-73.9125854610857  10463.0  40.891,-73.913  "
      ]
     },
     "execution_count": 92,
     "metadata": {},
     "output_type": "execute_result"
    }
   ],
   "source": [
    "nyc_geo = pd.read_csv('./clean_data/nyc_geo_latlon.csv') # neighbourhoods\n",
    "nyc_geo.head()"
   ]
  },
  {
   "cell_type": "markdown",
   "id": "7bf3f077",
   "metadata": {},
   "source": [
    "### Simplifying Uber Data"
   ]
  },
  {
   "cell_type": "code",
   "execution_count": 93,
   "id": "af173001",
   "metadata": {},
   "outputs": [
    {
     "data": {
      "text/html": [
       "<div>\n",
       "<style scoped>\n",
       "    .dataframe tbody tr th:only-of-type {\n",
       "        vertical-align: middle;\n",
       "    }\n",
       "\n",
       "    .dataframe tbody tr th {\n",
       "        vertical-align: top;\n",
       "    }\n",
       "\n",
       "    .dataframe thead th {\n",
       "        text-align: right;\n",
       "    }\n",
       "</style>\n",
       "<table border=\"1\" class=\"dataframe\">\n",
       "  <thead>\n",
       "    <tr style=\"text-align: right;\">\n",
       "      <th></th>\n",
       "      <th>Borough</th>\n",
       "      <th>Neighbourhood</th>\n",
       "      <th>Month</th>\n",
       "      <th>Ride Count</th>\n",
       "      <th>Days/Mo</th>\n",
       "      <th>Avg Rides/Day</th>\n",
       "    </tr>\n",
       "  </thead>\n",
       "  <tbody>\n",
       "    <tr>\n",
       "      <th>0</th>\n",
       "      <td>Bronx</td>\n",
       "      <td>Bronx Park and Fordham</td>\n",
       "      <td>7</td>\n",
       "      <td>1</td>\n",
       "      <td>30</td>\n",
       "      <td>0.033333</td>\n",
       "    </tr>\n",
       "    <tr>\n",
       "      <th>1</th>\n",
       "      <td>Bronx</td>\n",
       "      <td>Bronx Park and Fordham</td>\n",
       "      <td>9</td>\n",
       "      <td>1</td>\n",
       "      <td>31</td>\n",
       "      <td>0.032258</td>\n",
       "    </tr>\n",
       "    <tr>\n",
       "      <th>2</th>\n",
       "      <td>Bronx</td>\n",
       "      <td>Crotona and Tremont</td>\n",
       "      <td>7</td>\n",
       "      <td>1</td>\n",
       "      <td>30</td>\n",
       "      <td>0.033333</td>\n",
       "    </tr>\n",
       "    <tr>\n",
       "      <th>3</th>\n",
       "      <td>Bronx</td>\n",
       "      <td>HighBridge and Morrisania</td>\n",
       "      <td>4</td>\n",
       "      <td>1</td>\n",
       "      <td>31</td>\n",
       "      <td>0.032258</td>\n",
       "    </tr>\n",
       "    <tr>\n",
       "      <th>4</th>\n",
       "      <td>Bronx</td>\n",
       "      <td>HighBridge and Morrisania</td>\n",
       "      <td>5</td>\n",
       "      <td>3</td>\n",
       "      <td>31</td>\n",
       "      <td>0.096774</td>\n",
       "    </tr>\n",
       "  </tbody>\n",
       "</table>\n",
       "</div>"
      ],
      "text/plain": [
       "  Borough              Neighbourhood  Month  Ride Count  Days/Mo  \\\n",
       "0   Bronx     Bronx Park and Fordham      7           1       30   \n",
       "1   Bronx     Bronx Park and Fordham      9           1       31   \n",
       "2   Bronx        Crotona and Tremont      7           1       30   \n",
       "3   Bronx  HighBridge and Morrisania      4           1       31   \n",
       "4   Bronx  HighBridge and Morrisania      5           3       31   \n",
       "\n",
       "   Avg Rides/Day  \n",
       "0       0.033333  \n",
       "1       0.032258  \n",
       "2       0.033333  \n",
       "3       0.032258  \n",
       "4       0.096774  "
      ]
     },
     "execution_count": 93,
     "metadata": {},
     "output_type": "execute_result"
    }
   ],
   "source": [
    "uber_nb_df.head()"
   ]
  },
  {
   "cell_type": "code",
   "execution_count": 94,
   "id": "9f0a2268",
   "metadata": {},
   "outputs": [],
   "source": [
    "# Drop unused rows that are not part of any borough\n",
    "uber_nb_df.drop(uber_nb_df[uber_nb_df['Borough'] == 'Mount Vernon'].index, inplace=True)\n",
    "uber_nb_df.drop(uber_nb_df[uber_nb_df['Borough'] == 'Pelham Manor'].index, inplace=True)\n",
    "uber_nb_df.drop(uber_nb_df[uber_nb_df['Borough'] == 'Pelham'].index, inplace=True)\n",
    "uber_nb_df.drop(uber_nb_df[uber_nb_df['Borough'] == 'Yonkers'].index, inplace=True)\n",
    "uber_nb_df.drop(uber_nb_df[uber_nb_df['Borough'] == 'Long Island City'].index, inplace=True)\n",
    "uber_nb_df.drop(uber_nb_df[uber_nb_df['Borough'] == 'Floral Park'].index, inplace=True)\n",
    "uber_nb_df.drop(uber_nb_df[uber_nb_df['Borough'] == 'Bellerose'].index, inplace=True)\n",
    "uber_nb_df.drop(uber_nb_df[uber_nb_df['Borough'] == 'Elizabeth'].index, inplace=True)"
   ]
  },
  {
   "cell_type": "code",
   "execution_count": 95,
   "id": "7ee300f6",
   "metadata": {},
   "outputs": [],
   "source": [
    "uber_nb_df.rename(columns={'Avg Rides/Day' : 'Rides Per Day', 'Ride Count' : 'Rides Per Month'}, inplace=True)"
   ]
  },
  {
   "cell_type": "code",
   "execution_count": 96,
   "id": "af2e60f7",
   "metadata": {},
   "outputs": [],
   "source": [
    "uber_nb_df.drop(columns=['Month','Days/Mo'], inplace=True)"
   ]
  },
  {
   "cell_type": "code",
   "execution_count": 97,
   "id": "461d02fd",
   "metadata": {},
   "outputs": [
    {
     "data": {
      "text/html": [
       "<div>\n",
       "<style scoped>\n",
       "    .dataframe tbody tr th:only-of-type {\n",
       "        vertical-align: middle;\n",
       "    }\n",
       "\n",
       "    .dataframe tbody tr th {\n",
       "        vertical-align: top;\n",
       "    }\n",
       "\n",
       "    .dataframe thead th {\n",
       "        text-align: right;\n",
       "    }\n",
       "</style>\n",
       "<table border=\"1\" class=\"dataframe\">\n",
       "  <thead>\n",
       "    <tr style=\"text-align: right;\">\n",
       "      <th></th>\n",
       "      <th>Borough</th>\n",
       "      <th>Neighbourhood</th>\n",
       "      <th>Rides Per Month</th>\n",
       "      <th>Rides Per Day</th>\n",
       "    </tr>\n",
       "  </thead>\n",
       "  <tbody>\n",
       "    <tr>\n",
       "      <th>0</th>\n",
       "      <td>Bronx</td>\n",
       "      <td>Bronx Park and Fordham</td>\n",
       "      <td>1</td>\n",
       "      <td>0.033333</td>\n",
       "    </tr>\n",
       "    <tr>\n",
       "      <th>1</th>\n",
       "      <td>Bronx</td>\n",
       "      <td>Bronx Park and Fordham</td>\n",
       "      <td>1</td>\n",
       "      <td>0.032258</td>\n",
       "    </tr>\n",
       "    <tr>\n",
       "      <th>2</th>\n",
       "      <td>Bronx</td>\n",
       "      <td>Crotona and Tremont</td>\n",
       "      <td>1</td>\n",
       "      <td>0.033333</td>\n",
       "    </tr>\n",
       "    <tr>\n",
       "      <th>3</th>\n",
       "      <td>Bronx</td>\n",
       "      <td>HighBridge and Morrisania</td>\n",
       "      <td>1</td>\n",
       "      <td>0.032258</td>\n",
       "    </tr>\n",
       "    <tr>\n",
       "      <th>4</th>\n",
       "      <td>Bronx</td>\n",
       "      <td>HighBridge and Morrisania</td>\n",
       "      <td>3</td>\n",
       "      <td>0.096774</td>\n",
       "    </tr>\n",
       "    <tr>\n",
       "      <th>...</th>\n",
       "      <td>...</td>\n",
       "      <td>...</td>\n",
       "      <td>...</td>\n",
       "      <td>...</td>\n",
       "    </tr>\n",
       "    <tr>\n",
       "      <th>145</th>\n",
       "      <td>Staten Island</td>\n",
       "      <td>Stapleton and St. George</td>\n",
       "      <td>2</td>\n",
       "      <td>0.064516</td>\n",
       "    </tr>\n",
       "    <tr>\n",
       "      <th>146</th>\n",
       "      <td>Staten Island</td>\n",
       "      <td>Stapleton and St. George</td>\n",
       "      <td>2</td>\n",
       "      <td>0.066667</td>\n",
       "    </tr>\n",
       "    <tr>\n",
       "      <th>147</th>\n",
       "      <td>Staten Island</td>\n",
       "      <td>Stapleton and St. George</td>\n",
       "      <td>2</td>\n",
       "      <td>0.064516</td>\n",
       "    </tr>\n",
       "    <tr>\n",
       "      <th>148</th>\n",
       "      <td>Staten Island</td>\n",
       "      <td>Stapleton and St. George</td>\n",
       "      <td>5</td>\n",
       "      <td>0.161290</td>\n",
       "    </tr>\n",
       "    <tr>\n",
       "      <th>149</th>\n",
       "      <td>Staten Island</td>\n",
       "      <td>Stapleton and St. George</td>\n",
       "      <td>2</td>\n",
       "      <td>0.066667</td>\n",
       "    </tr>\n",
       "  </tbody>\n",
       "</table>\n",
       "<p>150 rows × 4 columns</p>\n",
       "</div>"
      ],
      "text/plain": [
       "           Borough              Neighbourhood  Rides Per Month  Rides Per Day\n",
       "0            Bronx     Bronx Park and Fordham                1       0.033333\n",
       "1            Bronx     Bronx Park and Fordham                1       0.032258\n",
       "2            Bronx        Crotona and Tremont                1       0.033333\n",
       "3            Bronx  HighBridge and Morrisania                1       0.032258\n",
       "4            Bronx  HighBridge and Morrisania                3       0.096774\n",
       "..             ...                        ...              ...            ...\n",
       "145  Staten Island   Stapleton and St. George                2       0.064516\n",
       "146  Staten Island   Stapleton and St. George                2       0.066667\n",
       "147  Staten Island   Stapleton and St. George                2       0.064516\n",
       "148  Staten Island   Stapleton and St. George                5       0.161290\n",
       "149  Staten Island   Stapleton and St. George                2       0.066667\n",
       "\n",
       "[150 rows x 4 columns]"
      ]
     },
<<<<<<< HEAD
     "execution_count": 97,
=======
     "execution_count": 89,
>>>>>>> 2754662517964e6af87550162a775a463e39e1dc
     "metadata": {},
     "output_type": "execute_result"
    }
   ],
   "source": [
    "uber_nb_df"
   ]
  },
  {
   "cell_type": "code",
<<<<<<< HEAD
   "execution_count": 98,
=======
   "execution_count": 90,
>>>>>>> 2754662517964e6af87550162a775a463e39e1dc
   "id": "c1badf5d",
   "metadata": {},
   "outputs": [
    {
     "name": "stderr",
     "output_type": "stream",
     "text": [
      "C:\\Users\\joshu\\AppData\\Local\\Temp\\ipykernel_11724\\2160606187.py:1: FutureWarning: The default value of numeric_only in DataFrameGroupBy.sum is deprecated. In a future version, numeric_only will default to False. Either specify numeric_only or select only columns which should be valid for the function.\n",
      "  uber_df_sum = uber_sample_df.groupby('Neighbourhood').sum()\n"
     ]
    }
   ],
   "source": [
    "uber_df_sum = uber_nb_df.groupby('Neighbourhood').sum()"
   ]
  },
  {
   "cell_type": "code",
<<<<<<< HEAD
   "execution_count": 99,
=======
   "execution_count": 91,
>>>>>>> 2754662517964e6af87550162a775a463e39e1dc
   "id": "0070787b",
   "metadata": {},
   "outputs": [],
   "source": [
    "uber_df_count = uber_nb_df.groupby('Neighbourhood').count()"
   ]
  },
  {
   "cell_type": "code",
<<<<<<< HEAD
   "execution_count": 100,
=======
   "execution_count": 92,
>>>>>>> 2754662517964e6af87550162a775a463e39e1dc
   "id": "ca4e39d3",
   "metadata": {},
   "outputs": [
    {
     "name": "stderr",
     "output_type": "stream",
     "text": [
      "C:\\Users\\joshu\\AppData\\Local\\Temp\\ipykernel_11724\\1501830799.py:1: FutureWarning: The default value of numeric_only in DataFrameGroupBy.mean is deprecated. In a future version, numeric_only will default to False. Either specify numeric_only or select only columns which should be valid for the function.\n",
      "  uber_df_mean = uber_sample_df.groupby('Neighbourhood').mean()\n"
     ]
    }
   ],
   "source": [
    "uber_df_mean = uber_nb_df.groupby('Neighbourhood').mean()"
   ]
  },
  {
   "cell_type": "markdown",
   "id": "97c1bd5f",
   "metadata": {},
   "source": [
    "### Simplifying POI Data"
   ]
  },
  {
   "cell_type": "code",
<<<<<<< HEAD
   "execution_count": 101,
=======
   "execution_count": 93,
>>>>>>> 2754662517964e6af87550162a775a463e39e1dc
   "id": "369e5e60",
   "metadata": {},
   "outputs": [
    {
     "data": {
      "text/plain": [
       "array(['restaurant', 'school', 'park', 'transit_station', 'supermarket'],\n",
       "      dtype=object)"
      ]
     },
<<<<<<< HEAD
     "execution_count": 101,
=======
     "execution_count": 93,
>>>>>>> 2754662517964e6af87550162a775a463e39e1dc
     "metadata": {},
     "output_type": "execute_result"
    }
   ],
   "source": [
    "pois_df['Category'].unique()"
   ]
  },
  {
   "cell_type": "code",
<<<<<<< HEAD
   "execution_count": 102,
=======
   "execution_count": 94,
>>>>>>> 2754662517964e6af87550162a775a463e39e1dc
   "id": "cb7ef4dc",
   "metadata": {
    "scrolled": false
   },
   "outputs": [
    {
     "name": "stderr",
     "output_type": "stream",
     "text": [
<<<<<<< HEAD
      "C:\\Users\\annie\\AppData\\Local\\Temp\\ipykernel_74564\\267852617.py:2: SettingWithCopyWarning: \n",
=======
      "C:\\Users\\joshu\\AppData\\Local\\Temp\\ipykernel_11724\\267852617.py:2: SettingWithCopyWarning: \n",
>>>>>>> 2754662517964e6af87550162a775a463e39e1dc
      "A value is trying to be set on a copy of a slice from a DataFrame\n",
      "\n",
      "See the caveats in the documentation: https://pandas.pydata.org/pandas-docs/stable/user_guide/indexing.html#returning-a-view-versus-a-copy\n",
      "  poi_resto.drop(columns=['Category'], inplace=True)\n"
     ]
    }
   ],
   "source": [
    "poi_resto = pois_df.loc[pois_df['Category']=='restaurant']\n",
    "poi_resto.drop(columns=['Category'], inplace=True)"
   ]
  },
  {
   "cell_type": "code",
<<<<<<< HEAD
   "execution_count": 103,
=======
   "execution_count": 95,
>>>>>>> 2754662517964e6af87550162a775a463e39e1dc
   "id": "26dfecd9",
   "metadata": {},
   "outputs": [
    {
     "name": "stderr",
     "output_type": "stream",
     "text": [
<<<<<<< HEAD
      "C:\\Users\\annie\\AppData\\Local\\Temp\\ipykernel_74564\\3688143059.py:2: SettingWithCopyWarning: \n",
=======
      "C:\\Users\\joshu\\AppData\\Local\\Temp\\ipykernel_11724\\3688143059.py:2: SettingWithCopyWarning: \n",
>>>>>>> 2754662517964e6af87550162a775a463e39e1dc
      "A value is trying to be set on a copy of a slice from a DataFrame\n",
      "\n",
      "See the caveats in the documentation: https://pandas.pydata.org/pandas-docs/stable/user_guide/indexing.html#returning-a-view-versus-a-copy\n",
      "  poi_school.drop(columns=['Category'], inplace=True)\n"
     ]
    }
   ],
   "source": [
    "poi_school = pois_df.loc[pois_df['Category']=='school']\n",
    "poi_school.drop(columns=['Category'], inplace=True)"
   ]
  },
  {
   "cell_type": "code",
<<<<<<< HEAD
   "execution_count": 104,
=======
   "execution_count": 96,
>>>>>>> 2754662517964e6af87550162a775a463e39e1dc
   "id": "50299ee4",
   "metadata": {},
   "outputs": [
    {
     "name": "stderr",
     "output_type": "stream",
     "text": [
<<<<<<< HEAD
      "C:\\Users\\annie\\AppData\\Local\\Temp\\ipykernel_74564\\3005253417.py:2: SettingWithCopyWarning: \n",
=======
      "C:\\Users\\joshu\\AppData\\Local\\Temp\\ipykernel_11724\\3005253417.py:2: SettingWithCopyWarning: \n",
>>>>>>> 2754662517964e6af87550162a775a463e39e1dc
      "A value is trying to be set on a copy of a slice from a DataFrame\n",
      "\n",
      "See the caveats in the documentation: https://pandas.pydata.org/pandas-docs/stable/user_guide/indexing.html#returning-a-view-versus-a-copy\n",
      "  poi_park.drop(columns=['Category'], inplace=True)\n"
     ]
    }
   ],
   "source": [
    "poi_park = pois_df.loc[pois_df['Category']=='park']\n",
    "poi_park.drop(columns=['Category'], inplace=True)"
   ]
  },
  {
   "cell_type": "code",
<<<<<<< HEAD
   "execution_count": 105,
=======
   "execution_count": 97,
>>>>>>> 2754662517964e6af87550162a775a463e39e1dc
   "id": "b2124213",
   "metadata": {},
   "outputs": [
    {
     "name": "stderr",
     "output_type": "stream",
     "text": [
<<<<<<< HEAD
      "C:\\Users\\annie\\AppData\\Local\\Temp\\ipykernel_74564\\2789311019.py:2: SettingWithCopyWarning: \n",
=======
      "C:\\Users\\joshu\\AppData\\Local\\Temp\\ipykernel_11724\\2789311019.py:2: SettingWithCopyWarning: \n",
>>>>>>> 2754662517964e6af87550162a775a463e39e1dc
      "A value is trying to be set on a copy of a slice from a DataFrame\n",
      "\n",
      "See the caveats in the documentation: https://pandas.pydata.org/pandas-docs/stable/user_guide/indexing.html#returning-a-view-versus-a-copy\n",
      "  poi_transit.drop(columns=['Category'], inplace=True)\n"
     ]
    }
   ],
   "source": [
    "poi_transit = pois_df.loc[pois_df['Category']=='transit_station']\n",
    "poi_transit.drop(columns=['Category'], inplace=True)"
   ]
  },
  {
   "cell_type": "code",
<<<<<<< HEAD
   "execution_count": 106,
=======
   "execution_count": 98,
>>>>>>> 2754662517964e6af87550162a775a463e39e1dc
   "id": "f87574f6",
   "metadata": {},
   "outputs": [
    {
     "name": "stderr",
     "output_type": "stream",
     "text": [
<<<<<<< HEAD
      "C:\\Users\\annie\\AppData\\Local\\Temp\\ipykernel_74564\\136578826.py:2: SettingWithCopyWarning: \n",
=======
      "C:\\Users\\joshu\\AppData\\Local\\Temp\\ipykernel_11724\\136578826.py:2: SettingWithCopyWarning: \n",
>>>>>>> 2754662517964e6af87550162a775a463e39e1dc
      "A value is trying to be set on a copy of a slice from a DataFrame\n",
      "\n",
      "See the caveats in the documentation: https://pandas.pydata.org/pandas-docs/stable/user_guide/indexing.html#returning-a-view-versus-a-copy\n",
      "  poi_grocery.drop(columns=['Category'], inplace=True)\n"
     ]
    }
   ],
   "source": [
    "poi_grocery = pois_df.loc[pois_df['Category']=='supermarket']\n",
    "poi_grocery.drop(columns=['Category'], inplace=True)"
   ]
  },
  {
   "cell_type": "code",
<<<<<<< HEAD
   "execution_count": 107,
=======
   "execution_count": 99,
>>>>>>> 2754662517964e6af87550162a775a463e39e1dc
   "id": "9514b590",
   "metadata": {},
   "outputs": [],
   "source": [
    "resto_count = poi_resto.groupby(['Neighbourhood']).count()"
   ]
  },
  {
   "cell_type": "code",
<<<<<<< HEAD
   "execution_count": 108,
=======
   "execution_count": 100,
>>>>>>> 2754662517964e6af87550162a775a463e39e1dc
   "id": "533a406a",
   "metadata": {},
   "outputs": [
    {
     "name": "stderr",
     "output_type": "stream",
     "text": [
      "C:\\Users\\joshu\\AppData\\Local\\Temp\\ipykernel_11724\\701614611.py:1: FutureWarning: The default value of numeric_only in DataFrameGroupBy.mean is deprecated. In a future version, numeric_only will default to False. Either specify numeric_only or select only columns which should be valid for the function.\n",
      "  resto_mean = poi_resto.groupby(['Neighbourhood']).mean()\n"
     ]
    }
   ],
   "source": [
    "resto_mean = poi_resto.groupby(['Neighbourhood']).mean()"
   ]
  },
  {
   "cell_type": "code",
<<<<<<< HEAD
   "execution_count": 109,
=======
   "execution_count": 101,
>>>>>>> 2754662517964e6af87550162a775a463e39e1dc
   "id": "b1ad04e1",
   "metadata": {},
   "outputs": [
    {
     "name": "stderr",
     "output_type": "stream",
     "text": [
      "C:\\Users\\joshu\\AppData\\Local\\Temp\\ipykernel_11724\\3305352129.py:1: FutureWarning: The default value of numeric_only in DataFrameGroupBy.sum is deprecated. In a future version, numeric_only will default to False. Either specify numeric_only or select only columns which should be valid for the function.\n",
      "  resto_sum = poi_resto.groupby(['Neighbourhood']).sum()\n"
     ]
    }
   ],
   "source": [
    "resto_sum = poi_resto.groupby(['Neighbourhood']).sum()"
   ]
  },
  {
   "cell_type": "code",
<<<<<<< HEAD
   "execution_count": 110,
=======
   "execution_count": 102,
>>>>>>> 2754662517964e6af87550162a775a463e39e1dc
   "id": "6c539a91",
   "metadata": {},
   "outputs": [],
   "source": [
    "school_count = poi_school.groupby(['Neighbourhood']).count()"
   ]
  },
  {
   "cell_type": "code",
<<<<<<< HEAD
   "execution_count": 111,
=======
   "execution_count": 103,
>>>>>>> 2754662517964e6af87550162a775a463e39e1dc
   "id": "a28786a4",
   "metadata": {},
   "outputs": [
    {
     "name": "stderr",
     "output_type": "stream",
     "text": [
      "C:\\Users\\joshu\\AppData\\Local\\Temp\\ipykernel_11724\\2650181881.py:1: FutureWarning: The default value of numeric_only in DataFrameGroupBy.mean is deprecated. In a future version, numeric_only will default to False. Either specify numeric_only or select only columns which should be valid for the function.\n",
      "  school_mean = poi_school.groupby(['Neighbourhood']).mean()\n"
     ]
    }
   ],
   "source": [
    "school_mean = poi_school.groupby(['Neighbourhood']).mean()"
   ]
  },
  {
   "cell_type": "code",
<<<<<<< HEAD
   "execution_count": 112,
=======
   "execution_count": 104,
>>>>>>> 2754662517964e6af87550162a775a463e39e1dc
   "id": "da9d0f60",
   "metadata": {},
   "outputs": [
    {
     "name": "stderr",
     "output_type": "stream",
     "text": [
      "C:\\Users\\joshu\\AppData\\Local\\Temp\\ipykernel_11724\\1012789488.py:1: FutureWarning: The default value of numeric_only in DataFrameGroupBy.sum is deprecated. In a future version, numeric_only will default to False. Either specify numeric_only or select only columns which should be valid for the function.\n",
      "  school_sum = poi_school.groupby(['Neighbourhood']).sum()\n"
     ]
    }
   ],
   "source": [
    "school_sum = poi_school.groupby(['Neighbourhood']).sum()"
   ]
  },
  {
   "cell_type": "code",
<<<<<<< HEAD
   "execution_count": 113,
=======
   "execution_count": 105,
>>>>>>> 2754662517964e6af87550162a775a463e39e1dc
   "id": "ca75c814",
   "metadata": {},
   "outputs": [],
   "source": [
    "park_count = poi_park.groupby(['Neighbourhood']).count()"
   ]
  },
  {
   "cell_type": "code",
<<<<<<< HEAD
   "execution_count": 114,
=======
   "execution_count": 106,
>>>>>>> 2754662517964e6af87550162a775a463e39e1dc
   "id": "ac2c2346",
   "metadata": {},
   "outputs": [
    {
     "name": "stderr",
     "output_type": "stream",
     "text": [
      "C:\\Users\\joshu\\AppData\\Local\\Temp\\ipykernel_11724\\3533310430.py:1: FutureWarning: The default value of numeric_only in DataFrameGroupBy.mean is deprecated. In a future version, numeric_only will default to False. Either specify numeric_only or select only columns which should be valid for the function.\n",
      "  park_mean = poi_park.groupby(['Neighbourhood']).mean()\n"
     ]
    }
   ],
   "source": [
    "park_mean = poi_park.groupby(['Neighbourhood']).mean()"
   ]
  },
  {
   "cell_type": "code",
<<<<<<< HEAD
   "execution_count": 115,
=======
   "execution_count": 107,
>>>>>>> 2754662517964e6af87550162a775a463e39e1dc
   "id": "62800c0c",
   "metadata": {},
   "outputs": [
    {
     "name": "stderr",
     "output_type": "stream",
     "text": [
      "C:\\Users\\joshu\\AppData\\Local\\Temp\\ipykernel_11724\\1530837661.py:1: FutureWarning: The default value of numeric_only in DataFrameGroupBy.sum is deprecated. In a future version, numeric_only will default to False. Either specify numeric_only or select only columns which should be valid for the function.\n",
      "  park_sum = poi_park.groupby(['Neighbourhood']).sum()\n"
     ]
    }
   ],
   "source": [
    "park_sum = poi_park.groupby(['Neighbourhood']).sum()"
   ]
  },
  {
   "cell_type": "code",
<<<<<<< HEAD
   "execution_count": 116,
=======
   "execution_count": 108,
>>>>>>> 2754662517964e6af87550162a775a463e39e1dc
   "id": "7249fe44",
   "metadata": {},
   "outputs": [],
   "source": [
    "transit_count = poi_transit.groupby(['Neighbourhood']).count()"
   ]
  },
  {
   "cell_type": "code",
<<<<<<< HEAD
   "execution_count": 117,
=======
   "execution_count": 109,
>>>>>>> 2754662517964e6af87550162a775a463e39e1dc
   "id": "fb21e2ef",
   "metadata": {},
   "outputs": [
    {
     "name": "stderr",
     "output_type": "stream",
     "text": [
      "C:\\Users\\joshu\\AppData\\Local\\Temp\\ipykernel_11724\\4053880230.py:1: FutureWarning: The default value of numeric_only in DataFrameGroupBy.mean is deprecated. In a future version, numeric_only will default to False. Either specify numeric_only or select only columns which should be valid for the function.\n",
      "  transit_mean = poi_transit.groupby(['Neighbourhood']).mean()\n"
     ]
    }
   ],
   "source": [
    "transit_mean = poi_transit.groupby(['Neighbourhood']).mean()"
   ]
  },
  {
   "cell_type": "code",
<<<<<<< HEAD
   "execution_count": 118,
=======
   "execution_count": 110,
>>>>>>> 2754662517964e6af87550162a775a463e39e1dc
   "id": "b47b04a5",
   "metadata": {},
   "outputs": [
    {
     "name": "stderr",
     "output_type": "stream",
     "text": [
      "C:\\Users\\joshu\\AppData\\Local\\Temp\\ipykernel_11724\\4150574006.py:1: FutureWarning: The default value of numeric_only in DataFrameGroupBy.sum is deprecated. In a future version, numeric_only will default to False. Either specify numeric_only or select only columns which should be valid for the function.\n",
      "  transit_sum = poi_transit.groupby(['Neighbourhood']).sum()\n"
     ]
    }
   ],
   "source": [
    "transit_sum = poi_transit.groupby(['Neighbourhood']).sum()"
   ]
  },
  {
   "cell_type": "code",
<<<<<<< HEAD
   "execution_count": 119,
=======
   "execution_count": 111,
>>>>>>> 2754662517964e6af87550162a775a463e39e1dc
   "id": "ca947fa7",
   "metadata": {},
   "outputs": [],
   "source": [
    "grocery_count = poi_grocery.groupby(['Neighbourhood']).count()"
   ]
  },
  {
   "cell_type": "code",
<<<<<<< HEAD
   "execution_count": 120,
=======
   "execution_count": 112,
>>>>>>> 2754662517964e6af87550162a775a463e39e1dc
   "id": "b43a40c5",
   "metadata": {},
   "outputs": [
    {
     "name": "stderr",
     "output_type": "stream",
     "text": [
      "C:\\Users\\joshu\\AppData\\Local\\Temp\\ipykernel_11724\\4267629077.py:1: FutureWarning: The default value of numeric_only in DataFrameGroupBy.mean is deprecated. In a future version, numeric_only will default to False. Either specify numeric_only or select only columns which should be valid for the function.\n",
      "  grocery_mean = poi_grocery.groupby(['Neighbourhood']).mean()\n"
     ]
    }
   ],
   "source": [
    "grocery_mean = poi_grocery.groupby(['Neighbourhood']).mean()"
   ]
  },
  {
   "cell_type": "code",
<<<<<<< HEAD
   "execution_count": 121,
=======
   "execution_count": 113,
>>>>>>> 2754662517964e6af87550162a775a463e39e1dc
   "id": "f8c41008",
   "metadata": {},
   "outputs": [
    {
     "name": "stderr",
     "output_type": "stream",
     "text": [
      "C:\\Users\\joshu\\AppData\\Local\\Temp\\ipykernel_11724\\904509623.py:1: FutureWarning: The default value of numeric_only in DataFrameGroupBy.sum is deprecated. In a future version, numeric_only will default to False. Either specify numeric_only or select only columns which should be valid for the function.\n",
      "  grocery_sum = poi_grocery.groupby(['Neighbourhood']).sum()\n"
     ]
    }
   ],
   "source": [
    "grocery_sum = poi_grocery.groupby(['Neighbourhood']).sum()"
   ]
  },
  {
<<<<<<< HEAD
=======
   "cell_type": "code",
   "execution_count": null,
   "id": "57bfe864",
   "metadata": {},
   "outputs": [],
   "source": []
  },
  {
>>>>>>> 2754662517964e6af87550162a775a463e39e1dc
   "cell_type": "markdown",
   "id": "662c688a",
   "metadata": {},
   "source": [
    "### Simplifying Rat Data"
   ]
  },
  {
   "cell_type": "code",
<<<<<<< HEAD
   "execution_count": 122,
   "id": "495873db",
   "metadata": {},
   "outputs": [],
   "source": [
    "# cleaning neighbourhoods & boroughs\n",
    "rats_df['ll'] = uber_sample_df['ll'] = rats_df['Latitude'].round(3).astype(str) + ',' + rats_df['Longitude'].round(3).astype(str)\n",
    "num_rows = nyc_geo.shape[0]\n",
    "row_count = 0\n",
    "\n",
    "while row_count < num_rows:\n",
    "    rats_df.loc[rats_df['Incident Zip'] ==nyc_geo['Zipcode'][row_count], 'Neighbourhood'] = nyc_geo['Neighbourhood'][row_count]\n",
    "    rats_df.loc[rats_df['ll'] ==nyc_geo['ll_round'][row_count], 'Neighbourhood'] = nyc_geo['Neighbourhood'][row_count]\n",
    "    rats_df.loc[rats_df['Incident Zip'] ==nyc_geo['Zipcode'][row_count], 'Borough'] = nyc_geo['Borough'][row_count]\n",
    "    rats_df.loc[rats_df['ll'] ==nyc_geo['ll_round'][row_count], 'Borough'] = nyc_geo['Borough'][row_count]\n",
    "    row_count +=1"
   ]
  },
  {
   "cell_type": "code",
   "execution_count": 123,
   "id": "0b485770",
   "metadata": {},
   "outputs": [],
   "source": [
    "# Drop unused rows that are not part of any borough\n",
    "rats_df.drop(rats_df[rats_df['Borough'] == 'Mount Vernon'].index, inplace=True)\n",
    "rats_df.drop(rats_df[rats_df['Borough'] == 'Pelham Manor'].index, inplace=True)\n",
    "rats_df.drop(rats_df[rats_df['Borough'] == 'Pelham'].index, inplace=True)\n",
    "rats_df.drop(rats_df[rats_df['Borough'] == 'Yonkers'].index, inplace=True)\n",
    "rats_df.drop(rats_df[rats_df['Borough'] == 'Long Island City'].index, inplace=True)\n",
    "rats_df.drop(rats_df[rats_df['Borough'] == 'Floral Park'].index, inplace=True)\n",
    "rats_df.drop(rats_df[rats_df['Borough'] == 'Bellerose'].index, inplace=True)\n",
    "rats_df.drop(rats_df[rats_df['Borough'] == 'Elizabeth'].index, inplace=True)"
   ]
  },
  {
   "cell_type": "code",
   "execution_count": 124,
=======
   "execution_count": 114,
>>>>>>> 2754662517964e6af87550162a775a463e39e1dc
   "id": "42c51dec",
   "metadata": {},
   "outputs": [
    {
     "data": {
      "text/html": [
       "<div>\n",
       "<style scoped>\n",
       "    .dataframe tbody tr th:only-of-type {\n",
       "        vertical-align: middle;\n",
       "    }\n",
       "\n",
       "    .dataframe tbody tr th {\n",
       "        vertical-align: top;\n",
       "    }\n",
       "\n",
       "    .dataframe thead th {\n",
       "        text-align: right;\n",
       "    }\n",
       "</style>\n",
       "<table border=\"1\" class=\"dataframe\">\n",
       "  <thead>\n",
       "    <tr style=\"text-align: right;\">\n",
       "      <th></th>\n",
       "      <th>Created Date</th>\n",
       "      <th>Closed Date</th>\n",
       "      <th>Status</th>\n",
       "      <th>Borough</th>\n",
       "      <th>Latitude</th>\n",
       "      <th>Longitude</th>\n",
       "      <th>Location</th>\n",
       "      <th>Incident Zip</th>\n",
       "      <th>Created Year</th>\n",
       "      <th>Created Month</th>\n",
       "      <th>Created Day</th>\n",
       "      <th>Closed Year</th>\n",
       "      <th>Closed Month</th>\n",
       "      <th>Closed Day</th>\n",
       "      <th>Time Complaint Open</th>\n",
       "      <th>Neighbourhood</th>\n",
       "      <th>ll</th>\n",
       "    </tr>\n",
       "  </thead>\n",
       "  <tbody>\n",
       "    <tr>\n",
       "      <th>0</th>\n",
       "      <td>2014-10-23 00:00:00</td>\n",
       "      <td>2014-11-03 00:00:00</td>\n",
       "      <td>Closed</td>\n",
       "      <td>Bronx</td>\n",
       "      <td>40.821669</td>\n",
       "      <td>-73.900804</td>\n",
       "      <td>(40.82166931856299, -73.90080380316648)</td>\n",
       "      <td>10459.0</td>\n",
       "      <td>2014</td>\n",
       "      <td>10</td>\n",
       "      <td>23</td>\n",
       "      <td>2014.0</td>\n",
       "      <td>11.0</td>\n",
       "      <td>3.0</td>\n",
       "      <td>11 days 00:00:00</td>\n",
       "      <td>Claremont Village</td>\n",
       "      <td>40.822,-73.901</td>\n",
       "    </tr>\n",
       "    <tr>\n",
       "      <th>1</th>\n",
       "      <td>2016-07-20 00:00:00</td>\n",
       "      <td>2016-08-01 00:00:00</td>\n",
       "      <td>Closed</td>\n",
       "      <td>Bronx</td>\n",
       "      <td>40.840613</td>\n",
       "      <td>-73.786838</td>\n",
       "      <td>(40.840612729145235, -73.78683804731034)</td>\n",
       "      <td>10464.0</td>\n",
       "      <td>2016</td>\n",
       "      <td>7</td>\n",
       "      <td>20</td>\n",
       "      <td>2016.0</td>\n",
       "      <td>8.0</td>\n",
       "      <td>1.0</td>\n",
       "      <td>12 days 00:00:00</td>\n",
       "      <td>City Island</td>\n",
       "      <td>40.841,-73.787</td>\n",
       "    </tr>\n",
       "    <tr>\n",
       "      <th>2</th>\n",
       "      <td>2020-10-29 09:01:08</td>\n",
       "      <td>2020-11-02 07:53:19</td>\n",
       "      <td>Closed</td>\n",
       "      <td>Bronx</td>\n",
       "      <td>40.841253</td>\n",
       "      <td>-73.891974</td>\n",
       "      <td>(40.84125315979925, -73.89197423865936)</td>\n",
       "      <td>10457.0</td>\n",
       "      <td>2020</td>\n",
       "      <td>10</td>\n",
       "      <td>29</td>\n",
       "      <td>2020.0</td>\n",
       "      <td>11.0</td>\n",
       "      <td>2.0</td>\n",
       "      <td>3 days 22:52:11</td>\n",
       "      <td>East Tremont</td>\n",
       "      <td>40.841,-73.892</td>\n",
       "    </tr>\n",
       "    <tr>\n",
       "      <th>3</th>\n",
       "      <td>2019-08-09 11:30:44</td>\n",
       "      <td>2019-08-29 12:02:39</td>\n",
       "      <td>Closed</td>\n",
       "      <td>Bronx</td>\n",
       "      <td>40.874368</td>\n",
       "      <td>-73.854105</td>\n",
       "      <td>(40.874367503140164, -73.85410521850169)</td>\n",
       "      <td>10469.0</td>\n",
       "      <td>2019</td>\n",
       "      <td>8</td>\n",
       "      <td>9</td>\n",
       "      <td>2019.0</td>\n",
       "      <td>8.0</td>\n",
       "      <td>29.0</td>\n",
       "      <td>20 days 00:31:55</td>\n",
       "      <td>Edenwald</td>\n",
       "      <td>40.874,-73.854</td>\n",
       "    </tr>\n",
       "    <tr>\n",
       "      <th>4</th>\n",
       "      <td>2017-10-08 00:00:00</td>\n",
       "      <td>2017-11-01 00:00:00</td>\n",
       "      <td>Closed</td>\n",
       "      <td>Bronx</td>\n",
       "      <td>40.848294</td>\n",
       "      <td>-73.905568</td>\n",
       "      <td>(40.84829428752809, -73.90556776115774)</td>\n",
       "      <td>10457.0</td>\n",
       "      <td>2017</td>\n",
       "      <td>10</td>\n",
       "      <td>8</td>\n",
       "      <td>2017.0</td>\n",
       "      <td>11.0</td>\n",
       "      <td>1.0</td>\n",
       "      <td>24 days 00:00:00</td>\n",
       "      <td>East Tremont</td>\n",
       "      <td>40.848,-73.906</td>\n",
       "    </tr>\n",
       "  </tbody>\n",
       "</table>\n",
       "</div>"
      ],
      "text/plain": [
       "          Created Date          Closed Date  Status Borough   Latitude  \\\n",
       "0  2014-10-23 00:00:00  2014-11-03 00:00:00  Closed   Bronx  40.821669   \n",
       "1  2016-07-20 00:00:00  2016-08-01 00:00:00  Closed   Bronx  40.840613   \n",
       "2  2020-10-29 09:01:08  2020-11-02 07:53:19  Closed   Bronx  40.841253   \n",
       "3  2019-08-09 11:30:44  2019-08-29 12:02:39  Closed   Bronx  40.874368   \n",
       "4  2017-10-08 00:00:00  2017-11-01 00:00:00  Closed   Bronx  40.848294   \n",
       "\n",
       "   Longitude                                  Location  Incident Zip  \\\n",
       "0 -73.900804   (40.82166931856299, -73.90080380316648)       10459.0   \n",
       "1 -73.786838  (40.840612729145235, -73.78683804731034)       10464.0   \n",
       "2 -73.891974   (40.84125315979925, -73.89197423865936)       10457.0   \n",
       "3 -73.854105  (40.874367503140164, -73.85410521850169)       10469.0   \n",
       "4 -73.905568   (40.84829428752809, -73.90556776115774)       10457.0   \n",
       "\n",
       "   Created Year  Created Month  Created Day  Closed Year  Closed Month  \\\n",
       "0          2014             10           23       2014.0          11.0   \n",
       "1          2016              7           20       2016.0           8.0   \n",
       "2          2020             10           29       2020.0          11.0   \n",
       "3          2019              8            9       2019.0           8.0   \n",
       "4          2017             10            8       2017.0          11.0   \n",
       "\n",
       "   Closed Day Time Complaint Open      Neighbourhood              ll  \n",
       "0         3.0    11 days 00:00:00  Claremont Village  40.822,-73.901  \n",
       "1         1.0    12 days 00:00:00        City Island  40.841,-73.787  \n",
       "2         2.0     3 days 22:52:11       East Tremont  40.841,-73.892  \n",
       "3        29.0    20 days 00:31:55           Edenwald  40.874,-73.854  \n",
       "4         1.0    24 days 00:00:00       East Tremont  40.848,-73.906  "
      ]
     },
<<<<<<< HEAD
     "execution_count": 124,
=======
     "execution_count": 114,
>>>>>>> 2754662517964e6af87550162a775a463e39e1dc
     "metadata": {},
     "output_type": "execute_result"
    }
   ],
   "source": [
    "rats_df.head()"
   ]
  },
  {
   "cell_type": "code",
   "execution_count": 125,
   "id": "ef68ddb3",
   "metadata": {},
   "outputs": [],
   "source": [
    "# changing 'Time Complaint Open' back to a time object, and setting the values to be just the # of days\n",
    "rats_df['Time Complaint Open'] = pd.to_timedelta(rats_df['Time Complaint Open'])\n",
    "rats_df['Time Complaint Open'] = rats_df['Time Complaint Open'].dt.days"
   ]
  },
  {
   "cell_type": "code",
<<<<<<< HEAD
   "execution_count": 126,
=======
   "execution_count": 116,
>>>>>>> 2754662517964e6af87550162a775a463e39e1dc
   "id": "cec66be1",
   "metadata": {},
   "outputs": [],
   "source": [
    "rats_df.rename(columns={'Time Complaint Open':'Days Complaint Open'}, inplace=True)"
   ]
  },
  {
   "cell_type": "code",
<<<<<<< HEAD
   "execution_count": 127,
=======
   "execution_count": 117,
>>>>>>> 2754662517964e6af87550162a775a463e39e1dc
   "id": "14fad730",
   "metadata": {},
   "outputs": [],
   "source": [
    "# hot encoding case status\n",
    "rats_df['Status'].replace(\n",
    "                {'Closed':0,\n",
    "                'Open':1}, inplace=True)"
   ]
  },
  {
   "cell_type": "code",
<<<<<<< HEAD
   "execution_count": 128,
=======
   "execution_count": 118,
>>>>>>> 2754662517964e6af87550162a775a463e39e1dc
   "id": "14050d82",
   "metadata": {},
   "outputs": [],
   "source": [
    "rats_df.rename(columns={'Status':'Case Open?'}, inplace=True)"
   ]
  },
  {
   "cell_type": "code",
<<<<<<< HEAD
   "execution_count": 129,
=======
   "execution_count": 119,
>>>>>>> 2754662517964e6af87550162a775a463e39e1dc
   "id": "3b6668ce",
   "metadata": {
    "scrolled": true
   },
   "outputs": [
    {
     "name": "stdout",
     "output_type": "stream",
     "text": [
      "<class 'pandas.core.frame.DataFrame'>\n",
      "RangeIndex: 30672 entries, 0 to 30671\n",
      "Data columns (total 17 columns):\n",
      " #   Column               Non-Null Count  Dtype  \n",
      "---  ------               --------------  -----  \n",
      " 0   Created Date         30672 non-null  object \n",
      " 1   Closed Date          28189 non-null  object \n",
      " 2   Case Open?           30672 non-null  int64  \n",
      " 3   Borough              30672 non-null  object \n",
      " 4   Latitude             30362 non-null  float64\n",
      " 5   Longitude            30362 non-null  float64\n",
      " 6   Location             30362 non-null  object \n",
      " 7   Incident Zip         30611 non-null  float64\n",
      " 8   Created Year         30672 non-null  int64  \n",
      " 9   Created Month        30672 non-null  int64  \n",
      " 10  Created Day          30672 non-null  int64  \n",
      " 11  Closed Year          28189 non-null  float64\n",
      " 12  Closed Month         28189 non-null  float64\n",
      " 13  Closed Day           28189 non-null  float64\n",
      " 14  Days Complaint Open  28189 non-null  float64\n",
      " 15  Neighbourhood        30672 non-null  object \n",
      " 16  ll                   30672 non-null  object \n",
      "dtypes: float64(7), int64(4), object(6)\n",
      "memory usage: 4.0+ MB\n"
     ]
    }
   ],
   "source": [
    "rats_df.info()"
   ]
  },
  {
   "cell_type": "code",
<<<<<<< HEAD
   "execution_count": 130,
   "id": "ffddf96f",
   "metadata": {},
   "outputs": [],
   "source": [
    "rats_df.to_csv('./clean_data/cleaned_rats.csv', index=False)"
   ]
  },
  {
   "cell_type": "code",
   "execution_count": 131,
=======
   "execution_count": 120,
>>>>>>> 2754662517964e6af87550162a775a463e39e1dc
   "id": "56e90e35",
   "metadata": {},
   "outputs": [
    {
     "name": "stderr",
     "output_type": "stream",
     "text": [
      "C:\\Users\\joshu\\AppData\\Local\\Temp\\ipykernel_11724\\4066227035.py:1: FutureWarning: The default value of numeric_only in DataFrameGroupBy.sum is deprecated. In a future version, numeric_only will default to False. Either specify numeric_only or select only columns which should be valid for the function.\n",
      "  rats_sum = rats_df.groupby(['Neighbourhood']).sum()\n"
     ]
    }
   ],
   "source": [
    "rats_sum = rats_df.groupby(['Neighbourhood']).sum()"
   ]
  },
  {
   "cell_type": "code",
<<<<<<< HEAD
   "execution_count": 132,
=======
   "execution_count": 121,
>>>>>>> 2754662517964e6af87550162a775a463e39e1dc
   "id": "9e85b127",
   "metadata": {},
   "outputs": [],
   "source": [
    "rats_count = rats_df.groupby(['Neighbourhood']).count()"
   ]
  },
  {
   "cell_type": "code",
<<<<<<< HEAD
   "execution_count": 133,
=======
   "execution_count": 122,
>>>>>>> 2754662517964e6af87550162a775a463e39e1dc
   "id": "799c0909",
   "metadata": {},
   "outputs": [
    {
     "name": "stderr",
     "output_type": "stream",
     "text": [
      "C:\\Users\\joshu\\AppData\\Local\\Temp\\ipykernel_11724\\2269898343.py:1: FutureWarning: The default value of numeric_only in DataFrameGroupBy.mean is deprecated. In a future version, numeric_only will default to False. Either specify numeric_only or select only columns which should be valid for the function.\n",
      "  rats_mean = rats_df.groupby(['Neighbourhood']).mean()\n"
     ]
    }
   ],
   "source": [
    "rats_mean = rats_df.groupby(['Neighbourhood']).mean()"
   ]
  },
  {
   "cell_type": "code",
<<<<<<< HEAD
   "execution_count": 134,
=======
   "execution_count": 123,
>>>>>>> 2754662517964e6af87550162a775a463e39e1dc
   "id": "78886e05",
   "metadata": {},
   "outputs": [
    {
     "data": {
      "text/html": [
       "<div>\n",
       "<style scoped>\n",
       "    .dataframe tbody tr th:only-of-type {\n",
       "        vertical-align: middle;\n",
       "    }\n",
       "\n",
       "    .dataframe tbody tr th {\n",
       "        vertical-align: top;\n",
       "    }\n",
       "\n",
       "    .dataframe thead th {\n",
       "        text-align: right;\n",
       "    }\n",
       "</style>\n",
       "<table border=\"1\" class=\"dataframe\">\n",
       "  <thead>\n",
       "    <tr style=\"text-align: right;\">\n",
       "      <th></th>\n",
       "      <th>Case Open?</th>\n",
       "      <th>Latitude</th>\n",
       "      <th>Longitude</th>\n",
       "      <th>Incident Zip</th>\n",
       "      <th>Created Year</th>\n",
       "      <th>Created Month</th>\n",
       "      <th>Created Day</th>\n",
       "      <th>Closed Year</th>\n",
       "      <th>Closed Month</th>\n",
       "      <th>Closed Day</th>\n",
       "      <th>Days Complaint Open</th>\n",
       "    </tr>\n",
       "    <tr>\n",
       "      <th>Neighbourhood</th>\n",
       "      <th></th>\n",
       "      <th></th>\n",
       "      <th></th>\n",
       "      <th></th>\n",
       "      <th></th>\n",
       "      <th></th>\n",
       "      <th></th>\n",
       "      <th></th>\n",
       "      <th></th>\n",
       "      <th></th>\n",
       "      <th></th>\n",
       "    </tr>\n",
       "  </thead>\n",
       "  <tbody>\n",
       "    <tr>\n",
       "      <th>Allerton</th>\n",
       "      <td>29</td>\n",
       "      <td>20723.062491</td>\n",
       "      <td>-37452.540477</td>\n",
       "      <td>5317236.0</td>\n",
       "      <td>1024266</td>\n",
       "      <td>3327</td>\n",
       "      <td>7782</td>\n",
       "      <td>967890.0</td>\n",
       "      <td>3256.0</td>\n",
       "      <td>7298.0</td>\n",
       "      <td>3483.0</td>\n",
       "    </tr>\n",
       "    <tr>\n",
       "      <th>Astoria</th>\n",
       "      <td>0</td>\n",
       "      <td>40.769227</td>\n",
       "      <td>-73.916168</td>\n",
       "      <td>11103.0</td>\n",
       "      <td>2011</td>\n",
       "      <td>3</td>\n",
       "      <td>13</td>\n",
       "      <td>2011.0</td>\n",
       "      <td>4.0</td>\n",
       "      <td>13.0</td>\n",
       "      <td>31.0</td>\n",
       "    </tr>\n",
       "    <tr>\n",
       "      <th>Astoria Heights</th>\n",
       "      <td>15</td>\n",
       "      <td>5300.987478</td>\n",
       "      <td>-9608.224944</td>\n",
       "      <td>1443650.0</td>\n",
       "      <td>262582</td>\n",
       "      <td>895</td>\n",
       "      <td>1857</td>\n",
       "      <td>232271.0</td>\n",
       "      <td>769.0</td>\n",
       "      <td>1881.0</td>\n",
       "      <td>1392.0</td>\n",
       "    </tr>\n",
       "    <tr>\n",
       "      <th>Bath Beach</th>\n",
       "      <td>10</td>\n",
       "      <td>5075.014962</td>\n",
       "      <td>-9249.780137</td>\n",
       "      <td>1412964.0</td>\n",
       "      <td>254048</td>\n",
       "      <td>817</td>\n",
       "      <td>2042</td>\n",
       "      <td>233886.0</td>\n",
       "      <td>785.0</td>\n",
       "      <td>1767.0</td>\n",
       "      <td>1302.0</td>\n",
       "    </tr>\n",
       "    <tr>\n",
       "      <th>Bay Terrace</th>\n",
       "      <td>7</td>\n",
       "      <td>3367.096928</td>\n",
       "      <td>-6152.691443</td>\n",
       "      <td>860824.0</td>\n",
       "      <td>167348</td>\n",
       "      <td>555</td>\n",
       "      <td>1244</td>\n",
       "      <td>153254.0</td>\n",
       "      <td>563.0</td>\n",
       "      <td>1282.0</td>\n",
       "      <td>2261.0</td>\n",
       "    </tr>\n",
       "    <tr>\n",
       "      <th>...</th>\n",
       "      <td>...</td>\n",
       "      <td>...</td>\n",
       "      <td>...</td>\n",
       "      <td>...</td>\n",
       "      <td>...</td>\n",
       "      <td>...</td>\n",
       "      <td>...</td>\n",
       "      <td>...</td>\n",
       "      <td>...</td>\n",
       "      <td>...</td>\n",
       "      <td>...</td>\n",
       "    </tr>\n",
       "    <tr>\n",
       "      <th>Westerleigh</th>\n",
       "      <td>6</td>\n",
       "      <td>2884.803518</td>\n",
       "      <td>-5263.663545</td>\n",
       "      <td>741744.0</td>\n",
       "      <td>145243</td>\n",
       "      <td>475</td>\n",
       "      <td>1110</td>\n",
       "      <td>135153.0</td>\n",
       "      <td>439.0</td>\n",
       "      <td>1114.0</td>\n",
       "      <td>907.0</td>\n",
       "    </tr>\n",
       "    <tr>\n",
       "      <th>Willowbrook</th>\n",
       "      <td>15</td>\n",
       "      <td>7999.814219</td>\n",
       "      <td>-14606.459397</td>\n",
       "      <td>2031858.0</td>\n",
       "      <td>397198</td>\n",
       "      <td>1267</td>\n",
       "      <td>3104</td>\n",
       "      <td>369008.0</td>\n",
       "      <td>1241.0</td>\n",
       "      <td>3092.0</td>\n",
       "      <td>3590.0</td>\n",
       "    </tr>\n",
       "    <tr>\n",
       "      <th>Wingate</th>\n",
       "      <td>22</td>\n",
       "      <td>16065.017211</td>\n",
       "      <td>-29204.832111</td>\n",
       "      <td>4485200.0</td>\n",
       "      <td>806732</td>\n",
       "      <td>2625</td>\n",
       "      <td>6634</td>\n",
       "      <td>764383.0</td>\n",
       "      <td>2602.0</td>\n",
       "      <td>6208.0</td>\n",
       "      <td>4557.0</td>\n",
       "    </tr>\n",
       "    <tr>\n",
       "      <th>Woodhaven</th>\n",
       "      <td>4</td>\n",
       "      <td>1831.077004</td>\n",
       "      <td>-3323.591433</td>\n",
       "      <td>513945.0</td>\n",
       "      <td>90704</td>\n",
       "      <td>282</td>\n",
       "      <td>683</td>\n",
       "      <td>84654.0</td>\n",
       "      <td>267.0</td>\n",
       "      <td>649.0</td>\n",
       "      <td>507.0</td>\n",
       "    </tr>\n",
       "    <tr>\n",
       "      <th>Woodlawn</th>\n",
       "      <td>7</td>\n",
       "      <td>6338.059649</td>\n",
       "      <td>-11447.065284</td>\n",
       "      <td>1622242.0</td>\n",
       "      <td>312504</td>\n",
       "      <td>1001</td>\n",
       "      <td>2491</td>\n",
       "      <td>298418.0</td>\n",
       "      <td>1001.0</td>\n",
       "      <td>2466.0</td>\n",
       "      <td>1713.0</td>\n",
       "    </tr>\n",
       "  </tbody>\n",
       "</table>\n",
       "<p>159 rows × 11 columns</p>\n",
       "</div>"
      ],
      "text/plain": [
       "                 Case Open?      Latitude     Longitude  Incident Zip  \\\n",
       "Neighbourhood                                                           \n",
       "Allerton                 29  20723.062491 -37452.540477     5317236.0   \n",
       "Astoria                   0     40.769227    -73.916168       11103.0   \n",
       "Astoria Heights          15   5300.987478  -9608.224944     1443650.0   \n",
       "Bath Beach               10   5075.014962  -9249.780137     1412964.0   \n",
       "Bay Terrace               7   3367.096928  -6152.691443      860824.0   \n",
       "...                     ...           ...           ...           ...   \n",
       "Westerleigh               6   2884.803518  -5263.663545      741744.0   \n",
       "Willowbrook              15   7999.814219 -14606.459397     2031858.0   \n",
       "Wingate                  22  16065.017211 -29204.832111     4485200.0   \n",
       "Woodhaven                 4   1831.077004  -3323.591433      513945.0   \n",
       "Woodlawn                  7   6338.059649 -11447.065284     1622242.0   \n",
       "\n",
       "                 Created Year  Created Month  Created Day  Closed Year  \\\n",
       "Neighbourhood                                                            \n",
       "Allerton              1024266           3327         7782     967890.0   \n",
       "Astoria                  2011              3           13       2011.0   \n",
       "Astoria Heights        262582            895         1857     232271.0   \n",
       "Bath Beach             254048            817         2042     233886.0   \n",
       "Bay Terrace            167348            555         1244     153254.0   \n",
       "...                       ...            ...          ...          ...   \n",
       "Westerleigh            145243            475         1110     135153.0   \n",
       "Willowbrook            397198           1267         3104     369008.0   \n",
       "Wingate                806732           2625         6634     764383.0   \n",
       "Woodhaven               90704            282          683      84654.0   \n",
       "Woodlawn               312504           1001         2491     298418.0   \n",
       "\n",
       "                 Closed Month  Closed Day  Days Complaint Open  \n",
       "Neighbourhood                                                   \n",
       "Allerton               3256.0      7298.0               3483.0  \n",
       "Astoria                   4.0        13.0                 31.0  \n",
       "Astoria Heights         769.0      1881.0               1392.0  \n",
       "Bath Beach              785.0      1767.0               1302.0  \n",
       "Bay Terrace             563.0      1282.0               2261.0  \n",
       "...                       ...         ...                  ...  \n",
       "Westerleigh             439.0      1114.0                907.0  \n",
       "Willowbrook            1241.0      3092.0               3590.0  \n",
       "Wingate                2602.0      6208.0               4557.0  \n",
       "Woodhaven               267.0       649.0                507.0  \n",
       "Woodlawn               1001.0      2466.0               1713.0  \n",
       "\n",
       "[159 rows x 11 columns]"
      ]
     },
<<<<<<< HEAD
     "execution_count": 134,
=======
     "execution_count": 123,
>>>>>>> 2754662517964e6af87550162a775a463e39e1dc
     "metadata": {},
     "output_type": "execute_result"
    }
   ],
   "source": [
    "rats_sum"
   ]
  },
  {
   "cell_type": "code",
<<<<<<< HEAD
   "execution_count": 135,
=======
   "execution_count": 124,
>>>>>>> 2754662517964e6af87550162a775a463e39e1dc
   "id": "1dcd0307",
   "metadata": {},
   "outputs": [
    {
     "data": {
      "text/html": [
       "<div>\n",
       "<style scoped>\n",
       "    .dataframe tbody tr th:only-of-type {\n",
       "        vertical-align: middle;\n",
       "    }\n",
       "\n",
       "    .dataframe tbody tr th {\n",
       "        vertical-align: top;\n",
       "    }\n",
       "\n",
       "    .dataframe thead th {\n",
       "        text-align: right;\n",
       "    }\n",
       "</style>\n",
       "<table border=\"1\" class=\"dataframe\">\n",
       "  <thead>\n",
       "    <tr style=\"text-align: right;\">\n",
       "      <th></th>\n",
       "      <th>Case Open?</th>\n",
       "      <th>Latitude</th>\n",
       "      <th>Longitude</th>\n",
       "      <th>Incident Zip</th>\n",
       "      <th>Created Year</th>\n",
       "      <th>Created Month</th>\n",
       "      <th>Created Day</th>\n",
       "      <th>Closed Year</th>\n",
       "      <th>Closed Month</th>\n",
       "      <th>Closed Day</th>\n",
       "      <th>Days Complaint Open</th>\n",
       "    </tr>\n",
       "    <tr>\n",
       "      <th>Neighbourhood</th>\n",
       "      <th></th>\n",
       "      <th></th>\n",
       "      <th></th>\n",
       "      <th></th>\n",
       "      <th></th>\n",
       "      <th></th>\n",
       "      <th></th>\n",
       "      <th></th>\n",
       "      <th></th>\n",
       "      <th></th>\n",
       "      <th></th>\n",
       "    </tr>\n",
       "  </thead>\n",
       "  <tbody>\n",
       "    <tr>\n",
       "      <th>Allerton</th>\n",
       "      <td>0.057087</td>\n",
       "      <td>40.873891</td>\n",
       "      <td>-73.870889</td>\n",
       "      <td>10467.000000</td>\n",
       "      <td>2016.271654</td>\n",
       "      <td>6.549213</td>\n",
       "      <td>15.318898</td>\n",
       "      <td>2016.437500</td>\n",
       "      <td>6.783333</td>\n",
       "      <td>15.204167</td>\n",
       "      <td>7.256250</td>\n",
       "    </tr>\n",
       "    <tr>\n",
       "      <th>Astoria</th>\n",
       "      <td>0.000000</td>\n",
       "      <td>40.769227</td>\n",
       "      <td>-73.916168</td>\n",
       "      <td>11103.000000</td>\n",
       "      <td>2011.000000</td>\n",
       "      <td>3.000000</td>\n",
       "      <td>13.000000</td>\n",
       "      <td>2011.000000</td>\n",
       "      <td>4.000000</td>\n",
       "      <td>13.000000</td>\n",
       "      <td>31.000000</td>\n",
       "    </tr>\n",
       "    <tr>\n",
       "      <th>Astoria Heights</th>\n",
       "      <td>0.115385</td>\n",
       "      <td>40.776827</td>\n",
       "      <td>-73.909423</td>\n",
       "      <td>11105.000000</td>\n",
       "      <td>2019.861538</td>\n",
       "      <td>6.884615</td>\n",
       "      <td>14.284615</td>\n",
       "      <td>2019.747826</td>\n",
       "      <td>6.686957</td>\n",
       "      <td>16.356522</td>\n",
       "      <td>12.104348</td>\n",
       "    </tr>\n",
       "    <tr>\n",
       "      <th>Bath Beach</th>\n",
       "      <td>0.079365</td>\n",
       "      <td>40.600120</td>\n",
       "      <td>-73.998241</td>\n",
       "      <td>11214.000000</td>\n",
       "      <td>2016.253968</td>\n",
       "      <td>6.484127</td>\n",
       "      <td>16.206349</td>\n",
       "      <td>2016.258621</td>\n",
       "      <td>6.767241</td>\n",
       "      <td>15.232759</td>\n",
       "      <td>11.224138</td>\n",
       "    </tr>\n",
       "    <tr>\n",
       "      <th>Bay Terrace</th>\n",
       "      <td>0.084337</td>\n",
       "      <td>40.567433</td>\n",
       "      <td>-74.128813</td>\n",
       "      <td>10371.373494</td>\n",
       "      <td>2016.240964</td>\n",
       "      <td>6.686747</td>\n",
       "      <td>14.987952</td>\n",
       "      <td>2016.500000</td>\n",
       "      <td>7.407895</td>\n",
       "      <td>16.868421</td>\n",
       "      <td>29.750000</td>\n",
       "    </tr>\n",
       "    <tr>\n",
       "      <th>...</th>\n",
       "      <td>...</td>\n",
       "      <td>...</td>\n",
       "      <td>...</td>\n",
       "      <td>...</td>\n",
       "      <td>...</td>\n",
       "      <td>...</td>\n",
       "      <td>...</td>\n",
       "      <td>...</td>\n",
       "      <td>...</td>\n",
       "      <td>...</td>\n",
       "      <td>...</td>\n",
       "    </tr>\n",
       "    <tr>\n",
       "      <th>Westerleigh</th>\n",
       "      <td>0.083333</td>\n",
       "      <td>40.631035</td>\n",
       "      <td>-74.136106</td>\n",
       "      <td>10302.000000</td>\n",
       "      <td>2017.263889</td>\n",
       "      <td>6.597222</td>\n",
       "      <td>15.416667</td>\n",
       "      <td>2017.208955</td>\n",
       "      <td>6.552239</td>\n",
       "      <td>16.626866</td>\n",
       "      <td>13.537313</td>\n",
       "    </tr>\n",
       "    <tr>\n",
       "      <th>Willowbrook</th>\n",
       "      <td>0.076142</td>\n",
       "      <td>40.608194</td>\n",
       "      <td>-74.144464</td>\n",
       "      <td>10314.000000</td>\n",
       "      <td>2016.233503</td>\n",
       "      <td>6.431472</td>\n",
       "      <td>15.756345</td>\n",
       "      <td>2016.437158</td>\n",
       "      <td>6.781421</td>\n",
       "      <td>16.896175</td>\n",
       "      <td>19.617486</td>\n",
       "    </tr>\n",
       "    <tr>\n",
       "      <th>Wingate</th>\n",
       "      <td>0.055000</td>\n",
       "      <td>40.670930</td>\n",
       "      <td>-73.936284</td>\n",
       "      <td>11213.000000</td>\n",
       "      <td>2016.830000</td>\n",
       "      <td>6.562500</td>\n",
       "      <td>16.585000</td>\n",
       "      <td>2016.841689</td>\n",
       "      <td>6.865435</td>\n",
       "      <td>16.379947</td>\n",
       "      <td>12.023747</td>\n",
       "    </tr>\n",
       "    <tr>\n",
       "      <th>Woodhaven</th>\n",
       "      <td>0.088889</td>\n",
       "      <td>40.690600</td>\n",
       "      <td>-73.857587</td>\n",
       "      <td>11421.000000</td>\n",
       "      <td>2015.644444</td>\n",
       "      <td>6.266667</td>\n",
       "      <td>15.177778</td>\n",
       "      <td>2015.571429</td>\n",
       "      <td>6.357143</td>\n",
       "      <td>15.452381</td>\n",
       "      <td>12.071429</td>\n",
       "    </tr>\n",
       "    <tr>\n",
       "      <th>Woodlawn</th>\n",
       "      <td>0.045161</td>\n",
       "      <td>40.890707</td>\n",
       "      <td>-73.852034</td>\n",
       "      <td>10466.077419</td>\n",
       "      <td>2016.154839</td>\n",
       "      <td>6.458065</td>\n",
       "      <td>16.070968</td>\n",
       "      <td>2016.337838</td>\n",
       "      <td>6.763514</td>\n",
       "      <td>16.662162</td>\n",
       "      <td>11.574324</td>\n",
       "    </tr>\n",
       "  </tbody>\n",
       "</table>\n",
       "<p>159 rows × 11 columns</p>\n",
       "</div>"
      ],
      "text/plain": [
       "                 Case Open?   Latitude  Longitude  Incident Zip  Created Year  \\\n",
       "Neighbourhood                                                                   \n",
       "Allerton           0.057087  40.873891 -73.870889  10467.000000   2016.271654   \n",
       "Astoria            0.000000  40.769227 -73.916168  11103.000000   2011.000000   \n",
       "Astoria Heights    0.115385  40.776827 -73.909423  11105.000000   2019.861538   \n",
       "Bath Beach         0.079365  40.600120 -73.998241  11214.000000   2016.253968   \n",
       "Bay Terrace        0.084337  40.567433 -74.128813  10371.373494   2016.240964   \n",
       "...                     ...        ...        ...           ...           ...   \n",
       "Westerleigh        0.083333  40.631035 -74.136106  10302.000000   2017.263889   \n",
       "Willowbrook        0.076142  40.608194 -74.144464  10314.000000   2016.233503   \n",
       "Wingate            0.055000  40.670930 -73.936284  11213.000000   2016.830000   \n",
       "Woodhaven          0.088889  40.690600 -73.857587  11421.000000   2015.644444   \n",
       "Woodlawn           0.045161  40.890707 -73.852034  10466.077419   2016.154839   \n",
       "\n",
       "                 Created Month  Created Day  Closed Year  Closed Month  \\\n",
       "Neighbourhood                                                            \n",
       "Allerton              6.549213    15.318898  2016.437500      6.783333   \n",
       "Astoria               3.000000    13.000000  2011.000000      4.000000   \n",
       "Astoria Heights       6.884615    14.284615  2019.747826      6.686957   \n",
       "Bath Beach            6.484127    16.206349  2016.258621      6.767241   \n",
       "Bay Terrace           6.686747    14.987952  2016.500000      7.407895   \n",
       "...                        ...          ...          ...           ...   \n",
       "Westerleigh           6.597222    15.416667  2017.208955      6.552239   \n",
       "Willowbrook           6.431472    15.756345  2016.437158      6.781421   \n",
       "Wingate               6.562500    16.585000  2016.841689      6.865435   \n",
       "Woodhaven             6.266667    15.177778  2015.571429      6.357143   \n",
       "Woodlawn              6.458065    16.070968  2016.337838      6.763514   \n",
       "\n",
       "                 Closed Day  Days Complaint Open  \n",
       "Neighbourhood                                     \n",
       "Allerton          15.204167             7.256250  \n",
       "Astoria           13.000000            31.000000  \n",
       "Astoria Heights   16.356522            12.104348  \n",
       "Bath Beach        15.232759            11.224138  \n",
       "Bay Terrace       16.868421            29.750000  \n",
       "...                     ...                  ...  \n",
       "Westerleigh       16.626866            13.537313  \n",
       "Willowbrook       16.896175            19.617486  \n",
       "Wingate           16.379947            12.023747  \n",
       "Woodhaven         15.452381            12.071429  \n",
       "Woodlawn          16.662162            11.574324  \n",
       "\n",
       "[159 rows x 11 columns]"
      ]
     },
<<<<<<< HEAD
     "execution_count": 135,
=======
     "execution_count": 124,
>>>>>>> 2754662517964e6af87550162a775a463e39e1dc
     "metadata": {},
     "output_type": "execute_result"
    }
   ],
   "source": [
    "rats_mean"
   ]
  },
  {
   "cell_type": "code",
<<<<<<< HEAD
   "execution_count": 136,
=======
   "execution_count": 125,
>>>>>>> 2754662517964e6af87550162a775a463e39e1dc
   "id": "727e33ed",
   "metadata": {},
   "outputs": [
    {
     "data": {
      "text/html": [
       "<div>\n",
       "<style scoped>\n",
       "    .dataframe tbody tr th:only-of-type {\n",
       "        vertical-align: middle;\n",
       "    }\n",
       "\n",
       "    .dataframe tbody tr th {\n",
       "        vertical-align: top;\n",
       "    }\n",
       "\n",
       "    .dataframe thead th {\n",
       "        text-align: right;\n",
       "    }\n",
       "</style>\n",
       "<table border=\"1\" class=\"dataframe\">\n",
       "  <thead>\n",
       "    <tr style=\"text-align: right;\">\n",
       "      <th></th>\n",
       "      <th>Created Date</th>\n",
       "      <th>Closed Date</th>\n",
       "      <th>Case Open?</th>\n",
       "      <th>Borough</th>\n",
       "      <th>Latitude</th>\n",
       "      <th>Longitude</th>\n",
       "      <th>Location</th>\n",
       "      <th>Incident Zip</th>\n",
       "      <th>Created Year</th>\n",
       "      <th>Created Month</th>\n",
       "      <th>Created Day</th>\n",
       "      <th>Closed Year</th>\n",
       "      <th>Closed Month</th>\n",
       "      <th>Closed Day</th>\n",
       "      <th>Days Complaint Open</th>\n",
       "      <th>ll</th>\n",
       "    </tr>\n",
       "    <tr>\n",
       "      <th>Neighbourhood</th>\n",
       "      <th></th>\n",
       "      <th></th>\n",
       "      <th></th>\n",
       "      <th></th>\n",
       "      <th></th>\n",
       "      <th></th>\n",
       "      <th></th>\n",
       "      <th></th>\n",
       "      <th></th>\n",
       "      <th></th>\n",
       "      <th></th>\n",
       "      <th></th>\n",
       "      <th></th>\n",
       "      <th></th>\n",
       "      <th></th>\n",
       "      <th></th>\n",
       "    </tr>\n",
       "  </thead>\n",
       "  <tbody>\n",
       "    <tr>\n",
       "      <th>Allerton</th>\n",
       "      <td>508</td>\n",
       "      <td>480</td>\n",
       "      <td>508</td>\n",
       "      <td>508</td>\n",
       "      <td>507</td>\n",
       "      <td>507</td>\n",
       "      <td>507</td>\n",
       "      <td>508</td>\n",
       "      <td>508</td>\n",
       "      <td>508</td>\n",
       "      <td>508</td>\n",
       "      <td>480</td>\n",
       "      <td>480</td>\n",
       "      <td>480</td>\n",
       "      <td>480</td>\n",
       "      <td>508</td>\n",
       "    </tr>\n",
       "    <tr>\n",
       "      <th>Astoria</th>\n",
       "      <td>1</td>\n",
       "      <td>1</td>\n",
       "      <td>1</td>\n",
       "      <td>1</td>\n",
       "      <td>1</td>\n",
       "      <td>1</td>\n",
       "      <td>1</td>\n",
       "      <td>1</td>\n",
       "      <td>1</td>\n",
       "      <td>1</td>\n",
       "      <td>1</td>\n",
       "      <td>1</td>\n",
       "      <td>1</td>\n",
       "      <td>1</td>\n",
       "      <td>1</td>\n",
       "      <td>1</td>\n",
       "    </tr>\n",
       "    <tr>\n",
       "      <th>Astoria Heights</th>\n",
       "      <td>130</td>\n",
       "      <td>115</td>\n",
       "      <td>130</td>\n",
       "      <td>130</td>\n",
       "      <td>130</td>\n",
       "      <td>130</td>\n",
       "      <td>130</td>\n",
       "      <td>130</td>\n",
       "      <td>130</td>\n",
       "      <td>130</td>\n",
       "      <td>130</td>\n",
       "      <td>115</td>\n",
       "      <td>115</td>\n",
       "      <td>115</td>\n",
       "      <td>115</td>\n",
       "      <td>130</td>\n",
       "    </tr>\n",
       "    <tr>\n",
       "      <th>Bath Beach</th>\n",
       "      <td>126</td>\n",
       "      <td>116</td>\n",
       "      <td>126</td>\n",
       "      <td>126</td>\n",
       "      <td>125</td>\n",
       "      <td>125</td>\n",
       "      <td>125</td>\n",
       "      <td>126</td>\n",
       "      <td>126</td>\n",
       "      <td>126</td>\n",
       "      <td>126</td>\n",
       "      <td>116</td>\n",
       "      <td>116</td>\n",
       "      <td>116</td>\n",
       "      <td>116</td>\n",
       "      <td>126</td>\n",
       "    </tr>\n",
       "    <tr>\n",
       "      <th>Bay Terrace</th>\n",
       "      <td>83</td>\n",
       "      <td>76</td>\n",
       "      <td>83</td>\n",
       "      <td>83</td>\n",
       "      <td>83</td>\n",
       "      <td>83</td>\n",
       "      <td>83</td>\n",
       "      <td>83</td>\n",
       "      <td>83</td>\n",
       "      <td>83</td>\n",
       "      <td>83</td>\n",
       "      <td>76</td>\n",
       "      <td>76</td>\n",
       "      <td>76</td>\n",
       "      <td>76</td>\n",
       "      <td>83</td>\n",
       "    </tr>\n",
       "    <tr>\n",
       "      <th>...</th>\n",
       "      <td>...</td>\n",
       "      <td>...</td>\n",
       "      <td>...</td>\n",
       "      <td>...</td>\n",
       "      <td>...</td>\n",
       "      <td>...</td>\n",
       "      <td>...</td>\n",
       "      <td>...</td>\n",
       "      <td>...</td>\n",
       "      <td>...</td>\n",
       "      <td>...</td>\n",
       "      <td>...</td>\n",
       "      <td>...</td>\n",
       "      <td>...</td>\n",
       "      <td>...</td>\n",
       "      <td>...</td>\n",
       "    </tr>\n",
       "    <tr>\n",
       "      <th>Westerleigh</th>\n",
       "      <td>72</td>\n",
       "      <td>67</td>\n",
       "      <td>72</td>\n",
       "      <td>72</td>\n",
       "      <td>71</td>\n",
       "      <td>71</td>\n",
       "      <td>71</td>\n",
       "      <td>72</td>\n",
       "      <td>72</td>\n",
       "      <td>72</td>\n",
       "      <td>72</td>\n",
       "      <td>67</td>\n",
       "      <td>67</td>\n",
       "      <td>67</td>\n",
       "      <td>67</td>\n",
       "      <td>72</td>\n",
       "    </tr>\n",
       "    <tr>\n",
       "      <th>Willowbrook</th>\n",
       "      <td>197</td>\n",
       "      <td>183</td>\n",
       "      <td>197</td>\n",
       "      <td>197</td>\n",
       "      <td>197</td>\n",
       "      <td>197</td>\n",
       "      <td>197</td>\n",
       "      <td>197</td>\n",
       "      <td>197</td>\n",
       "      <td>197</td>\n",
       "      <td>197</td>\n",
       "      <td>183</td>\n",
       "      <td>183</td>\n",
       "      <td>183</td>\n",
       "      <td>183</td>\n",
       "      <td>197</td>\n",
       "    </tr>\n",
       "    <tr>\n",
       "      <th>Wingate</th>\n",
       "      <td>400</td>\n",
       "      <td>379</td>\n",
       "      <td>400</td>\n",
       "      <td>400</td>\n",
       "      <td>395</td>\n",
       "      <td>395</td>\n",
       "      <td>395</td>\n",
       "      <td>400</td>\n",
       "      <td>400</td>\n",
       "      <td>400</td>\n",
       "      <td>400</td>\n",
       "      <td>379</td>\n",
       "      <td>379</td>\n",
       "      <td>379</td>\n",
       "      <td>379</td>\n",
       "      <td>400</td>\n",
       "    </tr>\n",
       "    <tr>\n",
       "      <th>Woodhaven</th>\n",
       "      <td>45</td>\n",
       "      <td>42</td>\n",
       "      <td>45</td>\n",
       "      <td>45</td>\n",
       "      <td>45</td>\n",
       "      <td>45</td>\n",
       "      <td>45</td>\n",
       "      <td>45</td>\n",
       "      <td>45</td>\n",
       "      <td>45</td>\n",
       "      <td>45</td>\n",
       "      <td>42</td>\n",
       "      <td>42</td>\n",
       "      <td>42</td>\n",
       "      <td>42</td>\n",
       "      <td>45</td>\n",
       "    </tr>\n",
       "    <tr>\n",
       "      <th>Woodlawn</th>\n",
       "      <td>155</td>\n",
       "      <td>148</td>\n",
       "      <td>155</td>\n",
       "      <td>155</td>\n",
       "      <td>155</td>\n",
       "      <td>155</td>\n",
       "      <td>155</td>\n",
       "      <td>155</td>\n",
       "      <td>155</td>\n",
       "      <td>155</td>\n",
       "      <td>155</td>\n",
       "      <td>148</td>\n",
       "      <td>148</td>\n",
       "      <td>148</td>\n",
       "      <td>148</td>\n",
       "      <td>155</td>\n",
       "    </tr>\n",
       "  </tbody>\n",
       "</table>\n",
       "<p>159 rows × 16 columns</p>\n",
       "</div>"
      ],
      "text/plain": [
       "                 Created Date  Closed Date  Case Open?  Borough  Latitude  \\\n",
       "Neighbourhood                                                               \n",
       "Allerton                  508          480         508      508       507   \n",
       "Astoria                     1            1           1        1         1   \n",
       "Astoria Heights           130          115         130      130       130   \n",
       "Bath Beach                126          116         126      126       125   \n",
       "Bay Terrace                83           76          83       83        83   \n",
       "...                       ...          ...         ...      ...       ...   \n",
       "Westerleigh                72           67          72       72        71   \n",
       "Willowbrook               197          183         197      197       197   \n",
       "Wingate                   400          379         400      400       395   \n",
       "Woodhaven                  45           42          45       45        45   \n",
       "Woodlawn                  155          148         155      155       155   \n",
       "\n",
       "                 Longitude  Location  Incident Zip  Created Year  \\\n",
       "Neighbourhood                                                      \n",
       "Allerton               507       507           508           508   \n",
       "Astoria                  1         1             1             1   \n",
       "Astoria Heights        130       130           130           130   \n",
       "Bath Beach             125       125           126           126   \n",
       "Bay Terrace             83        83            83            83   \n",
       "...                    ...       ...           ...           ...   \n",
       "Westerleigh             71        71            72            72   \n",
       "Willowbrook            197       197           197           197   \n",
       "Wingate                395       395           400           400   \n",
       "Woodhaven               45        45            45            45   \n",
       "Woodlawn               155       155           155           155   \n",
       "\n",
       "                 Created Month  Created Day  Closed Year  Closed Month  \\\n",
       "Neighbourhood                                                            \n",
       "Allerton                   508          508          480           480   \n",
       "Astoria                      1            1            1             1   \n",
       "Astoria Heights            130          130          115           115   \n",
       "Bath Beach                 126          126          116           116   \n",
       "Bay Terrace                 83           83           76            76   \n",
       "...                        ...          ...          ...           ...   \n",
       "Westerleigh                 72           72           67            67   \n",
       "Willowbrook                197          197          183           183   \n",
       "Wingate                    400          400          379           379   \n",
       "Woodhaven                   45           45           42            42   \n",
       "Woodlawn                   155          155          148           148   \n",
       "\n",
       "                 Closed Day  Days Complaint Open   ll  \n",
       "Neighbourhood                                          \n",
       "Allerton                480                  480  508  \n",
       "Astoria                   1                    1    1  \n",
       "Astoria Heights         115                  115  130  \n",
       "Bath Beach              116                  116  126  \n",
       "Bay Terrace              76                   76   83  \n",
       "...                     ...                  ...  ...  \n",
       "Westerleigh              67                   67   72  \n",
       "Willowbrook             183                  183  197  \n",
       "Wingate                 379                  379  400  \n",
       "Woodhaven                42                   42   45  \n",
       "Woodlawn                148                  148  155  \n",
       "\n",
       "[159 rows x 16 columns]"
      ]
     },
<<<<<<< HEAD
     "execution_count": 136,
=======
     "execution_count": 125,
>>>>>>> 2754662517964e6af87550162a775a463e39e1dc
     "metadata": {},
     "output_type": "execute_result"
    }
   ],
   "source": [
    "rats_count"
   ]
  },
  {
   "cell_type": "code",
<<<<<<< HEAD
   "execution_count": 137,
=======
   "execution_count": 126,
>>>>>>> 2754662517964e6af87550162a775a463e39e1dc
   "id": "8ab49b30",
   "metadata": {},
   "outputs": [],
   "source": [
    "df_list = ['resto_count', 'resto_mean', 'resto_sum', 'school_count', 'school_mean', 'school_sum', \n",
    "           'park_count','park_mean', 'park_sum', 'transit_count', 'transit_mean', 'transit_sum', \n",
    "           'grocery_count', 'grocery_mean', 'grocery_sum', 'rats_sum', 'rats_count', 'rats_mean', \n",
    "           'uber_df_sum', 'uber_df_count', 'uber_df_mean']"
   ]
  },
  {
   "cell_type": "code",
<<<<<<< HEAD
   "execution_count": 138,
=======
   "execution_count": 127,
>>>>>>> 2754662517964e6af87550162a775a463e39e1dc
   "id": "2d50fa5e",
   "metadata": {},
   "outputs": [
    {
     "data": {
      "text/plain": [
       "['resto_count',\n",
       " 'resto_mean',\n",
       " 'resto_sum',\n",
       " 'school_count',\n",
       " 'school_mean',\n",
       " 'school_sum',\n",
       " 'park_count',\n",
       " 'park_mean',\n",
       " 'park_sum',\n",
       " 'transit_count',\n",
       " 'transit_mean',\n",
       " 'transit_sum',\n",
       " 'grocery_count',\n",
       " 'grocery_mean',\n",
       " 'grocery_sum',\n",
       " 'rats_sum',\n",
       " 'rats_count',\n",
       " 'rats_mean',\n",
       " 'uber_df_sum',\n",
       " 'uber_df_count',\n",
       " 'uber_df_mean']"
      ]
     },
<<<<<<< HEAD
     "execution_count": 138,
=======
     "execution_count": 127,
>>>>>>> 2754662517964e6af87550162a775a463e39e1dc
     "metadata": {},
     "output_type": "execute_result"
    }
   ],
   "source": [
    "df_list"
   ]
  },
  {
   "cell_type": "code",
<<<<<<< HEAD
   "execution_count": 139,
=======
   "execution_count": 128,
>>>>>>> 2754662517964e6af87550162a775a463e39e1dc
   "id": "aeb9c8d2",
   "metadata": {},
   "outputs": [
    {
     "name": "stdout",
     "output_type": "stream",
     "text": [
      "resto_count.to_csv('resto_count.csv', index=True)\n",
      "resto_mean.to_csv('resto_mean.csv', index=True)\n",
      "resto_sum.to_csv('resto_sum.csv', index=True)\n",
      "school_count.to_csv('school_count.csv', index=True)\n",
      "school_mean.to_csv('school_mean.csv', index=True)\n",
      "school_sum.to_csv('school_sum.csv', index=True)\n",
      "park_count.to_csv('park_count.csv', index=True)\n",
      "park_mean.to_csv('park_mean.csv', index=True)\n",
      "park_sum.to_csv('park_sum.csv', index=True)\n",
      "transit_count.to_csv('transit_count.csv', index=True)\n",
      "transit_mean.to_csv('transit_mean.csv', index=True)\n",
      "transit_sum.to_csv('transit_sum.csv', index=True)\n",
      "grocery_count.to_csv('grocery_count.csv', index=True)\n",
      "grocery_mean.to_csv('grocery_mean.csv', index=True)\n",
      "grocery_sum.to_csv('grocery_sum.csv', index=True)\n",
      "rats_sum.to_csv('rats_sum.csv', index=True)\n",
      "rats_count.to_csv('rats_count.csv', index=True)\n",
      "rats_mean.to_csv('rats_mean.csv', index=True)\n",
      "uber_df_sum.to_csv('uber_df_sum.csv', index=True)\n",
      "uber_df_count.to_csv('uber_df_count.csv', index=True)\n",
      "uber_df_mean.to_csv('uber_df_mean.csv', index=True)\n"
     ]
    }
   ],
   "source": [
    "# exporting csvs\n",
    "for i in range(len(df_list)):\n",
    "    print(df_list[i] + '.to_csv(\\'' + df_list[i] + '.csv\\', index=True)')"
   ]
  },
  {
   "cell_type": "code",
<<<<<<< HEAD
   "execution_count": null,
   "id": "f9035a10",
=======
   "execution_count": 129,
   "id": "252ccfb4",
>>>>>>> 2754662517964e6af87550162a775a463e39e1dc
   "metadata": {},
   "outputs": [],
   "source": [
    "resto_count.to_csv('resto_count.csv', index=True)\n",
    "resto_mean.to_csv('resto_mean.csv', index=True)\n",
    "resto_sum.to_csv('resto_sum.csv', index=True)\n",
    "school_count.to_csv('school_count.csv', index=True)\n",
    "school_mean.to_csv('school_mean.csv', index=True)\n",
    "school_sum.to_csv('school_sum.csv', index=True)\n",
    "park_count.to_csv('park_count.csv', index=True)\n",
    "park_mean.to_csv('park_mean.csv', index=True)\n",
    "park_sum.to_csv('park_sum.csv', index=True)\n",
    "transit_count.to_csv('transit_count.csv', index=True)\n",
    "transit_mean.to_csv('transit_mean.csv', index=True)\n",
    "transit_sum.to_csv('transit_sum.csv', index=True)\n",
    "grocery_count.to_csv('grocery_count.csv', index=True)\n",
    "grocery_mean.to_csv('grocery_mean.csv', index=True)\n",
    "grocery_sum.to_csv('grocery_sum.csv', index=True)\n",
    "rats_sum.to_csv('rats_sum.csv', index=True)\n",
    "rats_count.to_csv('rats_count.csv', index=True)\n",
    "rats_mean.to_csv('rats_mean.csv', index=True)\n",
    "uber_df_sum.to_csv('uber_df_sum.csv', index=True)\n",
    "uber_df_count.to_csv('uber_df_count.csv', index=True)\n",
    "uber_df_mean.to_csv('uber_df_mean.csv', index=True)"
   ]
  },
  {
   "cell_type": "code",
   "execution_count": null,
   "id": "944c2789",
   "metadata": {},
   "outputs": [],
   "source": []
  }
 ],
 "metadata": {
  "kernelspec": {
   "display_name": "Python 3.9.13 ('project_env')",
   "language": "python",
   "name": "python3"
  },
  "language_info": {
   "codemirror_mode": {
    "name": "ipython",
    "version": 3
   },
   "file_extension": ".py",
   "mimetype": "text/x-python",
   "name": "python",
   "nbconvert_exporter": "python",
   "pygments_lexer": "ipython3",
   "version": "3.9.13"
  },
  "vscode": {
   "interpreter": {
    "hash": "cab4d223de3b4302c2a639a020fd916bf60f907757187d366ed338efdc50eea1"
   }
  }
 },
 "nbformat": 4,
 "nbformat_minor": 5
}
